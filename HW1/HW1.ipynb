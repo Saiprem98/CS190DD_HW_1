{
 "cells": [
  {
   "cell_type": "markdown",
   "metadata": {
    "id": "DoO-oCQXottz"
   },
   "source": [
    "# Homework 1\n",
    "\n",
    "**DUE OCT 19th by 11:59PM**\n",
    "\n",
    "Homework 1 is done in Jupyter Notebook to give you a chance to familiarize yourself to this powerful tool for data analysis. \n",
    "\n",
    "In Jupyter Notebook, codes and texts are executed in cells. Texts are written in Markdown cell, as you can see in the homework instructions below. Codes are written in code cells. Cells are run one at a time. You can change the cell type by navigating to Cell -> Cell Type.\n",
    "\n",
    "There are spaces for you to enter your answers to the questions, either in code or text. Feel free to add more cells if you need (likely).\n",
    "\n",
    "In many parts, some Scikit-learn functions and classes have already been imported to give you leads on what you may need to use. You still need to refer to the Scikit-learn documentation to learn how the classes and methods work. You can use other publicly available libraries and packages if you want, as long as they finish the work. \n",
    "\n",
    "You are expected to turn in a **pdf version** of this notebook with all your **codes, results, and figures**. Make sure the figures and results are visible as you want them to appear in the pdf before turning it in. Please do not modify the instructions as doing so will limit our ability to follow and grade your answers."
   ]
  },
  {
   "cell_type": "markdown",
   "metadata": {
    "id": "9QnIt4o0qmGP"
   },
   "source": [
    "## Problem 1\n",
    "\n",
    "Increase your familiarity with Github. This problem needs to be finished with a partner. Follow these steps to finish the problem:\n",
    "\n",
    "1.   Create a github account.\n",
    "2.   Create a public repository and push a helloworld.py file.\n",
    "3.   Person $A$ forks Person $B$'s repo and modifies the file, then pushes to their own fork and finally creates a pull request for person B to merge.\n",
    "4.   Person $B$ reviews and merges the pull request.\n",
    "5.   Do the same for $A$ and $B$ reversed.\n",
    "\n",
    "Provide the links to your repo and your partner's repo."
   ]
  },
  {
   "cell_type": "markdown",
   "metadata": {},
   "source": [
    "The link for my repo: https://github.com/Saiprem98/CS190DD_HW1\n",
    "\n",
    "The link for my partner's repo: https://github.com/priya107/cs190dd_hw1"
   ]
  },
  {
   "cell_type": "markdown",
   "metadata": {
    "id": "qKgBcjsyott0"
   },
   "source": [
    "## Problem 2\n",
    "\n",
    "In this problem, you will consider solving the least-squared problem in two different approaches, one using Gradient Descent and the other using the formula. After that, you will compare the results you get from both approaches."
   ]
  },
  {
   "cell_type": "markdown",
   "metadata": {
    "id": "afphJhGpott1"
   },
   "source": [
    "a) Load the 1-D data and the labels from **'linear_regression.csv'**. The first column contains the data values and the second column contains the labels. Store the data in a variable ***X***. Similarly, store the labels in a variable ***y***."
   ]
  },
  {
   "cell_type": "code",
   "execution_count": 1,
   "metadata": {
    "id": "nDFz3_7oott1"
   },
   "outputs": [],
   "source": [
    "import numpy as np\n",
    "import matplotlib.pyplot as plt\n",
    "import pandas as pd\n",
    "from sklearn.linear_model import LinearRegression"
   ]
  },
  {
   "cell_type": "code",
   "execution_count": 2,
   "metadata": {},
   "outputs": [],
   "source": [
    "dataset = pd.read_csv('linear_regression.csv', header = None )\n",
    "X = dataset.iloc[:, :-1].values\n",
    "y = dataset.iloc[:, 1].values"
   ]
  },
  {
   "cell_type": "markdown",
   "metadata": {
    "id": "3SVBu5DHott3"
   },
   "source": [
    "b) Fit a linear regression model, in the form $Ax + b$, using the formula. Print out the parameters $A$ and $b$."
   ]
  },
  {
   "cell_type": "code",
   "execution_count": 3,
   "metadata": {
    "id": "9Fy8FHUHott4"
   },
   "outputs": [
    {
     "data": {
      "text/plain": [
       "LinearRegression(copy_X=True, fit_intercept=True, n_jobs=None, normalize=False)"
      ]
     },
     "execution_count": 3,
     "metadata": {},
     "output_type": "execute_result"
    }
   ],
   "source": [
    "#Fit a linear regression model, in the form  𝐴𝑥+𝑏\n",
    "regressor = LinearRegression()\n",
    "regressor.fit(X, y)"
   ]
  },
  {
   "cell_type": "code",
   "execution_count": 9,
   "metadata": {},
   "outputs": [
    {
     "name": "stdout",
     "output_type": "stream",
     "text": [
      "[7.526347]\n",
      "0.20313216364663322\n"
     ]
    }
   ],
   "source": [
    "# Print out the parameters  𝐴  and  𝑏\n",
    "print(regressor.coef_)\n",
    "print(regressor.intercept_)"
   ]
  },
  {
   "cell_type": "markdown",
   "metadata": {
    "id": "ljnZQZS6ott5"
   },
   "source": [
    "Visualize your result in a 2-D plot. Your plot should show the data points and the line $Ax + b$."
   ]
  },
  {
   "cell_type": "code",
   "execution_count": 4,
   "metadata": {
    "id": "8ayp0_6aott6"
   },
   "outputs": [
    {
     "data": {
      "image/png": "[encoded data removed]",
      "text/plain": [
       "<Figure size 432x288 with 1 Axes>"
      ]
     },
     "metadata": {
      "needs_background": "light"
     },
     "output_type": "display_data"
    }
   ],
   "source": [
    "# Visualize your result in a 2-D plot. Your plot should show the data points and the line  𝐴𝑥+𝑏\n",
    "plt.scatter(X, y, color = 'blue')\n",
    "plt.plot(X, regressor.predict(X), color = 'red')\n",
    "plt.title('Linear Regression Plot')\n",
    "plt.xlabel('X-Axis ')\n",
    "plt.ylabel('Y-Axis')\n",
    "plt.show()"
   ]
  },
  {
   "cell_type": "markdown",
   "metadata": {
    "id": "j45fNRvUott8"
   },
   "source": [
    "c) Now, fit a linear regression model using Gradient Descent. Print out the parameters $A$ and $b$."
   ]
  },
  {
   "cell_type": "code",
   "execution_count": 5,
   "metadata": {
    "id": "0yeBTn96ott8"
   },
   "outputs": [
    {
     "data": {
      "text/plain": [
       "SGDRegressor(alpha=0.0001, average=False, early_stopping=False, epsilon=0.1,\n",
       "             eta0=0.01, fit_intercept=True, l1_ratio=0.15,\n",
       "             learning_rate='invscaling', loss='squared_loss', max_iter=1000,\n",
       "             n_iter_no_change=5, penalty='l2', power_t=0.25, random_state=None,\n",
       "             shuffle=True, tol=0.001, validation_fraction=0.1, verbose=0,\n",
       "             warm_start=False)"
      ]
     },
     "execution_count": 5,
     "metadata": {},
     "output_type": "execute_result"
    }
   ],
   "source": [
    "# Now, fit a linear regression model using Gradient Descent\n",
    "from sklearn.linear_model import SGDRegressor\n",
    "regressor = SGDRegressor()\n",
    "regressor.fit(X, y)\n",
    "\n"
   ]
  },
  {
   "cell_type": "code",
   "execution_count": 12,
   "metadata": {},
   "outputs": [
    {
     "name": "stdout",
     "output_type": "stream",
     "text": [
      "[4.46731646]\n",
      "[3.29906029]\n"
     ]
    }
   ],
   "source": [
    "# Print out the parameters  𝐴  and  𝑏 \n",
    "print(regressor.coef_)\n",
    "print(regressor.intercept_)"
   ]
  },
  {
   "cell_type": "markdown",
   "metadata": {
    "id": "AFyYnKvLott-"
   },
   "source": [
    "Visualize your result in a 2-D plot similar to that in part **b**. Compare your results from both parts."
   ]
  },
  {
   "cell_type": "code",
   "execution_count": 13,
   "metadata": {
    "id": "sv2sHAXVott-"
   },
   "outputs": [
    {
     "data": {
      "image/png": "[encoded data removed]",
      "text/plain": [
       "<Figure size 432x288 with 1 Axes>"
      ]
     },
     "metadata": {
      "needs_background": "light"
     },
     "output_type": "display_data"
    }
   ],
   "source": [
    "# Visualize your result in a 2-D plot\n",
    "plt.scatter(X, y, color = 'blue')\n",
    "plt.plot(X, regressor.predict(X), color = 'red')\n",
    "plt.title('Gradient Descent')\n",
    "plt.xlabel('X-Axis ')\n",
    "plt.ylabel('Y-Axis')\n",
    "plt.show()"
   ]
  },
  {
   "cell_type": "markdown",
   "metadata": {},
   "source": [
    "When looking at the results for both the gradient descent model and the linear regression model it is easily observable that both the models predict the data differently despite being given the same data. To quantify this we can look at the coefficients and intercepts printed for both functions. To get a more accurate analysis of which model performs better you would need to perform a MSE. "
   ]
  },
  {
   "cell_type": "markdown",
   "metadata": {
    "id": "pJjfeIAuotuA"
   },
   "source": [
    "## Problem 3\n",
    "\n",
    "In this problem, you will train classifiers using two widely used algorithms, Support Vector Machine (SVM) and Random Forest (RF). You will train and fine-tune each model using cross-validation (CV). After that, you will compare the performance of SVM and RF for this problem."
   ]
  },
  {
   "cell_type": "markdown",
   "metadata": {
    "id": "34BoVBR3otuA"
   },
   "source": [
    "a) A 13-D dataset with labels is given in **'wine.csv'**. The last column contains the labels. Store the data and the labels in variables ***X*** and ***y***, respectively."
   ]
  },
  {
   "cell_type": "code",
   "execution_count": 6,
   "metadata": {
    "id": "SRn_EaZqotuB"
   },
   "outputs": [],
   "source": [
    "#  Store the data and the labels in variables X and y\n",
    "import numpy as np\n",
    "import matplotlib.pyplot as plt\n",
    "import pandas as pd\n",
    "\n",
    "dataset = pd.read_csv('wine.csv',header = None)\n",
    "X = dataset.iloc[:, 0:12].values\n",
    "y = dataset.iloc[:, 13].values"
   ]
  },
  {
   "cell_type": "markdown",
   "metadata": {
    "id": "XhA84qMtotuD"
   },
   "source": [
    "Split the data into a train set and a test set. The size of the train set is 90% of the dataset."
   ]
  },
  {
   "cell_type": "code",
   "execution_count": 7,
   "metadata": {
    "id": "w-rLDnz2otuD"
   },
   "outputs": [],
   "source": [
    "# Split the data into a train set and a test set. The size of the train set is 90% of the dataset.\n",
    "from sklearn.model_selection import train_test_split\n",
    "X_train, X_test, y_train, y_test = train_test_split(X, y, test_size = 0.10)"
   ]
  },
  {
   "cell_type": "markdown",
   "metadata": {
    "id": "XzmsEV8HotuF"
   },
   "source": [
    "b) Find a good SVM model by performing 10-fold CV on the train set. Try different set of model parameters and record the resulting model performance during CV. Print out your best model's parameters and its performance (accuracy)."
   ]
  },
  {
   "cell_type": "code",
   "execution_count": 9,
   "metadata": {
    "id": "UkOVB_IKotuF"
   },
   "outputs": [
    {
     "name": "stdout",
     "output_type": "stream",
     "text": [
      "Best parameters set found are:\n",
      "{'C': 100, 'degree': 1, 'gamma': 0.001, 'kernel': 'linear'}\n",
      "\n",
      "Grid scores on development set:\n",
      "0.910 (+/-0.135) for {'C': 1, 'degree': 1, 'gamma': 0.001, 'kernel': 'linear'}\n",
      "0.646 (+/-0.150) for {'C': 1, 'degree': 1, 'gamma': 0.001, 'kernel': 'rbf'}\n",
      "0.910 (+/-0.135) for {'C': 1, 'degree': 1, 'gamma': 0.0001, 'kernel': 'linear'}\n",
      "0.528 (+/-0.060) for {'C': 1, 'degree': 1, 'gamma': 0.0001, 'kernel': 'rbf'}\n",
      "0.910 (+/-0.135) for {'C': 1, 'degree': 2, 'gamma': 0.001, 'kernel': 'linear'}\n",
      "0.646 (+/-0.150) for {'C': 1, 'degree': 2, 'gamma': 0.001, 'kernel': 'rbf'}\n",
      "0.910 (+/-0.135) for {'C': 1, 'degree': 2, 'gamma': 0.0001, 'kernel': 'linear'}\n",
      "0.528 (+/-0.060) for {'C': 1, 'degree': 2, 'gamma': 0.0001, 'kernel': 'rbf'}\n",
      "0.910 (+/-0.135) for {'C': 1, 'degree': 3, 'gamma': 0.001, 'kernel': 'linear'}\n",
      "0.646 (+/-0.150) for {'C': 1, 'degree': 3, 'gamma': 0.001, 'kernel': 'rbf'}\n",
      "0.910 (+/-0.135) for {'C': 1, 'degree': 3, 'gamma': 0.0001, 'kernel': 'linear'}\n",
      "0.528 (+/-0.060) for {'C': 1, 'degree': 3, 'gamma': 0.0001, 'kernel': 'rbf'}\n",
      "0.910 (+/-0.135) for {'C': 1, 'degree': 4, 'gamma': 0.001, 'kernel': 'linear'}\n",
      "0.646 (+/-0.150) for {'C': 1, 'degree': 4, 'gamma': 0.001, 'kernel': 'rbf'}\n",
      "0.910 (+/-0.135) for {'C': 1, 'degree': 4, 'gamma': 0.0001, 'kernel': 'linear'}\n",
      "0.528 (+/-0.060) for {'C': 1, 'degree': 4, 'gamma': 0.0001, 'kernel': 'rbf'}\n",
      "0.910 (+/-0.135) for {'C': 1, 'degree': 5, 'gamma': 0.001, 'kernel': 'linear'}\n",
      "0.646 (+/-0.150) for {'C': 1, 'degree': 5, 'gamma': 0.001, 'kernel': 'rbf'}\n",
      "0.910 (+/-0.135) for {'C': 1, 'degree': 5, 'gamma': 0.0001, 'kernel': 'linear'}\n",
      "0.528 (+/-0.060) for {'C': 1, 'degree': 5, 'gamma': 0.0001, 'kernel': 'rbf'}\n",
      "0.931 (+/-0.151) for {'C': 10, 'degree': 1, 'gamma': 0.001, 'kernel': 'linear'}\n",
      "0.903 (+/-0.192) for {'C': 10, 'degree': 1, 'gamma': 0.001, 'kernel': 'rbf'}\n",
      "0.931 (+/-0.151) for {'C': 10, 'degree': 1, 'gamma': 0.0001, 'kernel': 'linear'}\n",
      "0.689 (+/-0.232) for {'C': 10, 'degree': 1, 'gamma': 0.0001, 'kernel': 'rbf'}\n",
      "0.931 (+/-0.151) for {'C': 10, 'degree': 2, 'gamma': 0.001, 'kernel': 'linear'}\n",
      "0.903 (+/-0.192) for {'C': 10, 'degree': 2, 'gamma': 0.001, 'kernel': 'rbf'}\n",
      "0.931 (+/-0.151) for {'C': 10, 'degree': 2, 'gamma': 0.0001, 'kernel': 'linear'}\n",
      "0.689 (+/-0.232) for {'C': 10, 'degree': 2, 'gamma': 0.0001, 'kernel': 'rbf'}\n",
      "0.931 (+/-0.151) for {'C': 10, 'degree': 3, 'gamma': 0.001, 'kernel': 'linear'}\n",
      "0.903 (+/-0.192) for {'C': 10, 'degree': 3, 'gamma': 0.001, 'kernel': 'rbf'}\n",
      "0.931 (+/-0.151) for {'C': 10, 'degree': 3, 'gamma': 0.0001, 'kernel': 'linear'}\n",
      "0.689 (+/-0.232) for {'C': 10, 'degree': 3, 'gamma': 0.0001, 'kernel': 'rbf'}\n",
      "0.931 (+/-0.151) for {'C': 10, 'degree': 4, 'gamma': 0.001, 'kernel': 'linear'}\n",
      "0.903 (+/-0.192) for {'C': 10, 'degree': 4, 'gamma': 0.001, 'kernel': 'rbf'}\n",
      "0.931 (+/-0.151) for {'C': 10, 'degree': 4, 'gamma': 0.0001, 'kernel': 'linear'}\n",
      "0.689 (+/-0.232) for {'C': 10, 'degree': 4, 'gamma': 0.0001, 'kernel': 'rbf'}\n",
      "0.931 (+/-0.151) for {'C': 10, 'degree': 5, 'gamma': 0.001, 'kernel': 'linear'}\n",
      "0.903 (+/-0.192) for {'C': 10, 'degree': 5, 'gamma': 0.001, 'kernel': 'rbf'}\n",
      "0.931 (+/-0.151) for {'C': 10, 'degree': 5, 'gamma': 0.0001, 'kernel': 'linear'}\n",
      "0.689 (+/-0.232) for {'C': 10, 'degree': 5, 'gamma': 0.0001, 'kernel': 'rbf'}\n",
      "0.937 (+/-0.154) for {'C': 100, 'degree': 1, 'gamma': 0.001, 'kernel': 'linear'}\n",
      "0.910 (+/-0.112) for {'C': 100, 'degree': 1, 'gamma': 0.001, 'kernel': 'rbf'}\n",
      "0.937 (+/-0.154) for {'C': 100, 'degree': 1, 'gamma': 0.0001, 'kernel': 'linear'}\n",
      "0.896 (+/-0.169) for {'C': 100, 'degree': 1, 'gamma': 0.0001, 'kernel': 'rbf'}\n",
      "0.937 (+/-0.154) for {'C': 100, 'degree': 2, 'gamma': 0.001, 'kernel': 'linear'}\n",
      "0.910 (+/-0.112) for {'C': 100, 'degree': 2, 'gamma': 0.001, 'kernel': 'rbf'}\n",
      "0.937 (+/-0.154) for {'C': 100, 'degree': 2, 'gamma': 0.0001, 'kernel': 'linear'}\n",
      "0.896 (+/-0.169) for {'C': 100, 'degree': 2, 'gamma': 0.0001, 'kernel': 'rbf'}\n",
      "0.937 (+/-0.154) for {'C': 100, 'degree': 3, 'gamma': 0.001, 'kernel': 'linear'}\n",
      "0.910 (+/-0.112) for {'C': 100, 'degree': 3, 'gamma': 0.001, 'kernel': 'rbf'}\n",
      "0.937 (+/-0.154) for {'C': 100, 'degree': 3, 'gamma': 0.0001, 'kernel': 'linear'}\n",
      "0.896 (+/-0.169) for {'C': 100, 'degree': 3, 'gamma': 0.0001, 'kernel': 'rbf'}\n",
      "0.937 (+/-0.154) for {'C': 100, 'degree': 4, 'gamma': 0.001, 'kernel': 'linear'}\n",
      "0.910 (+/-0.112) for {'C': 100, 'degree': 4, 'gamma': 0.001, 'kernel': 'rbf'}\n",
      "0.937 (+/-0.154) for {'C': 100, 'degree': 4, 'gamma': 0.0001, 'kernel': 'linear'}\n",
      "0.896 (+/-0.169) for {'C': 100, 'degree': 4, 'gamma': 0.0001, 'kernel': 'rbf'}\n",
      "0.937 (+/-0.154) for {'C': 100, 'degree': 5, 'gamma': 0.001, 'kernel': 'linear'}\n",
      "0.910 (+/-0.112) for {'C': 100, 'degree': 5, 'gamma': 0.001, 'kernel': 'rbf'}\n",
      "0.937 (+/-0.154) for {'C': 100, 'degree': 5, 'gamma': 0.0001, 'kernel': 'linear'}\n",
      "0.896 (+/-0.169) for {'C': 100, 'degree': 5, 'gamma': 0.0001, 'kernel': 'rbf'}\n",
      "0.937 (+/-0.154) for {'C': 1000, 'degree': 1, 'gamma': 0.001, 'kernel': 'linear'}\n",
      "0.903 (+/-0.133) for {'C': 1000, 'degree': 1, 'gamma': 0.001, 'kernel': 'rbf'}\n",
      "0.937 (+/-0.154) for {'C': 1000, 'degree': 1, 'gamma': 0.0001, 'kernel': 'linear'}\n",
      "0.910 (+/-0.127) for {'C': 1000, 'degree': 1, 'gamma': 0.0001, 'kernel': 'rbf'}\n",
      "0.937 (+/-0.154) for {'C': 1000, 'degree': 2, 'gamma': 0.001, 'kernel': 'linear'}\n",
      "0.903 (+/-0.133) for {'C': 1000, 'degree': 2, 'gamma': 0.001, 'kernel': 'rbf'}\n",
      "0.937 (+/-0.154) for {'C': 1000, 'degree': 2, 'gamma': 0.0001, 'kernel': 'linear'}\n",
      "0.910 (+/-0.127) for {'C': 1000, 'degree': 2, 'gamma': 0.0001, 'kernel': 'rbf'}\n",
      "0.937 (+/-0.154) for {'C': 1000, 'degree': 3, 'gamma': 0.001, 'kernel': 'linear'}\n",
      "0.903 (+/-0.133) for {'C': 1000, 'degree': 3, 'gamma': 0.001, 'kernel': 'rbf'}\n",
      "0.937 (+/-0.154) for {'C': 1000, 'degree': 3, 'gamma': 0.0001, 'kernel': 'linear'}\n",
      "0.910 (+/-0.127) for {'C': 1000, 'degree': 3, 'gamma': 0.0001, 'kernel': 'rbf'}\n",
      "0.937 (+/-0.154) for {'C': 1000, 'degree': 4, 'gamma': 0.001, 'kernel': 'linear'}\n",
      "0.903 (+/-0.133) for {'C': 1000, 'degree': 4, 'gamma': 0.001, 'kernel': 'rbf'}\n",
      "0.937 (+/-0.154) for {'C': 1000, 'degree': 4, 'gamma': 0.0001, 'kernel': 'linear'}\n",
      "0.910 (+/-0.127) for {'C': 1000, 'degree': 4, 'gamma': 0.0001, 'kernel': 'rbf'}\n",
      "0.937 (+/-0.154) for {'C': 1000, 'degree': 5, 'gamma': 0.001, 'kernel': 'linear'}\n",
      "0.903 (+/-0.133) for {'C': 1000, 'degree': 5, 'gamma': 0.001, 'kernel': 'rbf'}\n",
      "0.937 (+/-0.154) for {'C': 1000, 'degree': 5, 'gamma': 0.0001, 'kernel': 'linear'}\n",
      "0.910 (+/-0.127) for {'C': 1000, 'degree': 5, 'gamma': 0.0001, 'kernel': 'rbf'}\n",
      "\n",
      "\n",
      "Best parameters set found are:\n",
      "{'C': 1000, 'degree': 1, 'gamma': 0.0001, 'kernel': 'rbf'}\n",
      "\n",
      "Grid scores on development set:\n",
      "0.924 (+/-0.119) for {'C': 1, 'degree': 1, 'gamma': 0.001, 'kernel': 'linear'}\n",
      "0.681 (+/-0.139) for {'C': 1, 'degree': 1, 'gamma': 0.001, 'kernel': 'rbf'}\n",
      "0.924 (+/-0.119) for {'C': 1, 'degree': 1, 'gamma': 0.0001, 'kernel': 'linear'}\n",
      "0.528 (+/-0.097) for {'C': 1, 'degree': 1, 'gamma': 0.0001, 'kernel': 'rbf'}\n",
      "0.924 (+/-0.119) for {'C': 1, 'degree': 2, 'gamma': 0.001, 'kernel': 'linear'}\n",
      "0.681 (+/-0.139) for {'C': 1, 'degree': 2, 'gamma': 0.001, 'kernel': 'rbf'}\n",
      "0.924 (+/-0.119) for {'C': 1, 'degree': 2, 'gamma': 0.0001, 'kernel': 'linear'}\n",
      "0.528 (+/-0.097) for {'C': 1, 'degree': 2, 'gamma': 0.0001, 'kernel': 'rbf'}\n",
      "0.924 (+/-0.119) for {'C': 1, 'degree': 3, 'gamma': 0.001, 'kernel': 'linear'}\n",
      "0.681 (+/-0.139) for {'C': 1, 'degree': 3, 'gamma': 0.001, 'kernel': 'rbf'}\n",
      "0.924 (+/-0.119) for {'C': 1, 'degree': 3, 'gamma': 0.0001, 'kernel': 'linear'}\n",
      "0.528 (+/-0.097) for {'C': 1, 'degree': 3, 'gamma': 0.0001, 'kernel': 'rbf'}\n",
      "0.924 (+/-0.119) for {'C': 1, 'degree': 4, 'gamma': 0.001, 'kernel': 'linear'}\n",
      "0.681 (+/-0.139) for {'C': 1, 'degree': 4, 'gamma': 0.001, 'kernel': 'rbf'}\n",
      "0.924 (+/-0.119) for {'C': 1, 'degree': 4, 'gamma': 0.0001, 'kernel': 'linear'}\n",
      "0.528 (+/-0.097) for {'C': 1, 'degree': 4, 'gamma': 0.0001, 'kernel': 'rbf'}\n",
      "0.924 (+/-0.119) for {'C': 1, 'degree': 5, 'gamma': 0.001, 'kernel': 'linear'}\n",
      "0.681 (+/-0.139) for {'C': 1, 'degree': 5, 'gamma': 0.001, 'kernel': 'rbf'}\n",
      "0.924 (+/-0.119) for {'C': 1, 'degree': 5, 'gamma': 0.0001, 'kernel': 'linear'}\n",
      "0.528 (+/-0.097) for {'C': 1, 'degree': 5, 'gamma': 0.0001, 'kernel': 'rbf'}\n",
      "0.924 (+/-0.141) for {'C': 10, 'degree': 1, 'gamma': 0.001, 'kernel': 'linear'}\n",
      "0.931 (+/-0.097) for {'C': 10, 'degree': 1, 'gamma': 0.001, 'kernel': 'rbf'}\n",
      "0.924 (+/-0.141) for {'C': 10, 'degree': 1, 'gamma': 0.0001, 'kernel': 'linear'}\n",
      "0.758 (+/-0.208) for {'C': 10, 'degree': 1, 'gamma': 0.0001, 'kernel': 'rbf'}\n",
      "0.924 (+/-0.141) for {'C': 10, 'degree': 2, 'gamma': 0.001, 'kernel': 'linear'}\n",
      "0.931 (+/-0.097) for {'C': 10, 'degree': 2, 'gamma': 0.001, 'kernel': 'rbf'}\n",
      "0.924 (+/-0.141) for {'C': 10, 'degree': 2, 'gamma': 0.0001, 'kernel': 'linear'}\n",
      "0.758 (+/-0.208) for {'C': 10, 'degree': 2, 'gamma': 0.0001, 'kernel': 'rbf'}\n",
      "0.924 (+/-0.141) for {'C': 10, 'degree': 3, 'gamma': 0.001, 'kernel': 'linear'}\n",
      "0.931 (+/-0.097) for {'C': 10, 'degree': 3, 'gamma': 0.001, 'kernel': 'rbf'}\n",
      "0.924 (+/-0.141) for {'C': 10, 'degree': 3, 'gamma': 0.0001, 'kernel': 'linear'}\n",
      "0.758 (+/-0.208) for {'C': 10, 'degree': 3, 'gamma': 0.0001, 'kernel': 'rbf'}\n",
      "0.924 (+/-0.141) for {'C': 10, 'degree': 4, 'gamma': 0.001, 'kernel': 'linear'}\n",
      "0.931 (+/-0.097) for {'C': 10, 'degree': 4, 'gamma': 0.001, 'kernel': 'rbf'}\n",
      "0.924 (+/-0.141) for {'C': 10, 'degree': 4, 'gamma': 0.0001, 'kernel': 'linear'}\n",
      "0.758 (+/-0.208) for {'C': 10, 'degree': 4, 'gamma': 0.0001, 'kernel': 'rbf'}\n",
      "0.924 (+/-0.141) for {'C': 10, 'degree': 5, 'gamma': 0.001, 'kernel': 'linear'}\n",
      "0.931 (+/-0.097) for {'C': 10, 'degree': 5, 'gamma': 0.001, 'kernel': 'rbf'}\n",
      "0.924 (+/-0.141) for {'C': 10, 'degree': 5, 'gamma': 0.0001, 'kernel': 'linear'}\n",
      "0.758 (+/-0.208) for {'C': 10, 'degree': 5, 'gamma': 0.0001, 'kernel': 'rbf'}\n",
      "0.924 (+/-0.141) for {'C': 100, 'degree': 1, 'gamma': 0.001, 'kernel': 'linear'}\n",
      "0.923 (+/-0.092) for {'C': 100, 'degree': 1, 'gamma': 0.001, 'kernel': 'rbf'}\n",
      "0.924 (+/-0.141) for {'C': 100, 'degree': 1, 'gamma': 0.0001, 'kernel': 'linear'}\n",
      "0.938 (+/-0.101) for {'C': 100, 'degree': 1, 'gamma': 0.0001, 'kernel': 'rbf'}\n",
      "0.924 (+/-0.141) for {'C': 100, 'degree': 2, 'gamma': 0.001, 'kernel': 'linear'}\n",
      "0.923 (+/-0.092) for {'C': 100, 'degree': 2, 'gamma': 0.001, 'kernel': 'rbf'}\n",
      "0.924 (+/-0.141) for {'C': 100, 'degree': 2, 'gamma': 0.0001, 'kernel': 'linear'}\n",
      "0.938 (+/-0.101) for {'C': 100, 'degree': 2, 'gamma': 0.0001, 'kernel': 'rbf'}\n",
      "0.924 (+/-0.141) for {'C': 100, 'degree': 3, 'gamma': 0.001, 'kernel': 'linear'}\n",
      "0.923 (+/-0.092) for {'C': 100, 'degree': 3, 'gamma': 0.001, 'kernel': 'rbf'}\n",
      "0.924 (+/-0.141) for {'C': 100, 'degree': 3, 'gamma': 0.0001, 'kernel': 'linear'}\n",
      "0.938 (+/-0.101) for {'C': 100, 'degree': 3, 'gamma': 0.0001, 'kernel': 'rbf'}\n",
      "0.924 (+/-0.141) for {'C': 100, 'degree': 4, 'gamma': 0.001, 'kernel': 'linear'}\n",
      "0.923 (+/-0.092) for {'C': 100, 'degree': 4, 'gamma': 0.001, 'kernel': 'rbf'}\n",
      "0.924 (+/-0.141) for {'C': 100, 'degree': 4, 'gamma': 0.0001, 'kernel': 'linear'}\n",
      "0.938 (+/-0.101) for {'C': 100, 'degree': 4, 'gamma': 0.0001, 'kernel': 'rbf'}\n",
      "0.924 (+/-0.141) for {'C': 100, 'degree': 5, 'gamma': 0.001, 'kernel': 'linear'}\n",
      "0.923 (+/-0.092) for {'C': 100, 'degree': 5, 'gamma': 0.001, 'kernel': 'rbf'}\n",
      "0.924 (+/-0.141) for {'C': 100, 'degree': 5, 'gamma': 0.0001, 'kernel': 'linear'}\n",
      "0.938 (+/-0.101) for {'C': 100, 'degree': 5, 'gamma': 0.0001, 'kernel': 'rbf'}\n",
      "0.924 (+/-0.141) for {'C': 1000, 'degree': 1, 'gamma': 0.001, 'kernel': 'linear'}\n",
      "0.910 (+/-0.148) for {'C': 1000, 'degree': 1, 'gamma': 0.001, 'kernel': 'rbf'}\n",
      "0.924 (+/-0.141) for {'C': 1000, 'degree': 1, 'gamma': 0.0001, 'kernel': 'linear'}\n",
      "0.945 (+/-0.070) for {'C': 1000, 'degree': 1, 'gamma': 0.0001, 'kernel': 'rbf'}\n",
      "0.924 (+/-0.141) for {'C': 1000, 'degree': 2, 'gamma': 0.001, 'kernel': 'linear'}\n",
      "0.910 (+/-0.148) for {'C': 1000, 'degree': 2, 'gamma': 0.001, 'kernel': 'rbf'}\n",
      "0.924 (+/-0.141) for {'C': 1000, 'degree': 2, 'gamma': 0.0001, 'kernel': 'linear'}\n",
      "0.945 (+/-0.070) for {'C': 1000, 'degree': 2, 'gamma': 0.0001, 'kernel': 'rbf'}\n",
      "0.924 (+/-0.141) for {'C': 1000, 'degree': 3, 'gamma': 0.001, 'kernel': 'linear'}\n",
      "0.910 (+/-0.148) for {'C': 1000, 'degree': 3, 'gamma': 0.001, 'kernel': 'rbf'}\n",
      "0.924 (+/-0.141) for {'C': 1000, 'degree': 3, 'gamma': 0.0001, 'kernel': 'linear'}\n",
      "0.945 (+/-0.070) for {'C': 1000, 'degree': 3, 'gamma': 0.0001, 'kernel': 'rbf'}\n",
      "0.924 (+/-0.141) for {'C': 1000, 'degree': 4, 'gamma': 0.001, 'kernel': 'linear'}\n",
      "0.910 (+/-0.148) for {'C': 1000, 'degree': 4, 'gamma': 0.001, 'kernel': 'rbf'}\n",
      "0.924 (+/-0.141) for {'C': 1000, 'degree': 4, 'gamma': 0.0001, 'kernel': 'linear'}\n",
      "0.945 (+/-0.070) for {'C': 1000, 'degree': 4, 'gamma': 0.0001, 'kernel': 'rbf'}\n",
      "0.924 (+/-0.141) for {'C': 1000, 'degree': 5, 'gamma': 0.001, 'kernel': 'linear'}\n",
      "0.910 (+/-0.148) for {'C': 1000, 'degree': 5, 'gamma': 0.001, 'kernel': 'rbf'}\n",
      "0.924 (+/-0.141) for {'C': 1000, 'degree': 5, 'gamma': 0.0001, 'kernel': 'linear'}\n",
      "0.945 (+/-0.070) for {'C': 1000, 'degree': 5, 'gamma': 0.0001, 'kernel': 'rbf'}\n",
      "\n",
      "\n"
     ]
    },
    {
     "name": "stdout",
     "output_type": "stream",
     "text": [
      "Best parameters set found are:\n",
      "{'C': 1000, 'degree': 1, 'gamma': 0.0001, 'kernel': 'rbf'}\n",
      "\n",
      "Grid scores on development set:\n",
      "0.924 (+/-0.110) for {'C': 1, 'degree': 1, 'gamma': 0.001, 'kernel': 'linear'}\n",
      "0.660 (+/-0.097) for {'C': 1, 'degree': 1, 'gamma': 0.001, 'kernel': 'rbf'}\n",
      "0.924 (+/-0.110) for {'C': 1, 'degree': 1, 'gamma': 0.0001, 'kernel': 'linear'}\n",
      "0.541 (+/-0.086) for {'C': 1, 'degree': 1, 'gamma': 0.0001, 'kernel': 'rbf'}\n",
      "0.924 (+/-0.110) for {'C': 1, 'degree': 2, 'gamma': 0.001, 'kernel': 'linear'}\n",
      "0.660 (+/-0.097) for {'C': 1, 'degree': 2, 'gamma': 0.001, 'kernel': 'rbf'}\n",
      "0.924 (+/-0.110) for {'C': 1, 'degree': 2, 'gamma': 0.0001, 'kernel': 'linear'}\n",
      "0.541 (+/-0.086) for {'C': 1, 'degree': 2, 'gamma': 0.0001, 'kernel': 'rbf'}\n",
      "0.924 (+/-0.110) for {'C': 1, 'degree': 3, 'gamma': 0.001, 'kernel': 'linear'}\n",
      "0.660 (+/-0.097) for {'C': 1, 'degree': 3, 'gamma': 0.001, 'kernel': 'rbf'}\n",
      "0.924 (+/-0.110) for {'C': 1, 'degree': 3, 'gamma': 0.0001, 'kernel': 'linear'}\n",
      "0.541 (+/-0.086) for {'C': 1, 'degree': 3, 'gamma': 0.0001, 'kernel': 'rbf'}\n",
      "0.924 (+/-0.110) for {'C': 1, 'degree': 4, 'gamma': 0.001, 'kernel': 'linear'}\n",
      "0.660 (+/-0.097) for {'C': 1, 'degree': 4, 'gamma': 0.001, 'kernel': 'rbf'}\n",
      "0.924 (+/-0.110) for {'C': 1, 'degree': 4, 'gamma': 0.0001, 'kernel': 'linear'}\n",
      "0.541 (+/-0.086) for {'C': 1, 'degree': 4, 'gamma': 0.0001, 'kernel': 'rbf'}\n",
      "0.924 (+/-0.110) for {'C': 1, 'degree': 5, 'gamma': 0.001, 'kernel': 'linear'}\n",
      "0.660 (+/-0.097) for {'C': 1, 'degree': 5, 'gamma': 0.001, 'kernel': 'rbf'}\n",
      "0.924 (+/-0.110) for {'C': 1, 'degree': 5, 'gamma': 0.0001, 'kernel': 'linear'}\n",
      "0.541 (+/-0.086) for {'C': 1, 'degree': 5, 'gamma': 0.0001, 'kernel': 'rbf'}\n",
      "0.924 (+/-0.141) for {'C': 10, 'degree': 1, 'gamma': 0.001, 'kernel': 'linear'}\n",
      "0.931 (+/-0.123) for {'C': 10, 'degree': 1, 'gamma': 0.001, 'kernel': 'rbf'}\n",
      "0.924 (+/-0.141) for {'C': 10, 'degree': 1, 'gamma': 0.0001, 'kernel': 'linear'}\n",
      "0.730 (+/-0.179) for {'C': 10, 'degree': 1, 'gamma': 0.0001, 'kernel': 'rbf'}\n",
      "0.924 (+/-0.141) for {'C': 10, 'degree': 2, 'gamma': 0.001, 'kernel': 'linear'}\n",
      "0.931 (+/-0.123) for {'C': 10, 'degree': 2, 'gamma': 0.001, 'kernel': 'rbf'}\n",
      "0.924 (+/-0.141) for {'C': 10, 'degree': 2, 'gamma': 0.0001, 'kernel': 'linear'}\n",
      "0.730 (+/-0.179) for {'C': 10, 'degree': 2, 'gamma': 0.0001, 'kernel': 'rbf'}\n",
      "0.924 (+/-0.141) for {'C': 10, 'degree': 3, 'gamma': 0.001, 'kernel': 'linear'}\n",
      "0.931 (+/-0.123) for {'C': 10, 'degree': 3, 'gamma': 0.001, 'kernel': 'rbf'}\n",
      "0.924 (+/-0.141) for {'C': 10, 'degree': 3, 'gamma': 0.0001, 'kernel': 'linear'}\n",
      "0.730 (+/-0.179) for {'C': 10, 'degree': 3, 'gamma': 0.0001, 'kernel': 'rbf'}\n",
      "0.924 (+/-0.141) for {'C': 10, 'degree': 4, 'gamma': 0.001, 'kernel': 'linear'}\n",
      "0.931 (+/-0.123) for {'C': 10, 'degree': 4, 'gamma': 0.001, 'kernel': 'rbf'}\n",
      "0.924 (+/-0.141) for {'C': 10, 'degree': 4, 'gamma': 0.0001, 'kernel': 'linear'}\n",
      "0.730 (+/-0.179) for {'C': 10, 'degree': 4, 'gamma': 0.0001, 'kernel': 'rbf'}\n",
      "0.924 (+/-0.141) for {'C': 10, 'degree': 5, 'gamma': 0.001, 'kernel': 'linear'}\n",
      "0.931 (+/-0.123) for {'C': 10, 'degree': 5, 'gamma': 0.001, 'kernel': 'rbf'}\n",
      "0.924 (+/-0.141) for {'C': 10, 'degree': 5, 'gamma': 0.0001, 'kernel': 'linear'}\n",
      "0.730 (+/-0.179) for {'C': 10, 'degree': 5, 'gamma': 0.0001, 'kernel': 'rbf'}\n",
      "0.924 (+/-0.141) for {'C': 100, 'degree': 1, 'gamma': 0.001, 'kernel': 'linear'}\n",
      "0.910 (+/-0.094) for {'C': 100, 'degree': 1, 'gamma': 0.001, 'kernel': 'rbf'}\n",
      "0.924 (+/-0.141) for {'C': 100, 'degree': 1, 'gamma': 0.0001, 'kernel': 'linear'}\n",
      "0.938 (+/-0.067) for {'C': 100, 'degree': 1, 'gamma': 0.0001, 'kernel': 'rbf'}\n",
      "0.924 (+/-0.141) for {'C': 100, 'degree': 2, 'gamma': 0.001, 'kernel': 'linear'}\n",
      "0.910 (+/-0.094) for {'C': 100, 'degree': 2, 'gamma': 0.001, 'kernel': 'rbf'}\n",
      "0.924 (+/-0.141) for {'C': 100, 'degree': 2, 'gamma': 0.0001, 'kernel': 'linear'}\n",
      "0.938 (+/-0.067) for {'C': 100, 'degree': 2, 'gamma': 0.0001, 'kernel': 'rbf'}\n",
      "0.924 (+/-0.141) for {'C': 100, 'degree': 3, 'gamma': 0.001, 'kernel': 'linear'}\n",
      "0.910 (+/-0.094) for {'C': 100, 'degree': 3, 'gamma': 0.001, 'kernel': 'rbf'}\n",
      "0.924 (+/-0.141) for {'C': 100, 'degree': 3, 'gamma': 0.0001, 'kernel': 'linear'}\n",
      "0.938 (+/-0.067) for {'C': 100, 'degree': 3, 'gamma': 0.0001, 'kernel': 'rbf'}\n",
      "0.924 (+/-0.141) for {'C': 100, 'degree': 4, 'gamma': 0.001, 'kernel': 'linear'}\n",
      "0.910 (+/-0.094) for {'C': 100, 'degree': 4, 'gamma': 0.001, 'kernel': 'rbf'}\n",
      "0.924 (+/-0.141) for {'C': 100, 'degree': 4, 'gamma': 0.0001, 'kernel': 'linear'}\n",
      "0.938 (+/-0.067) for {'C': 100, 'degree': 4, 'gamma': 0.0001, 'kernel': 'rbf'}\n",
      "0.924 (+/-0.141) for {'C': 100, 'degree': 5, 'gamma': 0.001, 'kernel': 'linear'}\n",
      "0.910 (+/-0.094) for {'C': 100, 'degree': 5, 'gamma': 0.001, 'kernel': 'rbf'}\n",
      "0.924 (+/-0.141) for {'C': 100, 'degree': 5, 'gamma': 0.0001, 'kernel': 'linear'}\n",
      "0.938 (+/-0.067) for {'C': 100, 'degree': 5, 'gamma': 0.0001, 'kernel': 'rbf'}\n",
      "0.924 (+/-0.141) for {'C': 1000, 'degree': 1, 'gamma': 0.001, 'kernel': 'linear'}\n",
      "0.931 (+/-0.076) for {'C': 1000, 'degree': 1, 'gamma': 0.001, 'kernel': 'rbf'}\n",
      "0.924 (+/-0.141) for {'C': 1000, 'degree': 1, 'gamma': 0.0001, 'kernel': 'linear'}\n",
      "0.945 (+/-0.055) for {'C': 1000, 'degree': 1, 'gamma': 0.0001, 'kernel': 'rbf'}\n",
      "0.924 (+/-0.141) for {'C': 1000, 'degree': 2, 'gamma': 0.001, 'kernel': 'linear'}\n",
      "0.931 (+/-0.076) for {'C': 1000, 'degree': 2, 'gamma': 0.001, 'kernel': 'rbf'}\n",
      "0.924 (+/-0.141) for {'C': 1000, 'degree': 2, 'gamma': 0.0001, 'kernel': 'linear'}\n",
      "0.945 (+/-0.055) for {'C': 1000, 'degree': 2, 'gamma': 0.0001, 'kernel': 'rbf'}\n",
      "0.924 (+/-0.141) for {'C': 1000, 'degree': 3, 'gamma': 0.001, 'kernel': 'linear'}\n",
      "0.931 (+/-0.076) for {'C': 1000, 'degree': 3, 'gamma': 0.001, 'kernel': 'rbf'}\n",
      "0.924 (+/-0.141) for {'C': 1000, 'degree': 3, 'gamma': 0.0001, 'kernel': 'linear'}\n",
      "0.945 (+/-0.055) for {'C': 1000, 'degree': 3, 'gamma': 0.0001, 'kernel': 'rbf'}\n",
      "0.924 (+/-0.141) for {'C': 1000, 'degree': 4, 'gamma': 0.001, 'kernel': 'linear'}\n",
      "0.931 (+/-0.076) for {'C': 1000, 'degree': 4, 'gamma': 0.001, 'kernel': 'rbf'}\n",
      "0.924 (+/-0.141) for {'C': 1000, 'degree': 4, 'gamma': 0.0001, 'kernel': 'linear'}\n",
      "0.945 (+/-0.055) for {'C': 1000, 'degree': 4, 'gamma': 0.0001, 'kernel': 'rbf'}\n",
      "0.924 (+/-0.141) for {'C': 1000, 'degree': 5, 'gamma': 0.001, 'kernel': 'linear'}\n",
      "0.931 (+/-0.076) for {'C': 1000, 'degree': 5, 'gamma': 0.001, 'kernel': 'rbf'}\n",
      "0.924 (+/-0.141) for {'C': 1000, 'degree': 5, 'gamma': 0.0001, 'kernel': 'linear'}\n",
      "0.945 (+/-0.055) for {'C': 1000, 'degree': 5, 'gamma': 0.0001, 'kernel': 'rbf'}\n",
      "\n",
      "\n",
      "Best parameters set found are:\n",
      "{'C': 100, 'degree': 1, 'gamma': 0.001, 'kernel': 'rbf'}\n",
      "\n",
      "Grid scores on development set:\n",
      "0.903 (+/-0.101) for {'C': 1, 'degree': 1, 'gamma': 0.001, 'kernel': 'linear'}\n",
      "0.674 (+/-0.163) for {'C': 1, 'degree': 1, 'gamma': 0.001, 'kernel': 'rbf'}\n",
      "0.903 (+/-0.101) for {'C': 1, 'degree': 1, 'gamma': 0.0001, 'kernel': 'linear'}\n",
      "0.549 (+/-0.098) for {'C': 1, 'degree': 1, 'gamma': 0.0001, 'kernel': 'rbf'}\n",
      "0.903 (+/-0.101) for {'C': 1, 'degree': 2, 'gamma': 0.001, 'kernel': 'linear'}\n",
      "0.674 (+/-0.163) for {'C': 1, 'degree': 2, 'gamma': 0.001, 'kernel': 'rbf'}\n",
      "0.903 (+/-0.101) for {'C': 1, 'degree': 2, 'gamma': 0.0001, 'kernel': 'linear'}\n",
      "0.549 (+/-0.098) for {'C': 1, 'degree': 2, 'gamma': 0.0001, 'kernel': 'rbf'}\n",
      "0.903 (+/-0.101) for {'C': 1, 'degree': 3, 'gamma': 0.001, 'kernel': 'linear'}\n",
      "0.674 (+/-0.163) for {'C': 1, 'degree': 3, 'gamma': 0.001, 'kernel': 'rbf'}\n",
      "0.903 (+/-0.101) for {'C': 1, 'degree': 3, 'gamma': 0.0001, 'kernel': 'linear'}\n",
      "0.549 (+/-0.098) for {'C': 1, 'degree': 3, 'gamma': 0.0001, 'kernel': 'rbf'}\n",
      "0.903 (+/-0.101) for {'C': 1, 'degree': 4, 'gamma': 0.001, 'kernel': 'linear'}\n",
      "0.674 (+/-0.163) for {'C': 1, 'degree': 4, 'gamma': 0.001, 'kernel': 'rbf'}\n",
      "0.903 (+/-0.101) for {'C': 1, 'degree': 4, 'gamma': 0.0001, 'kernel': 'linear'}\n",
      "0.549 (+/-0.098) for {'C': 1, 'degree': 4, 'gamma': 0.0001, 'kernel': 'rbf'}\n",
      "0.903 (+/-0.101) for {'C': 1, 'degree': 5, 'gamma': 0.001, 'kernel': 'linear'}\n",
      "0.674 (+/-0.163) for {'C': 1, 'degree': 5, 'gamma': 0.001, 'kernel': 'rbf'}\n",
      "0.903 (+/-0.101) for {'C': 1, 'degree': 5, 'gamma': 0.0001, 'kernel': 'linear'}\n",
      "0.549 (+/-0.098) for {'C': 1, 'degree': 5, 'gamma': 0.0001, 'kernel': 'rbf'}\n",
      "0.937 (+/-0.092) for {'C': 10, 'degree': 1, 'gamma': 0.001, 'kernel': 'linear'}\n",
      "0.903 (+/-0.133) for {'C': 10, 'degree': 1, 'gamma': 0.001, 'kernel': 'rbf'}\n",
      "0.937 (+/-0.092) for {'C': 10, 'degree': 1, 'gamma': 0.0001, 'kernel': 'linear'}\n",
      "0.716 (+/-0.194) for {'C': 10, 'degree': 1, 'gamma': 0.0001, 'kernel': 'rbf'}\n",
      "0.937 (+/-0.092) for {'C': 10, 'degree': 2, 'gamma': 0.001, 'kernel': 'linear'}\n",
      "0.903 (+/-0.133) for {'C': 10, 'degree': 2, 'gamma': 0.001, 'kernel': 'rbf'}\n",
      "0.937 (+/-0.092) for {'C': 10, 'degree': 2, 'gamma': 0.0001, 'kernel': 'linear'}\n",
      "0.716 (+/-0.194) for {'C': 10, 'degree': 2, 'gamma': 0.0001, 'kernel': 'rbf'}\n",
      "0.937 (+/-0.092) for {'C': 10, 'degree': 3, 'gamma': 0.001, 'kernel': 'linear'}\n",
      "0.903 (+/-0.133) for {'C': 10, 'degree': 3, 'gamma': 0.001, 'kernel': 'rbf'}\n",
      "0.937 (+/-0.092) for {'C': 10, 'degree': 3, 'gamma': 0.0001, 'kernel': 'linear'}\n",
      "0.716 (+/-0.194) for {'C': 10, 'degree': 3, 'gamma': 0.0001, 'kernel': 'rbf'}\n",
      "0.937 (+/-0.092) for {'C': 10, 'degree': 4, 'gamma': 0.001, 'kernel': 'linear'}\n",
      "0.903 (+/-0.133) for {'C': 10, 'degree': 4, 'gamma': 0.001, 'kernel': 'rbf'}\n",
      "0.937 (+/-0.092) for {'C': 10, 'degree': 4, 'gamma': 0.0001, 'kernel': 'linear'}\n",
      "0.716 (+/-0.194) for {'C': 10, 'degree': 4, 'gamma': 0.0001, 'kernel': 'rbf'}\n",
      "0.937 (+/-0.092) for {'C': 10, 'degree': 5, 'gamma': 0.001, 'kernel': 'linear'}\n",
      "0.903 (+/-0.133) for {'C': 10, 'degree': 5, 'gamma': 0.001, 'kernel': 'rbf'}\n",
      "0.937 (+/-0.092) for {'C': 10, 'degree': 5, 'gamma': 0.0001, 'kernel': 'linear'}\n",
      "0.716 (+/-0.194) for {'C': 10, 'degree': 5, 'gamma': 0.0001, 'kernel': 'rbf'}\n",
      "0.937 (+/-0.092) for {'C': 100, 'degree': 1, 'gamma': 0.001, 'kernel': 'linear'}\n",
      "0.945 (+/-0.083) for {'C': 100, 'degree': 1, 'gamma': 0.001, 'kernel': 'rbf'}\n",
      "0.937 (+/-0.092) for {'C': 100, 'degree': 1, 'gamma': 0.0001, 'kernel': 'linear'}\n",
      "0.917 (+/-0.093) for {'C': 100, 'degree': 1, 'gamma': 0.0001, 'kernel': 'rbf'}\n",
      "0.937 (+/-0.092) for {'C': 100, 'degree': 2, 'gamma': 0.001, 'kernel': 'linear'}\n",
      "0.945 (+/-0.083) for {'C': 100, 'degree': 2, 'gamma': 0.001, 'kernel': 'rbf'}\n",
      "0.937 (+/-0.092) for {'C': 100, 'degree': 2, 'gamma': 0.0001, 'kernel': 'linear'}\n",
      "0.917 (+/-0.093) for {'C': 100, 'degree': 2, 'gamma': 0.0001, 'kernel': 'rbf'}\n",
      "0.937 (+/-0.092) for {'C': 100, 'degree': 3, 'gamma': 0.001, 'kernel': 'linear'}\n",
      "0.945 (+/-0.083) for {'C': 100, 'degree': 3, 'gamma': 0.001, 'kernel': 'rbf'}\n",
      "0.937 (+/-0.092) for {'C': 100, 'degree': 3, 'gamma': 0.0001, 'kernel': 'linear'}\n",
      "0.917 (+/-0.093) for {'C': 100, 'degree': 3, 'gamma': 0.0001, 'kernel': 'rbf'}\n",
      "0.937 (+/-0.092) for {'C': 100, 'degree': 4, 'gamma': 0.001, 'kernel': 'linear'}\n",
      "0.945 (+/-0.083) for {'C': 100, 'degree': 4, 'gamma': 0.001, 'kernel': 'rbf'}\n",
      "0.937 (+/-0.092) for {'C': 100, 'degree': 4, 'gamma': 0.0001, 'kernel': 'linear'}\n",
      "0.917 (+/-0.093) for {'C': 100, 'degree': 4, 'gamma': 0.0001, 'kernel': 'rbf'}\n",
      "0.937 (+/-0.092) for {'C': 100, 'degree': 5, 'gamma': 0.001, 'kernel': 'linear'}\n",
      "0.945 (+/-0.083) for {'C': 100, 'degree': 5, 'gamma': 0.001, 'kernel': 'rbf'}\n",
      "0.937 (+/-0.092) for {'C': 100, 'degree': 5, 'gamma': 0.0001, 'kernel': 'linear'}\n",
      "0.917 (+/-0.093) for {'C': 100, 'degree': 5, 'gamma': 0.0001, 'kernel': 'rbf'}\n",
      "0.937 (+/-0.092) for {'C': 1000, 'degree': 1, 'gamma': 0.001, 'kernel': 'linear'}\n",
      "0.931 (+/-0.076) for {'C': 1000, 'degree': 1, 'gamma': 0.001, 'kernel': 'rbf'}\n",
      "0.937 (+/-0.092) for {'C': 1000, 'degree': 1, 'gamma': 0.0001, 'kernel': 'linear'}\n",
      "0.931 (+/-0.076) for {'C': 1000, 'degree': 1, 'gamma': 0.0001, 'kernel': 'rbf'}\n",
      "0.937 (+/-0.092) for {'C': 1000, 'degree': 2, 'gamma': 0.001, 'kernel': 'linear'}\n",
      "0.931 (+/-0.076) for {'C': 1000, 'degree': 2, 'gamma': 0.001, 'kernel': 'rbf'}\n",
      "0.937 (+/-0.092) for {'C': 1000, 'degree': 2, 'gamma': 0.0001, 'kernel': 'linear'}\n",
      "0.931 (+/-0.076) for {'C': 1000, 'degree': 2, 'gamma': 0.0001, 'kernel': 'rbf'}\n",
      "0.937 (+/-0.092) for {'C': 1000, 'degree': 3, 'gamma': 0.001, 'kernel': 'linear'}\n",
      "0.931 (+/-0.076) for {'C': 1000, 'degree': 3, 'gamma': 0.001, 'kernel': 'rbf'}\n",
      "0.937 (+/-0.092) for {'C': 1000, 'degree': 3, 'gamma': 0.0001, 'kernel': 'linear'}\n",
      "0.931 (+/-0.076) for {'C': 1000, 'degree': 3, 'gamma': 0.0001, 'kernel': 'rbf'}\n",
      "0.937 (+/-0.092) for {'C': 1000, 'degree': 4, 'gamma': 0.001, 'kernel': 'linear'}\n",
      "0.931 (+/-0.076) for {'C': 1000, 'degree': 4, 'gamma': 0.001, 'kernel': 'rbf'}\n",
      "0.937 (+/-0.092) for {'C': 1000, 'degree': 4, 'gamma': 0.0001, 'kernel': 'linear'}\n",
      "0.931 (+/-0.076) for {'C': 1000, 'degree': 4, 'gamma': 0.0001, 'kernel': 'rbf'}\n",
      "0.937 (+/-0.092) for {'C': 1000, 'degree': 5, 'gamma': 0.001, 'kernel': 'linear'}\n",
      "0.931 (+/-0.076) for {'C': 1000, 'degree': 5, 'gamma': 0.001, 'kernel': 'rbf'}\n",
      "0.937 (+/-0.092) for {'C': 1000, 'degree': 5, 'gamma': 0.0001, 'kernel': 'linear'}\n",
      "0.931 (+/-0.076) for {'C': 1000, 'degree': 5, 'gamma': 0.0001, 'kernel': 'rbf'}\n",
      "\n",
      "\n"
     ]
    },
    {
     "name": "stdout",
     "output_type": "stream",
     "text": [
      "Best parameters set found are:\n",
      "{'C': 1000, 'degree': 1, 'gamma': 0.001, 'kernel': 'rbf'}\n",
      "\n",
      "Grid scores on development set:\n",
      "0.924 (+/-0.067) for {'C': 1, 'degree': 1, 'gamma': 0.001, 'kernel': 'linear'}\n",
      "0.744 (+/-0.116) for {'C': 1, 'degree': 1, 'gamma': 0.001, 'kernel': 'rbf'}\n",
      "0.924 (+/-0.067) for {'C': 1, 'degree': 1, 'gamma': 0.0001, 'kernel': 'linear'}\n",
      "0.639 (+/-0.031) for {'C': 1, 'degree': 1, 'gamma': 0.0001, 'kernel': 'rbf'}\n",
      "0.924 (+/-0.067) for {'C': 1, 'degree': 2, 'gamma': 0.001, 'kernel': 'linear'}\n",
      "0.744 (+/-0.116) for {'C': 1, 'degree': 2, 'gamma': 0.001, 'kernel': 'rbf'}\n",
      "0.924 (+/-0.067) for {'C': 1, 'degree': 2, 'gamma': 0.0001, 'kernel': 'linear'}\n",
      "0.639 (+/-0.031) for {'C': 1, 'degree': 2, 'gamma': 0.0001, 'kernel': 'rbf'}\n",
      "0.924 (+/-0.067) for {'C': 1, 'degree': 3, 'gamma': 0.001, 'kernel': 'linear'}\n",
      "0.744 (+/-0.116) for {'C': 1, 'degree': 3, 'gamma': 0.001, 'kernel': 'rbf'}\n",
      "0.924 (+/-0.067) for {'C': 1, 'degree': 3, 'gamma': 0.0001, 'kernel': 'linear'}\n",
      "0.639 (+/-0.031) for {'C': 1, 'degree': 3, 'gamma': 0.0001, 'kernel': 'rbf'}\n",
      "0.924 (+/-0.067) for {'C': 1, 'degree': 4, 'gamma': 0.001, 'kernel': 'linear'}\n",
      "0.744 (+/-0.116) for {'C': 1, 'degree': 4, 'gamma': 0.001, 'kernel': 'rbf'}\n",
      "0.924 (+/-0.067) for {'C': 1, 'degree': 4, 'gamma': 0.0001, 'kernel': 'linear'}\n",
      "0.639 (+/-0.031) for {'C': 1, 'degree': 4, 'gamma': 0.0001, 'kernel': 'rbf'}\n",
      "0.924 (+/-0.067) for {'C': 1, 'degree': 5, 'gamma': 0.001, 'kernel': 'linear'}\n",
      "0.744 (+/-0.116) for {'C': 1, 'degree': 5, 'gamma': 0.001, 'kernel': 'rbf'}\n",
      "0.924 (+/-0.067) for {'C': 1, 'degree': 5, 'gamma': 0.0001, 'kernel': 'linear'}\n",
      "0.639 (+/-0.031) for {'C': 1, 'degree': 5, 'gamma': 0.0001, 'kernel': 'rbf'}\n",
      "0.924 (+/-0.091) for {'C': 10, 'degree': 1, 'gamma': 0.001, 'kernel': 'linear'}\n",
      "0.875 (+/-0.127) for {'C': 10, 'degree': 1, 'gamma': 0.001, 'kernel': 'rbf'}\n",
      "0.924 (+/-0.091) for {'C': 10, 'degree': 1, 'gamma': 0.0001, 'kernel': 'linear'}\n",
      "0.744 (+/-0.191) for {'C': 10, 'degree': 1, 'gamma': 0.0001, 'kernel': 'rbf'}\n",
      "0.924 (+/-0.091) for {'C': 10, 'degree': 2, 'gamma': 0.001, 'kernel': 'linear'}\n",
      "0.875 (+/-0.127) for {'C': 10, 'degree': 2, 'gamma': 0.001, 'kernel': 'rbf'}\n",
      "0.924 (+/-0.091) for {'C': 10, 'degree': 2, 'gamma': 0.0001, 'kernel': 'linear'}\n",
      "0.744 (+/-0.191) for {'C': 10, 'degree': 2, 'gamma': 0.0001, 'kernel': 'rbf'}\n",
      "0.924 (+/-0.091) for {'C': 10, 'degree': 3, 'gamma': 0.001, 'kernel': 'linear'}\n",
      "0.875 (+/-0.127) for {'C': 10, 'degree': 3, 'gamma': 0.001, 'kernel': 'rbf'}\n",
      "0.924 (+/-0.091) for {'C': 10, 'degree': 3, 'gamma': 0.0001, 'kernel': 'linear'}\n",
      "0.744 (+/-0.191) for {'C': 10, 'degree': 3, 'gamma': 0.0001, 'kernel': 'rbf'}\n",
      "0.924 (+/-0.091) for {'C': 10, 'degree': 4, 'gamma': 0.001, 'kernel': 'linear'}\n",
      "0.875 (+/-0.127) for {'C': 10, 'degree': 4, 'gamma': 0.001, 'kernel': 'rbf'}\n",
      "0.924 (+/-0.091) for {'C': 10, 'degree': 4, 'gamma': 0.0001, 'kernel': 'linear'}\n",
      "0.744 (+/-0.191) for {'C': 10, 'degree': 4, 'gamma': 0.0001, 'kernel': 'rbf'}\n",
      "0.924 (+/-0.091) for {'C': 10, 'degree': 5, 'gamma': 0.001, 'kernel': 'linear'}\n",
      "0.875 (+/-0.127) for {'C': 10, 'degree': 5, 'gamma': 0.001, 'kernel': 'rbf'}\n",
      "0.924 (+/-0.091) for {'C': 10, 'degree': 5, 'gamma': 0.0001, 'kernel': 'linear'}\n",
      "0.744 (+/-0.191) for {'C': 10, 'degree': 5, 'gamma': 0.0001, 'kernel': 'rbf'}\n",
      "0.924 (+/-0.091) for {'C': 100, 'degree': 1, 'gamma': 0.001, 'kernel': 'linear'}\n",
      "0.917 (+/-0.070) for {'C': 100, 'degree': 1, 'gamma': 0.001, 'kernel': 'rbf'}\n",
      "0.924 (+/-0.091) for {'C': 100, 'degree': 1, 'gamma': 0.0001, 'kernel': 'linear'}\n",
      "0.889 (+/-0.140) for {'C': 100, 'degree': 1, 'gamma': 0.0001, 'kernel': 'rbf'}\n",
      "0.924 (+/-0.091) for {'C': 100, 'degree': 2, 'gamma': 0.001, 'kernel': 'linear'}\n",
      "0.917 (+/-0.070) for {'C': 100, 'degree': 2, 'gamma': 0.001, 'kernel': 'rbf'}\n",
      "0.924 (+/-0.091) for {'C': 100, 'degree': 2, 'gamma': 0.0001, 'kernel': 'linear'}\n",
      "0.889 (+/-0.140) for {'C': 100, 'degree': 2, 'gamma': 0.0001, 'kernel': 'rbf'}\n",
      "0.924 (+/-0.091) for {'C': 100, 'degree': 3, 'gamma': 0.001, 'kernel': 'linear'}\n",
      "0.917 (+/-0.070) for {'C': 100, 'degree': 3, 'gamma': 0.001, 'kernel': 'rbf'}\n",
      "0.924 (+/-0.091) for {'C': 100, 'degree': 3, 'gamma': 0.0001, 'kernel': 'linear'}\n",
      "0.889 (+/-0.140) for {'C': 100, 'degree': 3, 'gamma': 0.0001, 'kernel': 'rbf'}\n",
      "0.924 (+/-0.091) for {'C': 100, 'degree': 4, 'gamma': 0.001, 'kernel': 'linear'}\n",
      "0.917 (+/-0.070) for {'C': 100, 'degree': 4, 'gamma': 0.001, 'kernel': 'rbf'}\n",
      "0.924 (+/-0.091) for {'C': 100, 'degree': 4, 'gamma': 0.0001, 'kernel': 'linear'}\n",
      "0.889 (+/-0.140) for {'C': 100, 'degree': 4, 'gamma': 0.0001, 'kernel': 'rbf'}\n",
      "0.924 (+/-0.091) for {'C': 100, 'degree': 5, 'gamma': 0.001, 'kernel': 'linear'}\n",
      "0.917 (+/-0.070) for {'C': 100, 'degree': 5, 'gamma': 0.001, 'kernel': 'rbf'}\n",
      "0.924 (+/-0.091) for {'C': 100, 'degree': 5, 'gamma': 0.0001, 'kernel': 'linear'}\n",
      "0.889 (+/-0.140) for {'C': 100, 'degree': 5, 'gamma': 0.0001, 'kernel': 'rbf'}\n",
      "0.924 (+/-0.091) for {'C': 1000, 'degree': 1, 'gamma': 0.001, 'kernel': 'linear'}\n",
      "0.938 (+/-0.080) for {'C': 1000, 'degree': 1, 'gamma': 0.001, 'kernel': 'rbf'}\n",
      "0.924 (+/-0.091) for {'C': 1000, 'degree': 1, 'gamma': 0.0001, 'kernel': 'linear'}\n",
      "0.924 (+/-0.118) for {'C': 1000, 'degree': 1, 'gamma': 0.0001, 'kernel': 'rbf'}\n",
      "0.924 (+/-0.091) for {'C': 1000, 'degree': 2, 'gamma': 0.001, 'kernel': 'linear'}\n",
      "0.938 (+/-0.080) for {'C': 1000, 'degree': 2, 'gamma': 0.001, 'kernel': 'rbf'}\n",
      "0.924 (+/-0.091) for {'C': 1000, 'degree': 2, 'gamma': 0.0001, 'kernel': 'linear'}\n",
      "0.924 (+/-0.118) for {'C': 1000, 'degree': 2, 'gamma': 0.0001, 'kernel': 'rbf'}\n",
      "0.924 (+/-0.091) for {'C': 1000, 'degree': 3, 'gamma': 0.001, 'kernel': 'linear'}\n",
      "0.938 (+/-0.080) for {'C': 1000, 'degree': 3, 'gamma': 0.001, 'kernel': 'rbf'}\n",
      "0.924 (+/-0.091) for {'C': 1000, 'degree': 3, 'gamma': 0.0001, 'kernel': 'linear'}\n",
      "0.924 (+/-0.118) for {'C': 1000, 'degree': 3, 'gamma': 0.0001, 'kernel': 'rbf'}\n",
      "0.924 (+/-0.091) for {'C': 1000, 'degree': 4, 'gamma': 0.001, 'kernel': 'linear'}\n",
      "0.938 (+/-0.080) for {'C': 1000, 'degree': 4, 'gamma': 0.001, 'kernel': 'rbf'}\n",
      "0.924 (+/-0.091) for {'C': 1000, 'degree': 4, 'gamma': 0.0001, 'kernel': 'linear'}\n",
      "0.924 (+/-0.118) for {'C': 1000, 'degree': 4, 'gamma': 0.0001, 'kernel': 'rbf'}\n",
      "0.924 (+/-0.091) for {'C': 1000, 'degree': 5, 'gamma': 0.001, 'kernel': 'linear'}\n",
      "0.938 (+/-0.080) for {'C': 1000, 'degree': 5, 'gamma': 0.001, 'kernel': 'rbf'}\n",
      "0.924 (+/-0.091) for {'C': 1000, 'degree': 5, 'gamma': 0.0001, 'kernel': 'linear'}\n",
      "0.924 (+/-0.118) for {'C': 1000, 'degree': 5, 'gamma': 0.0001, 'kernel': 'rbf'}\n",
      "\n",
      "\n",
      "Best parameters set found are:\n",
      "{'C': 1000, 'degree': 1, 'gamma': 0.0001, 'kernel': 'rbf'}\n",
      "\n",
      "Grid scores on development set:\n",
      "0.917 (+/-0.093) for {'C': 1, 'degree': 1, 'gamma': 0.001, 'kernel': 'linear'}\n",
      "0.689 (+/-0.240) for {'C': 1, 'degree': 1, 'gamma': 0.001, 'kernel': 'rbf'}\n",
      "0.917 (+/-0.093) for {'C': 1, 'degree': 1, 'gamma': 0.0001, 'kernel': 'linear'}\n",
      "0.591 (+/-0.166) for {'C': 1, 'degree': 1, 'gamma': 0.0001, 'kernel': 'rbf'}\n",
      "0.917 (+/-0.093) for {'C': 1, 'degree': 2, 'gamma': 0.001, 'kernel': 'linear'}\n",
      "0.689 (+/-0.240) for {'C': 1, 'degree': 2, 'gamma': 0.001, 'kernel': 'rbf'}\n",
      "0.917 (+/-0.093) for {'C': 1, 'degree': 2, 'gamma': 0.0001, 'kernel': 'linear'}\n",
      "0.591 (+/-0.166) for {'C': 1, 'degree': 2, 'gamma': 0.0001, 'kernel': 'rbf'}\n",
      "0.917 (+/-0.093) for {'C': 1, 'degree': 3, 'gamma': 0.001, 'kernel': 'linear'}\n",
      "0.689 (+/-0.240) for {'C': 1, 'degree': 3, 'gamma': 0.001, 'kernel': 'rbf'}\n",
      "0.917 (+/-0.093) for {'C': 1, 'degree': 3, 'gamma': 0.0001, 'kernel': 'linear'}\n",
      "0.591 (+/-0.166) for {'C': 1, 'degree': 3, 'gamma': 0.0001, 'kernel': 'rbf'}\n",
      "0.917 (+/-0.093) for {'C': 1, 'degree': 4, 'gamma': 0.001, 'kernel': 'linear'}\n",
      "0.689 (+/-0.240) for {'C': 1, 'degree': 4, 'gamma': 0.001, 'kernel': 'rbf'}\n",
      "0.917 (+/-0.093) for {'C': 1, 'degree': 4, 'gamma': 0.0001, 'kernel': 'linear'}\n",
      "0.591 (+/-0.166) for {'C': 1, 'degree': 4, 'gamma': 0.0001, 'kernel': 'rbf'}\n",
      "0.917 (+/-0.093) for {'C': 1, 'degree': 5, 'gamma': 0.001, 'kernel': 'linear'}\n",
      "0.689 (+/-0.240) for {'C': 1, 'degree': 5, 'gamma': 0.001, 'kernel': 'rbf'}\n",
      "0.917 (+/-0.093) for {'C': 1, 'degree': 5, 'gamma': 0.0001, 'kernel': 'linear'}\n",
      "0.591 (+/-0.166) for {'C': 1, 'degree': 5, 'gamma': 0.0001, 'kernel': 'rbf'}\n",
      "0.931 (+/-0.098) for {'C': 10, 'degree': 1, 'gamma': 0.001, 'kernel': 'linear'}\n",
      "0.889 (+/-0.147) for {'C': 10, 'degree': 1, 'gamma': 0.001, 'kernel': 'rbf'}\n",
      "0.931 (+/-0.098) for {'C': 10, 'degree': 1, 'gamma': 0.0001, 'kernel': 'linear'}\n",
      "0.689 (+/-0.294) for {'C': 10, 'degree': 1, 'gamma': 0.0001, 'kernel': 'rbf'}\n",
      "0.931 (+/-0.098) for {'C': 10, 'degree': 2, 'gamma': 0.001, 'kernel': 'linear'}\n",
      "0.889 (+/-0.147) for {'C': 10, 'degree': 2, 'gamma': 0.001, 'kernel': 'rbf'}\n",
      "0.931 (+/-0.098) for {'C': 10, 'degree': 2, 'gamma': 0.0001, 'kernel': 'linear'}\n",
      "0.689 (+/-0.294) for {'C': 10, 'degree': 2, 'gamma': 0.0001, 'kernel': 'rbf'}\n",
      "0.931 (+/-0.098) for {'C': 10, 'degree': 3, 'gamma': 0.001, 'kernel': 'linear'}\n",
      "0.889 (+/-0.147) for {'C': 10, 'degree': 3, 'gamma': 0.001, 'kernel': 'rbf'}\n",
      "0.931 (+/-0.098) for {'C': 10, 'degree': 3, 'gamma': 0.0001, 'kernel': 'linear'}\n",
      "0.689 (+/-0.294) for {'C': 10, 'degree': 3, 'gamma': 0.0001, 'kernel': 'rbf'}\n",
      "0.931 (+/-0.098) for {'C': 10, 'degree': 4, 'gamma': 0.001, 'kernel': 'linear'}\n",
      "0.889 (+/-0.147) for {'C': 10, 'degree': 4, 'gamma': 0.001, 'kernel': 'rbf'}\n",
      "0.931 (+/-0.098) for {'C': 10, 'degree': 4, 'gamma': 0.0001, 'kernel': 'linear'}\n",
      "0.689 (+/-0.294) for {'C': 10, 'degree': 4, 'gamma': 0.0001, 'kernel': 'rbf'}\n",
      "0.931 (+/-0.098) for {'C': 10, 'degree': 5, 'gamma': 0.001, 'kernel': 'linear'}\n",
      "0.889 (+/-0.147) for {'C': 10, 'degree': 5, 'gamma': 0.001, 'kernel': 'rbf'}\n",
      "0.931 (+/-0.098) for {'C': 10, 'degree': 5, 'gamma': 0.0001, 'kernel': 'linear'}\n",
      "0.689 (+/-0.294) for {'C': 10, 'degree': 5, 'gamma': 0.0001, 'kernel': 'rbf'}\n",
      "0.931 (+/-0.087) for {'C': 100, 'degree': 1, 'gamma': 0.001, 'kernel': 'linear'}\n",
      "0.924 (+/-0.110) for {'C': 100, 'degree': 1, 'gamma': 0.001, 'kernel': 'rbf'}\n",
      "0.931 (+/-0.087) for {'C': 100, 'degree': 1, 'gamma': 0.0001, 'kernel': 'linear'}\n",
      "0.883 (+/-0.141) for {'C': 100, 'degree': 1, 'gamma': 0.0001, 'kernel': 'rbf'}\n",
      "0.931 (+/-0.087) for {'C': 100, 'degree': 2, 'gamma': 0.001, 'kernel': 'linear'}\n",
      "0.924 (+/-0.110) for {'C': 100, 'degree': 2, 'gamma': 0.001, 'kernel': 'rbf'}\n",
      "0.931 (+/-0.087) for {'C': 100, 'degree': 2, 'gamma': 0.0001, 'kernel': 'linear'}\n",
      "0.883 (+/-0.141) for {'C': 100, 'degree': 2, 'gamma': 0.0001, 'kernel': 'rbf'}\n",
      "0.931 (+/-0.087) for {'C': 100, 'degree': 3, 'gamma': 0.001, 'kernel': 'linear'}\n",
      "0.924 (+/-0.110) for {'C': 100, 'degree': 3, 'gamma': 0.001, 'kernel': 'rbf'}\n",
      "0.931 (+/-0.087) for {'C': 100, 'degree': 3, 'gamma': 0.0001, 'kernel': 'linear'}\n",
      "0.883 (+/-0.141) for {'C': 100, 'degree': 3, 'gamma': 0.0001, 'kernel': 'rbf'}\n",
      "0.931 (+/-0.087) for {'C': 100, 'degree': 4, 'gamma': 0.001, 'kernel': 'linear'}\n",
      "0.924 (+/-0.110) for {'C': 100, 'degree': 4, 'gamma': 0.001, 'kernel': 'rbf'}\n",
      "0.931 (+/-0.087) for {'C': 100, 'degree': 4, 'gamma': 0.0001, 'kernel': 'linear'}\n",
      "0.883 (+/-0.141) for {'C': 100, 'degree': 4, 'gamma': 0.0001, 'kernel': 'rbf'}\n",
      "0.931 (+/-0.087) for {'C': 100, 'degree': 5, 'gamma': 0.001, 'kernel': 'linear'}\n",
      "0.924 (+/-0.110) for {'C': 100, 'degree': 5, 'gamma': 0.001, 'kernel': 'rbf'}\n",
      "0.931 (+/-0.087) for {'C': 100, 'degree': 5, 'gamma': 0.0001, 'kernel': 'linear'}\n",
      "0.883 (+/-0.141) for {'C': 100, 'degree': 5, 'gamma': 0.0001, 'kernel': 'rbf'}\n",
      "0.931 (+/-0.087) for {'C': 1000, 'degree': 1, 'gamma': 0.001, 'kernel': 'linear'}\n",
      "0.910 (+/-0.093) for {'C': 1000, 'degree': 1, 'gamma': 0.001, 'kernel': 'rbf'}\n",
      "0.931 (+/-0.087) for {'C': 1000, 'degree': 1, 'gamma': 0.0001, 'kernel': 'linear'}\n",
      "0.931 (+/-0.144) for {'C': 1000, 'degree': 1, 'gamma': 0.0001, 'kernel': 'rbf'}\n",
      "0.931 (+/-0.087) for {'C': 1000, 'degree': 2, 'gamma': 0.001, 'kernel': 'linear'}\n",
      "0.910 (+/-0.093) for {'C': 1000, 'degree': 2, 'gamma': 0.001, 'kernel': 'rbf'}\n",
      "0.931 (+/-0.087) for {'C': 1000, 'degree': 2, 'gamma': 0.0001, 'kernel': 'linear'}\n",
      "0.931 (+/-0.144) for {'C': 1000, 'degree': 2, 'gamma': 0.0001, 'kernel': 'rbf'}\n",
      "0.931 (+/-0.087) for {'C': 1000, 'degree': 3, 'gamma': 0.001, 'kernel': 'linear'}\n",
      "0.910 (+/-0.093) for {'C': 1000, 'degree': 3, 'gamma': 0.001, 'kernel': 'rbf'}\n",
      "0.931 (+/-0.087) for {'C': 1000, 'degree': 3, 'gamma': 0.0001, 'kernel': 'linear'}\n",
      "0.931 (+/-0.144) for {'C': 1000, 'degree': 3, 'gamma': 0.0001, 'kernel': 'rbf'}\n",
      "0.931 (+/-0.087) for {'C': 1000, 'degree': 4, 'gamma': 0.001, 'kernel': 'linear'}\n",
      "0.910 (+/-0.093) for {'C': 1000, 'degree': 4, 'gamma': 0.001, 'kernel': 'rbf'}\n",
      "0.931 (+/-0.087) for {'C': 1000, 'degree': 4, 'gamma': 0.0001, 'kernel': 'linear'}\n",
      "0.931 (+/-0.144) for {'C': 1000, 'degree': 4, 'gamma': 0.0001, 'kernel': 'rbf'}\n",
      "0.931 (+/-0.087) for {'C': 1000, 'degree': 5, 'gamma': 0.001, 'kernel': 'linear'}\n",
      "0.910 (+/-0.093) for {'C': 1000, 'degree': 5, 'gamma': 0.001, 'kernel': 'rbf'}\n",
      "0.931 (+/-0.087) for {'C': 1000, 'degree': 5, 'gamma': 0.0001, 'kernel': 'linear'}\n",
      "0.931 (+/-0.144) for {'C': 1000, 'degree': 5, 'gamma': 0.0001, 'kernel': 'rbf'}\n",
      "\n",
      "\n"
     ]
    },
    {
     "name": "stdout",
     "output_type": "stream",
     "text": [
      "Best parameters set found are:\n",
      "{'C': 10, 'degree': 1, 'gamma': 0.001, 'kernel': 'linear'}\n",
      "\n",
      "Grid scores on development set:\n",
      "0.910 (+/-0.135) for {'C': 1, 'degree': 1, 'gamma': 0.001, 'kernel': 'linear'}\n",
      "0.682 (+/-0.183) for {'C': 1, 'degree': 1, 'gamma': 0.001, 'kernel': 'rbf'}\n",
      "0.910 (+/-0.135) for {'C': 1, 'degree': 1, 'gamma': 0.0001, 'kernel': 'linear'}\n",
      "0.577 (+/-0.142) for {'C': 1, 'degree': 1, 'gamma': 0.0001, 'kernel': 'rbf'}\n",
      "0.910 (+/-0.135) for {'C': 1, 'degree': 2, 'gamma': 0.001, 'kernel': 'linear'}\n",
      "0.682 (+/-0.183) for {'C': 1, 'degree': 2, 'gamma': 0.001, 'kernel': 'rbf'}\n",
      "0.910 (+/-0.135) for {'C': 1, 'degree': 2, 'gamma': 0.0001, 'kernel': 'linear'}\n",
      "0.577 (+/-0.142) for {'C': 1, 'degree': 2, 'gamma': 0.0001, 'kernel': 'rbf'}\n",
      "0.910 (+/-0.135) for {'C': 1, 'degree': 3, 'gamma': 0.001, 'kernel': 'linear'}\n",
      "0.682 (+/-0.183) for {'C': 1, 'degree': 3, 'gamma': 0.001, 'kernel': 'rbf'}\n",
      "0.910 (+/-0.135) for {'C': 1, 'degree': 3, 'gamma': 0.0001, 'kernel': 'linear'}\n",
      "0.577 (+/-0.142) for {'C': 1, 'degree': 3, 'gamma': 0.0001, 'kernel': 'rbf'}\n",
      "0.910 (+/-0.135) for {'C': 1, 'degree': 4, 'gamma': 0.001, 'kernel': 'linear'}\n",
      "0.682 (+/-0.183) for {'C': 1, 'degree': 4, 'gamma': 0.001, 'kernel': 'rbf'}\n",
      "0.910 (+/-0.135) for {'C': 1, 'degree': 4, 'gamma': 0.0001, 'kernel': 'linear'}\n",
      "0.577 (+/-0.142) for {'C': 1, 'degree': 4, 'gamma': 0.0001, 'kernel': 'rbf'}\n",
      "0.910 (+/-0.135) for {'C': 1, 'degree': 5, 'gamma': 0.001, 'kernel': 'linear'}\n",
      "0.682 (+/-0.183) for {'C': 1, 'degree': 5, 'gamma': 0.001, 'kernel': 'rbf'}\n",
      "0.910 (+/-0.135) for {'C': 1, 'degree': 5, 'gamma': 0.0001, 'kernel': 'linear'}\n",
      "0.577 (+/-0.142) for {'C': 1, 'degree': 5, 'gamma': 0.0001, 'kernel': 'rbf'}\n",
      "0.937 (+/-0.119) for {'C': 10, 'degree': 1, 'gamma': 0.001, 'kernel': 'linear'}\n",
      "0.869 (+/-0.147) for {'C': 10, 'degree': 1, 'gamma': 0.001, 'kernel': 'rbf'}\n",
      "0.937 (+/-0.119) for {'C': 10, 'degree': 1, 'gamma': 0.0001, 'kernel': 'linear'}\n",
      "0.703 (+/-0.269) for {'C': 10, 'degree': 1, 'gamma': 0.0001, 'kernel': 'rbf'}\n",
      "0.937 (+/-0.119) for {'C': 10, 'degree': 2, 'gamma': 0.001, 'kernel': 'linear'}\n",
      "0.869 (+/-0.147) for {'C': 10, 'degree': 2, 'gamma': 0.001, 'kernel': 'rbf'}\n",
      "0.937 (+/-0.119) for {'C': 10, 'degree': 2, 'gamma': 0.0001, 'kernel': 'linear'}\n",
      "0.703 (+/-0.269) for {'C': 10, 'degree': 2, 'gamma': 0.0001, 'kernel': 'rbf'}\n",
      "0.937 (+/-0.119) for {'C': 10, 'degree': 3, 'gamma': 0.001, 'kernel': 'linear'}\n",
      "0.869 (+/-0.147) for {'C': 10, 'degree': 3, 'gamma': 0.001, 'kernel': 'rbf'}\n",
      "0.937 (+/-0.119) for {'C': 10, 'degree': 3, 'gamma': 0.0001, 'kernel': 'linear'}\n",
      "0.703 (+/-0.269) for {'C': 10, 'degree': 3, 'gamma': 0.0001, 'kernel': 'rbf'}\n",
      "0.937 (+/-0.119) for {'C': 10, 'degree': 4, 'gamma': 0.001, 'kernel': 'linear'}\n",
      "0.869 (+/-0.147) for {'C': 10, 'degree': 4, 'gamma': 0.001, 'kernel': 'rbf'}\n",
      "0.937 (+/-0.119) for {'C': 10, 'degree': 4, 'gamma': 0.0001, 'kernel': 'linear'}\n",
      "0.703 (+/-0.269) for {'C': 10, 'degree': 4, 'gamma': 0.0001, 'kernel': 'rbf'}\n",
      "0.937 (+/-0.119) for {'C': 10, 'degree': 5, 'gamma': 0.001, 'kernel': 'linear'}\n",
      "0.869 (+/-0.147) for {'C': 10, 'degree': 5, 'gamma': 0.001, 'kernel': 'rbf'}\n",
      "0.937 (+/-0.119) for {'C': 10, 'degree': 5, 'gamma': 0.0001, 'kernel': 'linear'}\n",
      "0.703 (+/-0.269) for {'C': 10, 'degree': 5, 'gamma': 0.0001, 'kernel': 'rbf'}\n",
      "0.931 (+/-0.115) for {'C': 100, 'degree': 1, 'gamma': 0.001, 'kernel': 'linear'}\n",
      "0.903 (+/-0.110) for {'C': 100, 'degree': 1, 'gamma': 0.001, 'kernel': 'rbf'}\n",
      "0.931 (+/-0.115) for {'C': 100, 'degree': 1, 'gamma': 0.0001, 'kernel': 'linear'}\n",
      "0.883 (+/-0.154) for {'C': 100, 'degree': 1, 'gamma': 0.0001, 'kernel': 'rbf'}\n",
      "0.931 (+/-0.115) for {'C': 100, 'degree': 2, 'gamma': 0.001, 'kernel': 'linear'}\n",
      "0.903 (+/-0.110) for {'C': 100, 'degree': 2, 'gamma': 0.001, 'kernel': 'rbf'}\n",
      "0.931 (+/-0.115) for {'C': 100, 'degree': 2, 'gamma': 0.0001, 'kernel': 'linear'}\n",
      "0.883 (+/-0.154) for {'C': 100, 'degree': 2, 'gamma': 0.0001, 'kernel': 'rbf'}\n",
      "0.931 (+/-0.115) for {'C': 100, 'degree': 3, 'gamma': 0.001, 'kernel': 'linear'}\n",
      "0.903 (+/-0.110) for {'C': 100, 'degree': 3, 'gamma': 0.001, 'kernel': 'rbf'}\n",
      "0.931 (+/-0.115) for {'C': 100, 'degree': 3, 'gamma': 0.0001, 'kernel': 'linear'}\n",
      "0.883 (+/-0.154) for {'C': 100, 'degree': 3, 'gamma': 0.0001, 'kernel': 'rbf'}\n",
      "0.931 (+/-0.115) for {'C': 100, 'degree': 4, 'gamma': 0.001, 'kernel': 'linear'}\n",
      "0.903 (+/-0.110) for {'C': 100, 'degree': 4, 'gamma': 0.001, 'kernel': 'rbf'}\n",
      "0.931 (+/-0.115) for {'C': 100, 'degree': 4, 'gamma': 0.0001, 'kernel': 'linear'}\n",
      "0.883 (+/-0.154) for {'C': 100, 'degree': 4, 'gamma': 0.0001, 'kernel': 'rbf'}\n",
      "0.931 (+/-0.115) for {'C': 100, 'degree': 5, 'gamma': 0.001, 'kernel': 'linear'}\n",
      "0.903 (+/-0.110) for {'C': 100, 'degree': 5, 'gamma': 0.001, 'kernel': 'rbf'}\n",
      "0.931 (+/-0.115) for {'C': 100, 'degree': 5, 'gamma': 0.0001, 'kernel': 'linear'}\n",
      "0.883 (+/-0.154) for {'C': 100, 'degree': 5, 'gamma': 0.0001, 'kernel': 'rbf'}\n",
      "0.931 (+/-0.115) for {'C': 1000, 'degree': 1, 'gamma': 0.001, 'kernel': 'linear'}\n",
      "0.910 (+/-0.093) for {'C': 1000, 'degree': 1, 'gamma': 0.001, 'kernel': 'rbf'}\n",
      "0.931 (+/-0.115) for {'C': 1000, 'degree': 1, 'gamma': 0.0001, 'kernel': 'linear'}\n",
      "0.917 (+/-0.142) for {'C': 1000, 'degree': 1, 'gamma': 0.0001, 'kernel': 'rbf'}\n",
      "0.931 (+/-0.115) for {'C': 1000, 'degree': 2, 'gamma': 0.001, 'kernel': 'linear'}\n",
      "0.910 (+/-0.093) for {'C': 1000, 'degree': 2, 'gamma': 0.001, 'kernel': 'rbf'}\n",
      "0.931 (+/-0.115) for {'C': 1000, 'degree': 2, 'gamma': 0.0001, 'kernel': 'linear'}\n",
      "0.917 (+/-0.142) for {'C': 1000, 'degree': 2, 'gamma': 0.0001, 'kernel': 'rbf'}\n",
      "0.931 (+/-0.115) for {'C': 1000, 'degree': 3, 'gamma': 0.001, 'kernel': 'linear'}\n",
      "0.910 (+/-0.093) for {'C': 1000, 'degree': 3, 'gamma': 0.001, 'kernel': 'rbf'}\n",
      "0.931 (+/-0.115) for {'C': 1000, 'degree': 3, 'gamma': 0.0001, 'kernel': 'linear'}\n",
      "0.917 (+/-0.142) for {'C': 1000, 'degree': 3, 'gamma': 0.0001, 'kernel': 'rbf'}\n",
      "0.931 (+/-0.115) for {'C': 1000, 'degree': 4, 'gamma': 0.001, 'kernel': 'linear'}\n",
      "0.910 (+/-0.093) for {'C': 1000, 'degree': 4, 'gamma': 0.001, 'kernel': 'rbf'}\n",
      "0.931 (+/-0.115) for {'C': 1000, 'degree': 4, 'gamma': 0.0001, 'kernel': 'linear'}\n",
      "0.917 (+/-0.142) for {'C': 1000, 'degree': 4, 'gamma': 0.0001, 'kernel': 'rbf'}\n",
      "0.931 (+/-0.115) for {'C': 1000, 'degree': 5, 'gamma': 0.001, 'kernel': 'linear'}\n",
      "0.910 (+/-0.093) for {'C': 1000, 'degree': 5, 'gamma': 0.001, 'kernel': 'rbf'}\n",
      "0.931 (+/-0.115) for {'C': 1000, 'degree': 5, 'gamma': 0.0001, 'kernel': 'linear'}\n",
      "0.917 (+/-0.142) for {'C': 1000, 'degree': 5, 'gamma': 0.0001, 'kernel': 'rbf'}\n",
      "\n",
      "\n",
      "Best parameters set found are:\n",
      "{'C': 10, 'degree': 1, 'gamma': 0.001, 'kernel': 'linear'}\n",
      "\n",
      "Grid scores on development set:\n",
      "0.917 (+/-0.188) for {'C': 1, 'degree': 1, 'gamma': 0.001, 'kernel': 'linear'}\n",
      "0.710 (+/-0.195) for {'C': 1, 'degree': 1, 'gamma': 0.001, 'kernel': 'rbf'}\n",
      "0.917 (+/-0.188) for {'C': 1, 'degree': 1, 'gamma': 0.0001, 'kernel': 'linear'}\n",
      "0.605 (+/-0.184) for {'C': 1, 'degree': 1, 'gamma': 0.0001, 'kernel': 'rbf'}\n",
      "0.917 (+/-0.188) for {'C': 1, 'degree': 2, 'gamma': 0.001, 'kernel': 'linear'}\n",
      "0.710 (+/-0.195) for {'C': 1, 'degree': 2, 'gamma': 0.001, 'kernel': 'rbf'}\n",
      "0.917 (+/-0.188) for {'C': 1, 'degree': 2, 'gamma': 0.0001, 'kernel': 'linear'}\n",
      "0.605 (+/-0.184) for {'C': 1, 'degree': 2, 'gamma': 0.0001, 'kernel': 'rbf'}\n",
      "0.917 (+/-0.188) for {'C': 1, 'degree': 3, 'gamma': 0.001, 'kernel': 'linear'}\n",
      "0.710 (+/-0.195) for {'C': 1, 'degree': 3, 'gamma': 0.001, 'kernel': 'rbf'}\n",
      "0.917 (+/-0.188) for {'C': 1, 'degree': 3, 'gamma': 0.0001, 'kernel': 'linear'}\n",
      "0.605 (+/-0.184) for {'C': 1, 'degree': 3, 'gamma': 0.0001, 'kernel': 'rbf'}\n",
      "0.917 (+/-0.188) for {'C': 1, 'degree': 4, 'gamma': 0.001, 'kernel': 'linear'}\n",
      "0.710 (+/-0.195) for {'C': 1, 'degree': 4, 'gamma': 0.001, 'kernel': 'rbf'}\n",
      "0.917 (+/-0.188) for {'C': 1, 'degree': 4, 'gamma': 0.0001, 'kernel': 'linear'}\n",
      "0.605 (+/-0.184) for {'C': 1, 'degree': 4, 'gamma': 0.0001, 'kernel': 'rbf'}\n",
      "0.917 (+/-0.188) for {'C': 1, 'degree': 5, 'gamma': 0.001, 'kernel': 'linear'}\n",
      "0.710 (+/-0.195) for {'C': 1, 'degree': 5, 'gamma': 0.001, 'kernel': 'rbf'}\n",
      "0.917 (+/-0.188) for {'C': 1, 'degree': 5, 'gamma': 0.0001, 'kernel': 'linear'}\n",
      "0.605 (+/-0.184) for {'C': 1, 'degree': 5, 'gamma': 0.0001, 'kernel': 'rbf'}\n",
      "0.945 (+/-0.155) for {'C': 10, 'degree': 1, 'gamma': 0.001, 'kernel': 'linear'}\n",
      "0.903 (+/-0.110) for {'C': 10, 'degree': 1, 'gamma': 0.001, 'kernel': 'rbf'}\n",
      "0.945 (+/-0.155) for {'C': 10, 'degree': 1, 'gamma': 0.0001, 'kernel': 'linear'}\n",
      "0.737 (+/-0.223) for {'C': 10, 'degree': 1, 'gamma': 0.0001, 'kernel': 'rbf'}\n",
      "0.945 (+/-0.155) for {'C': 10, 'degree': 2, 'gamma': 0.001, 'kernel': 'linear'}\n",
      "0.903 (+/-0.110) for {'C': 10, 'degree': 2, 'gamma': 0.001, 'kernel': 'rbf'}\n",
      "0.945 (+/-0.155) for {'C': 10, 'degree': 2, 'gamma': 0.0001, 'kernel': 'linear'}\n",
      "0.737 (+/-0.223) for {'C': 10, 'degree': 2, 'gamma': 0.0001, 'kernel': 'rbf'}\n",
      "0.945 (+/-0.155) for {'C': 10, 'degree': 3, 'gamma': 0.001, 'kernel': 'linear'}\n",
      "0.903 (+/-0.110) for {'C': 10, 'degree': 3, 'gamma': 0.001, 'kernel': 'rbf'}\n",
      "0.945 (+/-0.155) for {'C': 10, 'degree': 3, 'gamma': 0.0001, 'kernel': 'linear'}\n",
      "0.737 (+/-0.223) for {'C': 10, 'degree': 3, 'gamma': 0.0001, 'kernel': 'rbf'}\n",
      "0.945 (+/-0.155) for {'C': 10, 'degree': 4, 'gamma': 0.001, 'kernel': 'linear'}\n",
      "0.903 (+/-0.110) for {'C': 10, 'degree': 4, 'gamma': 0.001, 'kernel': 'rbf'}\n",
      "0.945 (+/-0.155) for {'C': 10, 'degree': 4, 'gamma': 0.0001, 'kernel': 'linear'}\n",
      "0.737 (+/-0.223) for {'C': 10, 'degree': 4, 'gamma': 0.0001, 'kernel': 'rbf'}\n",
      "0.945 (+/-0.155) for {'C': 10, 'degree': 5, 'gamma': 0.001, 'kernel': 'linear'}\n",
      "0.903 (+/-0.110) for {'C': 10, 'degree': 5, 'gamma': 0.001, 'kernel': 'rbf'}\n",
      "0.945 (+/-0.155) for {'C': 10, 'degree': 5, 'gamma': 0.0001, 'kernel': 'linear'}\n",
      "0.737 (+/-0.223) for {'C': 10, 'degree': 5, 'gamma': 0.0001, 'kernel': 'rbf'}\n",
      "0.945 (+/-0.155) for {'C': 100, 'degree': 1, 'gamma': 0.001, 'kernel': 'linear'}\n",
      "0.931 (+/-0.145) for {'C': 100, 'degree': 1, 'gamma': 0.001, 'kernel': 'rbf'}\n",
      "0.945 (+/-0.155) for {'C': 100, 'degree': 1, 'gamma': 0.0001, 'kernel': 'linear'}\n",
      "0.924 (+/-0.134) for {'C': 100, 'degree': 1, 'gamma': 0.0001, 'kernel': 'rbf'}\n",
      "0.945 (+/-0.155) for {'C': 100, 'degree': 2, 'gamma': 0.001, 'kernel': 'linear'}\n",
      "0.931 (+/-0.145) for {'C': 100, 'degree': 2, 'gamma': 0.001, 'kernel': 'rbf'}\n",
      "0.945 (+/-0.155) for {'C': 100, 'degree': 2, 'gamma': 0.0001, 'kernel': 'linear'}\n",
      "0.924 (+/-0.134) for {'C': 100, 'degree': 2, 'gamma': 0.0001, 'kernel': 'rbf'}\n",
      "0.945 (+/-0.155) for {'C': 100, 'degree': 3, 'gamma': 0.001, 'kernel': 'linear'}\n",
      "0.931 (+/-0.145) for {'C': 100, 'degree': 3, 'gamma': 0.001, 'kernel': 'rbf'}\n",
      "0.945 (+/-0.155) for {'C': 100, 'degree': 3, 'gamma': 0.0001, 'kernel': 'linear'}\n",
      "0.924 (+/-0.134) for {'C': 100, 'degree': 3, 'gamma': 0.0001, 'kernel': 'rbf'}\n",
      "0.945 (+/-0.155) for {'C': 100, 'degree': 4, 'gamma': 0.001, 'kernel': 'linear'}\n",
      "0.931 (+/-0.145) for {'C': 100, 'degree': 4, 'gamma': 0.001, 'kernel': 'rbf'}\n",
      "0.945 (+/-0.155) for {'C': 100, 'degree': 4, 'gamma': 0.0001, 'kernel': 'linear'}\n",
      "0.924 (+/-0.134) for {'C': 100, 'degree': 4, 'gamma': 0.0001, 'kernel': 'rbf'}\n",
      "0.945 (+/-0.155) for {'C': 100, 'degree': 5, 'gamma': 0.001, 'kernel': 'linear'}\n",
      "0.931 (+/-0.145) for {'C': 100, 'degree': 5, 'gamma': 0.001, 'kernel': 'rbf'}\n",
      "0.945 (+/-0.155) for {'C': 100, 'degree': 5, 'gamma': 0.0001, 'kernel': 'linear'}\n",
      "0.924 (+/-0.134) for {'C': 100, 'degree': 5, 'gamma': 0.0001, 'kernel': 'rbf'}\n",
      "0.945 (+/-0.155) for {'C': 1000, 'degree': 1, 'gamma': 0.001, 'kernel': 'linear'}\n",
      "0.931 (+/-0.115) for {'C': 1000, 'degree': 1, 'gamma': 0.001, 'kernel': 'rbf'}\n",
      "0.945 (+/-0.155) for {'C': 1000, 'degree': 1, 'gamma': 0.0001, 'kernel': 'linear'}\n",
      "0.910 (+/-0.135) for {'C': 1000, 'degree': 1, 'gamma': 0.0001, 'kernel': 'rbf'}\n",
      "0.945 (+/-0.155) for {'C': 1000, 'degree': 2, 'gamma': 0.001, 'kernel': 'linear'}\n",
      "0.931 (+/-0.115) for {'C': 1000, 'degree': 2, 'gamma': 0.001, 'kernel': 'rbf'}\n",
      "0.945 (+/-0.155) for {'C': 1000, 'degree': 2, 'gamma': 0.0001, 'kernel': 'linear'}\n",
      "0.910 (+/-0.135) for {'C': 1000, 'degree': 2, 'gamma': 0.0001, 'kernel': 'rbf'}\n",
      "0.945 (+/-0.155) for {'C': 1000, 'degree': 3, 'gamma': 0.001, 'kernel': 'linear'}\n",
      "0.931 (+/-0.115) for {'C': 1000, 'degree': 3, 'gamma': 0.001, 'kernel': 'rbf'}\n",
      "0.945 (+/-0.155) for {'C': 1000, 'degree': 3, 'gamma': 0.0001, 'kernel': 'linear'}\n",
      "0.910 (+/-0.135) for {'C': 1000, 'degree': 3, 'gamma': 0.0001, 'kernel': 'rbf'}\n",
      "0.945 (+/-0.155) for {'C': 1000, 'degree': 4, 'gamma': 0.001, 'kernel': 'linear'}\n",
      "0.931 (+/-0.115) for {'C': 1000, 'degree': 4, 'gamma': 0.001, 'kernel': 'rbf'}\n",
      "0.945 (+/-0.155) for {'C': 1000, 'degree': 4, 'gamma': 0.0001, 'kernel': 'linear'}\n",
      "0.910 (+/-0.135) for {'C': 1000, 'degree': 4, 'gamma': 0.0001, 'kernel': 'rbf'}\n",
      "0.945 (+/-0.155) for {'C': 1000, 'degree': 5, 'gamma': 0.001, 'kernel': 'linear'}\n",
      "0.931 (+/-0.115) for {'C': 1000, 'degree': 5, 'gamma': 0.001, 'kernel': 'rbf'}\n",
      "0.945 (+/-0.155) for {'C': 1000, 'degree': 5, 'gamma': 0.0001, 'kernel': 'linear'}\n",
      "0.910 (+/-0.135) for {'C': 1000, 'degree': 5, 'gamma': 0.0001, 'kernel': 'rbf'}\n",
      "\n",
      "\n"
     ]
    },
    {
     "name": "stdout",
     "output_type": "stream",
     "text": [
      "Best parameters set found are:\n",
      "{'C': 1000, 'degree': 1, 'gamma': 0.001, 'kernel': 'rbf'}\n",
      "\n",
      "Grid scores on development set:\n",
      "0.903 (+/-0.118) for {'C': 1, 'degree': 1, 'gamma': 0.001, 'kernel': 'linear'}\n",
      "0.750 (+/-0.138) for {'C': 1, 'degree': 1, 'gamma': 0.001, 'kernel': 'rbf'}\n",
      "0.903 (+/-0.118) for {'C': 1, 'degree': 1, 'gamma': 0.0001, 'kernel': 'linear'}\n",
      "0.667 (+/-0.115) for {'C': 1, 'degree': 1, 'gamma': 0.0001, 'kernel': 'rbf'}\n",
      "0.903 (+/-0.118) for {'C': 1, 'degree': 2, 'gamma': 0.001, 'kernel': 'linear'}\n",
      "0.750 (+/-0.138) for {'C': 1, 'degree': 2, 'gamma': 0.001, 'kernel': 'rbf'}\n",
      "0.903 (+/-0.118) for {'C': 1, 'degree': 2, 'gamma': 0.0001, 'kernel': 'linear'}\n",
      "0.667 (+/-0.115) for {'C': 1, 'degree': 2, 'gamma': 0.0001, 'kernel': 'rbf'}\n",
      "0.903 (+/-0.118) for {'C': 1, 'degree': 3, 'gamma': 0.001, 'kernel': 'linear'}\n",
      "0.750 (+/-0.138) for {'C': 1, 'degree': 3, 'gamma': 0.001, 'kernel': 'rbf'}\n",
      "0.903 (+/-0.118) for {'C': 1, 'degree': 3, 'gamma': 0.0001, 'kernel': 'linear'}\n",
      "0.667 (+/-0.115) for {'C': 1, 'degree': 3, 'gamma': 0.0001, 'kernel': 'rbf'}\n",
      "0.903 (+/-0.118) for {'C': 1, 'degree': 4, 'gamma': 0.001, 'kernel': 'linear'}\n",
      "0.750 (+/-0.138) for {'C': 1, 'degree': 4, 'gamma': 0.001, 'kernel': 'rbf'}\n",
      "0.903 (+/-0.118) for {'C': 1, 'degree': 4, 'gamma': 0.0001, 'kernel': 'linear'}\n",
      "0.667 (+/-0.115) for {'C': 1, 'degree': 4, 'gamma': 0.0001, 'kernel': 'rbf'}\n",
      "0.903 (+/-0.118) for {'C': 1, 'degree': 5, 'gamma': 0.001, 'kernel': 'linear'}\n",
      "0.750 (+/-0.138) for {'C': 1, 'degree': 5, 'gamma': 0.001, 'kernel': 'rbf'}\n",
      "0.903 (+/-0.118) for {'C': 1, 'degree': 5, 'gamma': 0.0001, 'kernel': 'linear'}\n",
      "0.667 (+/-0.115) for {'C': 1, 'degree': 5, 'gamma': 0.0001, 'kernel': 'rbf'}\n",
      "0.924 (+/-0.134) for {'C': 10, 'degree': 1, 'gamma': 0.001, 'kernel': 'linear'}\n",
      "0.889 (+/-0.147) for {'C': 10, 'degree': 1, 'gamma': 0.001, 'kernel': 'rbf'}\n",
      "0.924 (+/-0.134) for {'C': 10, 'degree': 1, 'gamma': 0.0001, 'kernel': 'linear'}\n",
      "0.751 (+/-0.123) for {'C': 10, 'degree': 1, 'gamma': 0.0001, 'kernel': 'rbf'}\n",
      "0.924 (+/-0.134) for {'C': 10, 'degree': 2, 'gamma': 0.001, 'kernel': 'linear'}\n",
      "0.889 (+/-0.147) for {'C': 10, 'degree': 2, 'gamma': 0.001, 'kernel': 'rbf'}\n",
      "0.924 (+/-0.134) for {'C': 10, 'degree': 2, 'gamma': 0.0001, 'kernel': 'linear'}\n",
      "0.751 (+/-0.123) for {'C': 10, 'degree': 2, 'gamma': 0.0001, 'kernel': 'rbf'}\n",
      "0.924 (+/-0.134) for {'C': 10, 'degree': 3, 'gamma': 0.001, 'kernel': 'linear'}\n",
      "0.889 (+/-0.147) for {'C': 10, 'degree': 3, 'gamma': 0.001, 'kernel': 'rbf'}\n",
      "0.924 (+/-0.134) for {'C': 10, 'degree': 3, 'gamma': 0.0001, 'kernel': 'linear'}\n",
      "0.751 (+/-0.123) for {'C': 10, 'degree': 3, 'gamma': 0.0001, 'kernel': 'rbf'}\n",
      "0.924 (+/-0.134) for {'C': 10, 'degree': 4, 'gamma': 0.001, 'kernel': 'linear'}\n",
      "0.889 (+/-0.147) for {'C': 10, 'degree': 4, 'gamma': 0.001, 'kernel': 'rbf'}\n",
      "0.924 (+/-0.134) for {'C': 10, 'degree': 4, 'gamma': 0.0001, 'kernel': 'linear'}\n",
      "0.751 (+/-0.123) for {'C': 10, 'degree': 4, 'gamma': 0.0001, 'kernel': 'rbf'}\n",
      "0.924 (+/-0.134) for {'C': 10, 'degree': 5, 'gamma': 0.001, 'kernel': 'linear'}\n",
      "0.889 (+/-0.147) for {'C': 10, 'degree': 5, 'gamma': 0.001, 'kernel': 'rbf'}\n",
      "0.924 (+/-0.134) for {'C': 10, 'degree': 5, 'gamma': 0.0001, 'kernel': 'linear'}\n",
      "0.751 (+/-0.123) for {'C': 10, 'degree': 5, 'gamma': 0.0001, 'kernel': 'rbf'}\n",
      "0.931 (+/-0.145) for {'C': 100, 'degree': 1, 'gamma': 0.001, 'kernel': 'linear'}\n",
      "0.924 (+/-0.133) for {'C': 100, 'degree': 1, 'gamma': 0.001, 'kernel': 'rbf'}\n",
      "0.931 (+/-0.145) for {'C': 100, 'degree': 1, 'gamma': 0.0001, 'kernel': 'linear'}\n",
      "0.889 (+/-0.147) for {'C': 100, 'degree': 1, 'gamma': 0.0001, 'kernel': 'rbf'}\n",
      "0.931 (+/-0.145) for {'C': 100, 'degree': 2, 'gamma': 0.001, 'kernel': 'linear'}\n",
      "0.924 (+/-0.133) for {'C': 100, 'degree': 2, 'gamma': 0.001, 'kernel': 'rbf'}\n",
      "0.931 (+/-0.145) for {'C': 100, 'degree': 2, 'gamma': 0.0001, 'kernel': 'linear'}\n",
      "0.889 (+/-0.147) for {'C': 100, 'degree': 2, 'gamma': 0.0001, 'kernel': 'rbf'}\n",
      "0.931 (+/-0.145) for {'C': 100, 'degree': 3, 'gamma': 0.001, 'kernel': 'linear'}\n",
      "0.924 (+/-0.133) for {'C': 100, 'degree': 3, 'gamma': 0.001, 'kernel': 'rbf'}\n",
      "0.931 (+/-0.145) for {'C': 100, 'degree': 3, 'gamma': 0.0001, 'kernel': 'linear'}\n",
      "0.889 (+/-0.147) for {'C': 100, 'degree': 3, 'gamma': 0.0001, 'kernel': 'rbf'}\n",
      "0.931 (+/-0.145) for {'C': 100, 'degree': 4, 'gamma': 0.001, 'kernel': 'linear'}\n",
      "0.924 (+/-0.133) for {'C': 100, 'degree': 4, 'gamma': 0.001, 'kernel': 'rbf'}\n",
      "0.931 (+/-0.145) for {'C': 100, 'degree': 4, 'gamma': 0.0001, 'kernel': 'linear'}\n",
      "0.889 (+/-0.147) for {'C': 100, 'degree': 4, 'gamma': 0.0001, 'kernel': 'rbf'}\n",
      "0.931 (+/-0.145) for {'C': 100, 'degree': 5, 'gamma': 0.001, 'kernel': 'linear'}\n",
      "0.924 (+/-0.133) for {'C': 100, 'degree': 5, 'gamma': 0.001, 'kernel': 'rbf'}\n",
      "0.931 (+/-0.145) for {'C': 100, 'degree': 5, 'gamma': 0.0001, 'kernel': 'linear'}\n",
      "0.889 (+/-0.147) for {'C': 100, 'degree': 5, 'gamma': 0.0001, 'kernel': 'rbf'}\n",
      "0.931 (+/-0.145) for {'C': 1000, 'degree': 1, 'gamma': 0.001, 'kernel': 'linear'}\n",
      "0.945 (+/-0.120) for {'C': 1000, 'degree': 1, 'gamma': 0.001, 'kernel': 'rbf'}\n",
      "0.931 (+/-0.145) for {'C': 1000, 'degree': 1, 'gamma': 0.0001, 'kernel': 'linear'}\n",
      "0.931 (+/-0.107) for {'C': 1000, 'degree': 1, 'gamma': 0.0001, 'kernel': 'rbf'}\n",
      "0.931 (+/-0.145) for {'C': 1000, 'degree': 2, 'gamma': 0.001, 'kernel': 'linear'}\n",
      "0.945 (+/-0.120) for {'C': 1000, 'degree': 2, 'gamma': 0.001, 'kernel': 'rbf'}\n",
      "0.931 (+/-0.145) for {'C': 1000, 'degree': 2, 'gamma': 0.0001, 'kernel': 'linear'}\n",
      "0.931 (+/-0.107) for {'C': 1000, 'degree': 2, 'gamma': 0.0001, 'kernel': 'rbf'}\n",
      "0.931 (+/-0.145) for {'C': 1000, 'degree': 3, 'gamma': 0.001, 'kernel': 'linear'}\n",
      "0.945 (+/-0.120) for {'C': 1000, 'degree': 3, 'gamma': 0.001, 'kernel': 'rbf'}\n",
      "0.931 (+/-0.145) for {'C': 1000, 'degree': 3, 'gamma': 0.0001, 'kernel': 'linear'}\n",
      "0.931 (+/-0.107) for {'C': 1000, 'degree': 3, 'gamma': 0.0001, 'kernel': 'rbf'}\n",
      "0.931 (+/-0.145) for {'C': 1000, 'degree': 4, 'gamma': 0.001, 'kernel': 'linear'}\n",
      "0.945 (+/-0.120) for {'C': 1000, 'degree': 4, 'gamma': 0.001, 'kernel': 'rbf'}\n",
      "0.931 (+/-0.145) for {'C': 1000, 'degree': 4, 'gamma': 0.0001, 'kernel': 'linear'}\n",
      "0.931 (+/-0.107) for {'C': 1000, 'degree': 4, 'gamma': 0.0001, 'kernel': 'rbf'}\n",
      "0.931 (+/-0.145) for {'C': 1000, 'degree': 5, 'gamma': 0.001, 'kernel': 'linear'}\n",
      "0.945 (+/-0.120) for {'C': 1000, 'degree': 5, 'gamma': 0.001, 'kernel': 'rbf'}\n",
      "0.931 (+/-0.145) for {'C': 1000, 'degree': 5, 'gamma': 0.0001, 'kernel': 'linear'}\n",
      "0.931 (+/-0.107) for {'C': 1000, 'degree': 5, 'gamma': 0.0001, 'kernel': 'rbf'}\n",
      "\n",
      "\n",
      "Best parameters set found are:\n",
      "{'C': 1000, 'degree': 1, 'gamma': 0.0001, 'kernel': 'rbf'}\n",
      "\n",
      "Grid scores on development set:\n",
      "0.903 (+/-0.110) for {'C': 1, 'degree': 1, 'gamma': 0.001, 'kernel': 'linear'}\n",
      "0.765 (+/-0.157) for {'C': 1, 'degree': 1, 'gamma': 0.001, 'kernel': 'rbf'}\n",
      "0.903 (+/-0.110) for {'C': 1, 'degree': 1, 'gamma': 0.0001, 'kernel': 'linear'}\n",
      "0.688 (+/-0.153) for {'C': 1, 'degree': 1, 'gamma': 0.0001, 'kernel': 'rbf'}\n",
      "0.903 (+/-0.110) for {'C': 1, 'degree': 2, 'gamma': 0.001, 'kernel': 'linear'}\n",
      "0.765 (+/-0.157) for {'C': 1, 'degree': 2, 'gamma': 0.001, 'kernel': 'rbf'}\n",
      "0.903 (+/-0.110) for {'C': 1, 'degree': 2, 'gamma': 0.0001, 'kernel': 'linear'}\n",
      "0.688 (+/-0.153) for {'C': 1, 'degree': 2, 'gamma': 0.0001, 'kernel': 'rbf'}\n",
      "0.903 (+/-0.110) for {'C': 1, 'degree': 3, 'gamma': 0.001, 'kernel': 'linear'}\n",
      "0.765 (+/-0.157) for {'C': 1, 'degree': 3, 'gamma': 0.001, 'kernel': 'rbf'}\n",
      "0.903 (+/-0.110) for {'C': 1, 'degree': 3, 'gamma': 0.0001, 'kernel': 'linear'}\n",
      "0.688 (+/-0.153) for {'C': 1, 'degree': 3, 'gamma': 0.0001, 'kernel': 'rbf'}\n",
      "0.903 (+/-0.110) for {'C': 1, 'degree': 4, 'gamma': 0.001, 'kernel': 'linear'}\n",
      "0.765 (+/-0.157) for {'C': 1, 'degree': 4, 'gamma': 0.001, 'kernel': 'rbf'}\n",
      "0.903 (+/-0.110) for {'C': 1, 'degree': 4, 'gamma': 0.0001, 'kernel': 'linear'}\n",
      "0.688 (+/-0.153) for {'C': 1, 'degree': 4, 'gamma': 0.0001, 'kernel': 'rbf'}\n",
      "0.903 (+/-0.110) for {'C': 1, 'degree': 5, 'gamma': 0.001, 'kernel': 'linear'}\n",
      "0.765 (+/-0.157) for {'C': 1, 'degree': 5, 'gamma': 0.001, 'kernel': 'rbf'}\n",
      "0.903 (+/-0.110) for {'C': 1, 'degree': 5, 'gamma': 0.0001, 'kernel': 'linear'}\n",
      "0.688 (+/-0.153) for {'C': 1, 'degree': 5, 'gamma': 0.0001, 'kernel': 'rbf'}\n",
      "0.917 (+/-0.128) for {'C': 10, 'degree': 1, 'gamma': 0.001, 'kernel': 'linear'}\n",
      "0.876 (+/-0.148) for {'C': 10, 'degree': 1, 'gamma': 0.001, 'kernel': 'rbf'}\n",
      "0.917 (+/-0.128) for {'C': 10, 'degree': 1, 'gamma': 0.0001, 'kernel': 'linear'}\n",
      "0.758 (+/-0.128) for {'C': 10, 'degree': 1, 'gamma': 0.0001, 'kernel': 'rbf'}\n",
      "0.917 (+/-0.128) for {'C': 10, 'degree': 2, 'gamma': 0.001, 'kernel': 'linear'}\n",
      "0.876 (+/-0.148) for {'C': 10, 'degree': 2, 'gamma': 0.001, 'kernel': 'rbf'}\n",
      "0.917 (+/-0.128) for {'C': 10, 'degree': 2, 'gamma': 0.0001, 'kernel': 'linear'}\n",
      "0.758 (+/-0.128) for {'C': 10, 'degree': 2, 'gamma': 0.0001, 'kernel': 'rbf'}\n",
      "0.917 (+/-0.128) for {'C': 10, 'degree': 3, 'gamma': 0.001, 'kernel': 'linear'}\n",
      "0.876 (+/-0.148) for {'C': 10, 'degree': 3, 'gamma': 0.001, 'kernel': 'rbf'}\n",
      "0.917 (+/-0.128) for {'C': 10, 'degree': 3, 'gamma': 0.0001, 'kernel': 'linear'}\n",
      "0.758 (+/-0.128) for {'C': 10, 'degree': 3, 'gamma': 0.0001, 'kernel': 'rbf'}\n",
      "0.917 (+/-0.128) for {'C': 10, 'degree': 4, 'gamma': 0.001, 'kernel': 'linear'}\n",
      "0.876 (+/-0.148) for {'C': 10, 'degree': 4, 'gamma': 0.001, 'kernel': 'rbf'}\n",
      "0.917 (+/-0.128) for {'C': 10, 'degree': 4, 'gamma': 0.0001, 'kernel': 'linear'}\n",
      "0.758 (+/-0.128) for {'C': 10, 'degree': 4, 'gamma': 0.0001, 'kernel': 'rbf'}\n",
      "0.917 (+/-0.128) for {'C': 10, 'degree': 5, 'gamma': 0.001, 'kernel': 'linear'}\n",
      "0.876 (+/-0.148) for {'C': 10, 'degree': 5, 'gamma': 0.001, 'kernel': 'rbf'}\n",
      "0.917 (+/-0.128) for {'C': 10, 'degree': 5, 'gamma': 0.0001, 'kernel': 'linear'}\n",
      "0.758 (+/-0.128) for {'C': 10, 'degree': 5, 'gamma': 0.0001, 'kernel': 'rbf'}\n",
      "0.924 (+/-0.141) for {'C': 100, 'degree': 1, 'gamma': 0.001, 'kernel': 'linear'}\n",
      "0.924 (+/-0.101) for {'C': 100, 'degree': 1, 'gamma': 0.001, 'kernel': 'rbf'}\n",
      "0.924 (+/-0.141) for {'C': 100, 'degree': 1, 'gamma': 0.0001, 'kernel': 'linear'}\n",
      "0.869 (+/-0.140) for {'C': 100, 'degree': 1, 'gamma': 0.0001, 'kernel': 'rbf'}\n",
      "0.924 (+/-0.141) for {'C': 100, 'degree': 2, 'gamma': 0.001, 'kernel': 'linear'}\n",
      "0.924 (+/-0.101) for {'C': 100, 'degree': 2, 'gamma': 0.001, 'kernel': 'rbf'}\n",
      "0.924 (+/-0.141) for {'C': 100, 'degree': 2, 'gamma': 0.0001, 'kernel': 'linear'}\n",
      "0.869 (+/-0.140) for {'C': 100, 'degree': 2, 'gamma': 0.0001, 'kernel': 'rbf'}\n",
      "0.924 (+/-0.141) for {'C': 100, 'degree': 3, 'gamma': 0.001, 'kernel': 'linear'}\n",
      "0.924 (+/-0.101) for {'C': 100, 'degree': 3, 'gamma': 0.001, 'kernel': 'rbf'}\n",
      "0.924 (+/-0.141) for {'C': 100, 'degree': 3, 'gamma': 0.0001, 'kernel': 'linear'}\n",
      "0.869 (+/-0.140) for {'C': 100, 'degree': 3, 'gamma': 0.0001, 'kernel': 'rbf'}\n",
      "0.924 (+/-0.141) for {'C': 100, 'degree': 4, 'gamma': 0.001, 'kernel': 'linear'}\n",
      "0.924 (+/-0.101) for {'C': 100, 'degree': 4, 'gamma': 0.001, 'kernel': 'rbf'}\n",
      "0.924 (+/-0.141) for {'C': 100, 'degree': 4, 'gamma': 0.0001, 'kernel': 'linear'}\n",
      "0.869 (+/-0.140) for {'C': 100, 'degree': 4, 'gamma': 0.0001, 'kernel': 'rbf'}\n",
      "0.924 (+/-0.141) for {'C': 100, 'degree': 5, 'gamma': 0.001, 'kernel': 'linear'}\n",
      "0.924 (+/-0.101) for {'C': 100, 'degree': 5, 'gamma': 0.001, 'kernel': 'rbf'}\n",
      "0.924 (+/-0.141) for {'C': 100, 'degree': 5, 'gamma': 0.0001, 'kernel': 'linear'}\n",
      "0.869 (+/-0.140) for {'C': 100, 'degree': 5, 'gamma': 0.0001, 'kernel': 'rbf'}\n",
      "0.924 (+/-0.141) for {'C': 1000, 'degree': 1, 'gamma': 0.001, 'kernel': 'linear'}\n",
      "0.924 (+/-0.091) for {'C': 1000, 'degree': 1, 'gamma': 0.001, 'kernel': 'rbf'}\n",
      "0.924 (+/-0.141) for {'C': 1000, 'degree': 1, 'gamma': 0.0001, 'kernel': 'linear'}\n",
      "0.931 (+/-0.075) for {'C': 1000, 'degree': 1, 'gamma': 0.0001, 'kernel': 'rbf'}\n",
      "0.924 (+/-0.141) for {'C': 1000, 'degree': 2, 'gamma': 0.001, 'kernel': 'linear'}\n",
      "0.924 (+/-0.091) for {'C': 1000, 'degree': 2, 'gamma': 0.001, 'kernel': 'rbf'}\n",
      "0.924 (+/-0.141) for {'C': 1000, 'degree': 2, 'gamma': 0.0001, 'kernel': 'linear'}\n",
      "0.931 (+/-0.075) for {'C': 1000, 'degree': 2, 'gamma': 0.0001, 'kernel': 'rbf'}\n",
      "0.924 (+/-0.141) for {'C': 1000, 'degree': 3, 'gamma': 0.001, 'kernel': 'linear'}\n",
      "0.924 (+/-0.091) for {'C': 1000, 'degree': 3, 'gamma': 0.001, 'kernel': 'rbf'}\n",
      "0.924 (+/-0.141) for {'C': 1000, 'degree': 3, 'gamma': 0.0001, 'kernel': 'linear'}\n",
      "0.931 (+/-0.075) for {'C': 1000, 'degree': 3, 'gamma': 0.0001, 'kernel': 'rbf'}\n",
      "0.924 (+/-0.141) for {'C': 1000, 'degree': 4, 'gamma': 0.001, 'kernel': 'linear'}\n",
      "0.924 (+/-0.091) for {'C': 1000, 'degree': 4, 'gamma': 0.001, 'kernel': 'rbf'}\n",
      "0.924 (+/-0.141) for {'C': 1000, 'degree': 4, 'gamma': 0.0001, 'kernel': 'linear'}\n",
      "0.931 (+/-0.075) for {'C': 1000, 'degree': 4, 'gamma': 0.0001, 'kernel': 'rbf'}\n",
      "0.924 (+/-0.141) for {'C': 1000, 'degree': 5, 'gamma': 0.001, 'kernel': 'linear'}\n",
      "0.924 (+/-0.091) for {'C': 1000, 'degree': 5, 'gamma': 0.001, 'kernel': 'rbf'}\n",
      "0.924 (+/-0.141) for {'C': 1000, 'degree': 5, 'gamma': 0.0001, 'kernel': 'linear'}\n",
      "0.931 (+/-0.075) for {'C': 1000, 'degree': 5, 'gamma': 0.0001, 'kernel': 'rbf'}\n",
      "\n",
      "\n",
      "The best parameters I found are:'C': 100, 'degree': 1, 'gamma': 0.001, 'kernel': 'linear' \n"
     ]
    }
   ],
   "source": [
    "from sklearn.model_selection import StratifiedKFold, GridSearchCV, ParameterGrid\n",
    "from sklearn.svm import SVC\n",
    "from sklearn.model_selection import KFold, cross_val_score\n",
    "from sklearn.metrics import accuracy_score\n",
    "from sklearn.metrics import classification_report\n",
    "\n",
    "\n",
    "tuned_parameters = [{'kernel': ['linear','rbf'], 'gamma': [1e-3, 1e-4],\n",
    "                     'C': [1, 10, 100, 1000],'degree' : [1,2,3,4,5]}]\n",
    "k_fold = KFold(n_splits=10)\n",
    "\n",
    "\n",
    "for train, test in k_fold.split(X_train):\n",
    "\n",
    "    clf = GridSearchCV(SVC(), tuned_parameters)\n",
    "    clf.fit(X[train], y[train])\n",
    "\n",
    "    print(\"Best parameters set found are:\")\n",
    "    print(clf.best_params_)\n",
    "    print()\n",
    "    print(\"Grid scores on development set:\")\n",
    "    means = clf.cv_results_['mean_test_score']\n",
    "    stds = clf.cv_results_['std_test_score']\n",
    "    for mean, std, params in zip(means, stds, clf.cv_results_['params']):\n",
    "        print(\"%0.3f (+/-%0.03f) for %r\"\n",
    "              % (mean, std * 2, params))\n",
    "    \n",
    "    print()\n",
    "    print()\n",
    "        \n",
    "print(\"The best parameters I found are:'C': 100, 'degree': 1, 'gamma': 0.001, 'kernel': 'linear' \")"
   ]
  },
  {
   "cell_type": "markdown",
   "metadata": {
    "id": "QftYtzFW-i0E"
   },
   "source": [
    "Now train your best SVM model on the whole train dataset and test it on the test set. Print out your model's performance."
   ]
  },
  {
   "cell_type": "code",
   "execution_count": 10,
   "metadata": {
    "id": "9qCn-sLV_Zhc"
   },
   "outputs": [
    {
     "name": "stdout",
     "output_type": "stream",
     "text": [
      "accuracy:  1.0\n"
     ]
    }
   ],
   "source": [
    "# Now train your best SVM model on the whole train dataset\n",
    "# and test it on the test set. Print out your model's performance.\n",
    "model = SVC(C = 100, degree= 1, gamma = 0.001, kernel = 'linear')\n",
    "model.fit(X_train,y_train)\n",
    "predictions = model.predict(X_test)\n",
    "accuracy = accuracy_score(y_test,predictions)\n",
    "print(\"accuracy: \",accuracy)"
   ]
  },
  {
   "cell_type": "markdown",
   "metadata": {
    "id": "mTsl_Cc8otuH"
   },
   "source": [
    "c) Similarly, find a good RF model by performing 10-fold CV on the train set. Print out your best model's parameters and its performance (accuracy)."
   ]
  },
  {
   "cell_type": "code",
   "execution_count": 11,
   "metadata": {
    "id": "bzWFF9MvotuH"
   },
   "outputs": [
    {
     "name": "stdout",
     "output_type": "stream",
     "text": [
      "Best parameters set found are:\n",
      "{'criterion': 'gini', 'max_depth': 2, 'max_features': 'auto', 'min_samples_split': 2, 'n_estimators': 10}\n",
      "\n",
      "Grid scores on development set:\n",
      "0.659 (+/-0.228) for {'criterion': 'gini', 'max_depth': 1, 'max_features': 'auto', 'min_samples_split': 0.5, 'n_estimators': 1}\n",
      "0.805 (+/-0.208) for {'criterion': 'gini', 'max_depth': 1, 'max_features': 'auto', 'min_samples_split': 0.5, 'n_estimators': 10}\n",
      "0.633 (+/-0.209) for {'criterion': 'gini', 'max_depth': 1, 'max_features': 'auto', 'min_samples_split': 2, 'n_estimators': 1}\n",
      "0.804 (+/-0.355) for {'criterion': 'gini', 'max_depth': 1, 'max_features': 'auto', 'min_samples_split': 2, 'n_estimators': 10}\n",
      "0.590 (+/-0.169) for {'criterion': 'gini', 'max_depth': 1, 'max_features': 'sqrt', 'min_samples_split': 0.5, 'n_estimators': 1}\n",
      "0.771 (+/-0.280) for {'criterion': 'gini', 'max_depth': 1, 'max_features': 'sqrt', 'min_samples_split': 0.5, 'n_estimators': 10}\n",
      "0.639 (+/-0.188) for {'criterion': 'gini', 'max_depth': 1, 'max_features': 'sqrt', 'min_samples_split': 2, 'n_estimators': 1}\n",
      "0.799 (+/-0.132) for {'criterion': 'gini', 'max_depth': 1, 'max_features': 'sqrt', 'min_samples_split': 2, 'n_estimators': 10}\n",
      "0.632 (+/-0.210) for {'criterion': 'gini', 'max_depth': 1, 'max_features': 'log2', 'min_samples_split': 0.5, 'n_estimators': 1}\n",
      "0.729 (+/-0.109) for {'criterion': 'gini', 'max_depth': 1, 'max_features': 'log2', 'min_samples_split': 0.5, 'n_estimators': 10}\n",
      "0.674 (+/-0.125) for {'criterion': 'gini', 'max_depth': 1, 'max_features': 'log2', 'min_samples_split': 2, 'n_estimators': 1}\n",
      "0.855 (+/-0.192) for {'criterion': 'gini', 'max_depth': 1, 'max_features': 'log2', 'min_samples_split': 2, 'n_estimators': 10}\n",
      "0.591 (+/-0.187) for {'criterion': 'gini', 'max_depth': 2, 'max_features': 'auto', 'min_samples_split': 0.5, 'n_estimators': 1}\n",
      "0.757 (+/-0.116) for {'criterion': 'gini', 'max_depth': 2, 'max_features': 'auto', 'min_samples_split': 0.5, 'n_estimators': 10}\n",
      "0.750 (+/-0.294) for {'criterion': 'gini', 'max_depth': 2, 'max_features': 'auto', 'min_samples_split': 2, 'n_estimators': 1}\n",
      "0.945 (+/-0.112) for {'criterion': 'gini', 'max_depth': 2, 'max_features': 'auto', 'min_samples_split': 2, 'n_estimators': 10}\n",
      "0.576 (+/-0.162) for {'criterion': 'gini', 'max_depth': 2, 'max_features': 'sqrt', 'min_samples_split': 0.5, 'n_estimators': 1}\n",
      "0.792 (+/-0.179) for {'criterion': 'gini', 'max_depth': 2, 'max_features': 'sqrt', 'min_samples_split': 0.5, 'n_estimators': 10}\n",
      "0.729 (+/-0.170) for {'criterion': 'gini', 'max_depth': 2, 'max_features': 'sqrt', 'min_samples_split': 2, 'n_estimators': 1}\n",
      "0.903 (+/-0.119) for {'criterion': 'gini', 'max_depth': 2, 'max_features': 'sqrt', 'min_samples_split': 2, 'n_estimators': 10}\n",
      "0.639 (+/-0.190) for {'criterion': 'gini', 'max_depth': 2, 'max_features': 'log2', 'min_samples_split': 0.5, 'n_estimators': 1}\n",
      "0.820 (+/-0.170) for {'criterion': 'gini', 'max_depth': 2, 'max_features': 'log2', 'min_samples_split': 0.5, 'n_estimators': 10}\n",
      "0.799 (+/-0.252) for {'criterion': 'gini', 'max_depth': 2, 'max_features': 'log2', 'min_samples_split': 2, 'n_estimators': 1}\n",
      "0.903 (+/-0.140) for {'criterion': 'gini', 'max_depth': 2, 'max_features': 'log2', 'min_samples_split': 2, 'n_estimators': 10}\n",
      "0.612 (+/-0.172) for {'criterion': 'entropy', 'max_depth': 1, 'max_features': 'auto', 'min_samples_split': 0.5, 'n_estimators': 1}\n",
      "0.756 (+/-0.175) for {'criterion': 'entropy', 'max_depth': 1, 'max_features': 'auto', 'min_samples_split': 0.5, 'n_estimators': 10}\n",
      "0.570 (+/-0.215) for {'criterion': 'entropy', 'max_depth': 1, 'max_features': 'auto', 'min_samples_split': 2, 'n_estimators': 1}\n",
      "0.785 (+/-0.191) for {'criterion': 'entropy', 'max_depth': 1, 'max_features': 'auto', 'min_samples_split': 2, 'n_estimators': 10}\n",
      "0.624 (+/-0.148) for {'criterion': 'entropy', 'max_depth': 1, 'max_features': 'sqrt', 'min_samples_split': 0.5, 'n_estimators': 1}\n",
      "0.771 (+/-0.092) for {'criterion': 'entropy', 'max_depth': 1, 'max_features': 'sqrt', 'min_samples_split': 0.5, 'n_estimators': 10}\n",
      "0.570 (+/-0.309) for {'criterion': 'entropy', 'max_depth': 1, 'max_features': 'sqrt', 'min_samples_split': 2, 'n_estimators': 1}\n",
      "0.874 (+/-0.146) for {'criterion': 'entropy', 'max_depth': 1, 'max_features': 'sqrt', 'min_samples_split': 2, 'n_estimators': 10}\n",
      "0.619 (+/-0.132) for {'criterion': 'entropy', 'max_depth': 1, 'max_features': 'log2', 'min_samples_split': 0.5, 'n_estimators': 1}\n",
      "0.755 (+/-0.308) for {'criterion': 'entropy', 'max_depth': 1, 'max_features': 'log2', 'min_samples_split': 0.5, 'n_estimators': 10}\n",
      "0.625 (+/-0.181) for {'criterion': 'entropy', 'max_depth': 1, 'max_features': 'log2', 'min_samples_split': 2, 'n_estimators': 1}\n",
      "0.806 (+/-0.133) for {'criterion': 'entropy', 'max_depth': 1, 'max_features': 'log2', 'min_samples_split': 2, 'n_estimators': 10}\n",
      "0.626 (+/-0.183) for {'criterion': 'entropy', 'max_depth': 2, 'max_features': 'auto', 'min_samples_split': 0.5, 'n_estimators': 1}\n",
      "0.833 (+/-0.173) for {'criterion': 'entropy', 'max_depth': 2, 'max_features': 'auto', 'min_samples_split': 0.5, 'n_estimators': 10}\n",
      "0.758 (+/-0.301) for {'criterion': 'entropy', 'max_depth': 2, 'max_features': 'auto', 'min_samples_split': 2, 'n_estimators': 1}\n",
      "0.889 (+/-0.054) for {'criterion': 'entropy', 'max_depth': 2, 'max_features': 'auto', 'min_samples_split': 2, 'n_estimators': 10}\n",
      "0.688 (+/-0.305) for {'criterion': 'entropy', 'max_depth': 2, 'max_features': 'sqrt', 'min_samples_split': 0.5, 'n_estimators': 1}\n",
      "0.807 (+/-0.220) for {'criterion': 'entropy', 'max_depth': 2, 'max_features': 'sqrt', 'min_samples_split': 0.5, 'n_estimators': 10}\n",
      "0.735 (+/-0.183) for {'criterion': 'entropy', 'max_depth': 2, 'max_features': 'sqrt', 'min_samples_split': 2, 'n_estimators': 1}\n",
      "0.931 (+/-0.115) for {'criterion': 'entropy', 'max_depth': 2, 'max_features': 'sqrt', 'min_samples_split': 2, 'n_estimators': 10}\n",
      "0.604 (+/-0.209) for {'criterion': 'entropy', 'max_depth': 2, 'max_features': 'log2', 'min_samples_split': 0.5, 'n_estimators': 1}\n",
      "0.813 (+/-0.159) for {'criterion': 'entropy', 'max_depth': 2, 'max_features': 'log2', 'min_samples_split': 0.5, 'n_estimators': 10}\n",
      "0.805 (+/-0.167) for {'criterion': 'entropy', 'max_depth': 2, 'max_features': 'log2', 'min_samples_split': 2, 'n_estimators': 1}\n",
      "0.888 (+/-0.136) for {'criterion': 'entropy', 'max_depth': 2, 'max_features': 'log2', 'min_samples_split': 2, 'n_estimators': 10}\n",
      "\n",
      "\n",
      "Best parameters set found are:\n",
      "{'criterion': 'entropy', 'max_depth': 2, 'max_features': 'log2', 'min_samples_split': 2, 'n_estimators': 10}\n",
      "\n",
      "Grid scores on development set:\n",
      "0.602 (+/-0.362) for {'criterion': 'gini', 'max_depth': 1, 'max_features': 'auto', 'min_samples_split': 0.5, 'n_estimators': 1}\n",
      "0.806 (+/-0.177) for {'criterion': 'gini', 'max_depth': 1, 'max_features': 'auto', 'min_samples_split': 0.5, 'n_estimators': 10}\n",
      "0.603 (+/-0.192) for {'criterion': 'gini', 'max_depth': 1, 'max_features': 'auto', 'min_samples_split': 2, 'n_estimators': 1}\n",
      "0.765 (+/-0.223) for {'criterion': 'gini', 'max_depth': 1, 'max_features': 'auto', 'min_samples_split': 2, 'n_estimators': 10}\n",
      "0.647 (+/-0.155) for {'criterion': 'gini', 'max_depth': 1, 'max_features': 'sqrt', 'min_samples_split': 0.5, 'n_estimators': 1}\n",
      "0.848 (+/-0.154) for {'criterion': 'gini', 'max_depth': 1, 'max_features': 'sqrt', 'min_samples_split': 0.5, 'n_estimators': 10}\n",
      "0.674 (+/-0.163) for {'criterion': 'gini', 'max_depth': 1, 'max_features': 'sqrt', 'min_samples_split': 2, 'n_estimators': 1}\n",
      "0.834 (+/-0.260) for {'criterion': 'gini', 'max_depth': 1, 'max_features': 'sqrt', 'min_samples_split': 2, 'n_estimators': 10}\n",
      "0.639 (+/-0.151) for {'criterion': 'gini', 'max_depth': 1, 'max_features': 'log2', 'min_samples_split': 0.5, 'n_estimators': 1}\n",
      "0.883 (+/-0.207) for {'criterion': 'gini', 'max_depth': 1, 'max_features': 'log2', 'min_samples_split': 0.5, 'n_estimators': 10}\n",
      "0.617 (+/-0.087) for {'criterion': 'gini', 'max_depth': 1, 'max_features': 'log2', 'min_samples_split': 2, 'n_estimators': 1}\n",
      "0.883 (+/-0.225) for {'criterion': 'gini', 'max_depth': 1, 'max_features': 'log2', 'min_samples_split': 2, 'n_estimators': 10}\n",
      "0.652 (+/-0.180) for {'criterion': 'gini', 'max_depth': 2, 'max_features': 'auto', 'min_samples_split': 0.5, 'n_estimators': 1}\n",
      "0.814 (+/-0.202) for {'criterion': 'gini', 'max_depth': 2, 'max_features': 'auto', 'min_samples_split': 0.5, 'n_estimators': 10}\n",
      "0.736 (+/-0.270) for {'criterion': 'gini', 'max_depth': 2, 'max_features': 'auto', 'min_samples_split': 2, 'n_estimators': 1}\n",
      "0.910 (+/-0.120) for {'criterion': 'gini', 'max_depth': 2, 'max_features': 'auto', 'min_samples_split': 2, 'n_estimators': 10}\n",
      "0.743 (+/-0.166) for {'criterion': 'gini', 'max_depth': 2, 'max_features': 'sqrt', 'min_samples_split': 0.5, 'n_estimators': 1}\n",
      "0.827 (+/-0.179) for {'criterion': 'gini', 'max_depth': 2, 'max_features': 'sqrt', 'min_samples_split': 0.5, 'n_estimators': 10}\n",
      "0.847 (+/-0.183) for {'criterion': 'gini', 'max_depth': 2, 'max_features': 'sqrt', 'min_samples_split': 2, 'n_estimators': 1}\n",
      "0.869 (+/-0.147) for {'criterion': 'gini', 'max_depth': 2, 'max_features': 'sqrt', 'min_samples_split': 2, 'n_estimators': 10}\n",
      "0.603 (+/-0.255) for {'criterion': 'gini', 'max_depth': 2, 'max_features': 'log2', 'min_samples_split': 0.5, 'n_estimators': 1}\n",
      "0.840 (+/-0.183) for {'criterion': 'gini', 'max_depth': 2, 'max_features': 'log2', 'min_samples_split': 0.5, 'n_estimators': 10}\n",
      "0.834 (+/-0.170) for {'criterion': 'gini', 'max_depth': 2, 'max_features': 'log2', 'min_samples_split': 2, 'n_estimators': 1}\n",
      "0.882 (+/-0.207) for {'criterion': 'gini', 'max_depth': 2, 'max_features': 'log2', 'min_samples_split': 2, 'n_estimators': 10}\n",
      "0.575 (+/-0.224) for {'criterion': 'entropy', 'max_depth': 1, 'max_features': 'auto', 'min_samples_split': 0.5, 'n_estimators': 1}\n",
      "0.828 (+/-0.190) for {'criterion': 'entropy', 'max_depth': 1, 'max_features': 'auto', 'min_samples_split': 0.5, 'n_estimators': 10}\n",
      "0.605 (+/-0.238) for {'criterion': 'entropy', 'max_depth': 1, 'max_features': 'auto', 'min_samples_split': 2, 'n_estimators': 1}\n",
      "0.834 (+/-0.191) for {'criterion': 'entropy', 'max_depth': 1, 'max_features': 'auto', 'min_samples_split': 2, 'n_estimators': 10}\n",
      "0.576 (+/-0.194) for {'criterion': 'entropy', 'max_depth': 1, 'max_features': 'sqrt', 'min_samples_split': 0.5, 'n_estimators': 1}\n",
      "0.861 (+/-0.195) for {'criterion': 'entropy', 'max_depth': 1, 'max_features': 'sqrt', 'min_samples_split': 0.5, 'n_estimators': 10}\n",
      "0.639 (+/-0.117) for {'criterion': 'entropy', 'max_depth': 1, 'max_features': 'sqrt', 'min_samples_split': 2, 'n_estimators': 1}\n",
      "0.841 (+/-0.177) for {'criterion': 'entropy', 'max_depth': 1, 'max_features': 'sqrt', 'min_samples_split': 2, 'n_estimators': 10}\n",
      "0.674 (+/-0.195) for {'criterion': 'entropy', 'max_depth': 1, 'max_features': 'log2', 'min_samples_split': 0.5, 'n_estimators': 1}\n",
      "0.799 (+/-0.241) for {'criterion': 'entropy', 'max_depth': 1, 'max_features': 'log2', 'min_samples_split': 0.5, 'n_estimators': 10}\n",
      "0.688 (+/-0.072) for {'criterion': 'entropy', 'max_depth': 1, 'max_features': 'log2', 'min_samples_split': 2, 'n_estimators': 1}\n",
      "0.792 (+/-0.062) for {'criterion': 'entropy', 'max_depth': 1, 'max_features': 'log2', 'min_samples_split': 2, 'n_estimators': 10}\n",
      "0.660 (+/-0.104) for {'criterion': 'entropy', 'max_depth': 2, 'max_features': 'auto', 'min_samples_split': 0.5, 'n_estimators': 1}\n",
      "0.786 (+/-0.266) for {'criterion': 'entropy', 'max_depth': 2, 'max_features': 'auto', 'min_samples_split': 0.5, 'n_estimators': 10}\n",
      "0.715 (+/-0.221) for {'criterion': 'entropy', 'max_depth': 2, 'max_features': 'auto', 'min_samples_split': 2, 'n_estimators': 1}\n",
      "0.903 (+/-0.182) for {'criterion': 'entropy', 'max_depth': 2, 'max_features': 'auto', 'min_samples_split': 2, 'n_estimators': 10}\n",
      "0.645 (+/-0.166) for {'criterion': 'entropy', 'max_depth': 2, 'max_features': 'sqrt', 'min_samples_split': 0.5, 'n_estimators': 1}\n",
      "0.765 (+/-0.164) for {'criterion': 'entropy', 'max_depth': 2, 'max_features': 'sqrt', 'min_samples_split': 0.5, 'n_estimators': 10}\n",
      "0.820 (+/-0.219) for {'criterion': 'entropy', 'max_depth': 2, 'max_features': 'sqrt', 'min_samples_split': 2, 'n_estimators': 1}\n",
      "0.910 (+/-0.070) for {'criterion': 'entropy', 'max_depth': 2, 'max_features': 'sqrt', 'min_samples_split': 2, 'n_estimators': 10}\n",
      "0.633 (+/-0.137) for {'criterion': 'entropy', 'max_depth': 2, 'max_features': 'log2', 'min_samples_split': 0.5, 'n_estimators': 1}\n",
      "0.834 (+/-0.125) for {'criterion': 'entropy', 'max_depth': 2, 'max_features': 'log2', 'min_samples_split': 0.5, 'n_estimators': 10}\n",
      "0.730 (+/-0.254) for {'criterion': 'entropy', 'max_depth': 2, 'max_features': 'log2', 'min_samples_split': 2, 'n_estimators': 1}\n",
      "0.938 (+/-0.154) for {'criterion': 'entropy', 'max_depth': 2, 'max_features': 'log2', 'min_samples_split': 2, 'n_estimators': 10}\n",
      "\n",
      "\n"
     ]
    },
    {
     "name": "stdout",
     "output_type": "stream",
     "text": [
      "Best parameters set found are:\n",
      "{'criterion': 'gini', 'max_depth': 2, 'max_features': 'sqrt', 'min_samples_split': 2, 'n_estimators': 10}\n",
      "\n",
      "Grid scores on development set:\n",
      "0.612 (+/-0.172) for {'criterion': 'gini', 'max_depth': 1, 'max_features': 'auto', 'min_samples_split': 0.5, 'n_estimators': 1}\n",
      "0.848 (+/-0.245) for {'criterion': 'gini', 'max_depth': 1, 'max_features': 'auto', 'min_samples_split': 0.5, 'n_estimators': 10}\n",
      "0.555 (+/-0.142) for {'criterion': 'gini', 'max_depth': 1, 'max_features': 'auto', 'min_samples_split': 2, 'n_estimators': 1}\n",
      "0.771 (+/-0.117) for {'criterion': 'gini', 'max_depth': 1, 'max_features': 'auto', 'min_samples_split': 2, 'n_estimators': 10}\n",
      "0.660 (+/-0.185) for {'criterion': 'gini', 'max_depth': 1, 'max_features': 'sqrt', 'min_samples_split': 0.5, 'n_estimators': 1}\n",
      "0.778 (+/-0.176) for {'criterion': 'gini', 'max_depth': 1, 'max_features': 'sqrt', 'min_samples_split': 0.5, 'n_estimators': 10}\n",
      "0.660 (+/-0.097) for {'criterion': 'gini', 'max_depth': 1, 'max_features': 'sqrt', 'min_samples_split': 2, 'n_estimators': 1}\n",
      "0.834 (+/-0.132) for {'criterion': 'gini', 'max_depth': 1, 'max_features': 'sqrt', 'min_samples_split': 2, 'n_estimators': 10}\n",
      "0.549 (+/-0.045) for {'criterion': 'gini', 'max_depth': 1, 'max_features': 'log2', 'min_samples_split': 0.5, 'n_estimators': 1}\n",
      "0.771 (+/-0.165) for {'criterion': 'gini', 'max_depth': 1, 'max_features': 'log2', 'min_samples_split': 0.5, 'n_estimators': 10}\n",
      "0.591 (+/-0.206) for {'criterion': 'gini', 'max_depth': 1, 'max_features': 'log2', 'min_samples_split': 2, 'n_estimators': 1}\n",
      "0.785 (+/-0.139) for {'criterion': 'gini', 'max_depth': 1, 'max_features': 'log2', 'min_samples_split': 2, 'n_estimators': 10}\n",
      "0.673 (+/-0.176) for {'criterion': 'gini', 'max_depth': 2, 'max_features': 'auto', 'min_samples_split': 0.5, 'n_estimators': 1}\n",
      "0.819 (+/-0.193) for {'criterion': 'gini', 'max_depth': 2, 'max_features': 'auto', 'min_samples_split': 0.5, 'n_estimators': 10}\n",
      "0.659 (+/-0.087) for {'criterion': 'gini', 'max_depth': 2, 'max_features': 'auto', 'min_samples_split': 2, 'n_estimators': 1}\n",
      "0.868 (+/-0.182) for {'criterion': 'gini', 'max_depth': 2, 'max_features': 'auto', 'min_samples_split': 2, 'n_estimators': 10}\n",
      "0.638 (+/-0.130) for {'criterion': 'gini', 'max_depth': 2, 'max_features': 'sqrt', 'min_samples_split': 0.5, 'n_estimators': 1}\n",
      "0.812 (+/-0.095) for {'criterion': 'gini', 'max_depth': 2, 'max_features': 'sqrt', 'min_samples_split': 0.5, 'n_estimators': 10}\n",
      "0.772 (+/-0.196) for {'criterion': 'gini', 'max_depth': 2, 'max_features': 'sqrt', 'min_samples_split': 2, 'n_estimators': 1}\n",
      "0.952 (+/-0.103) for {'criterion': 'gini', 'max_depth': 2, 'max_features': 'sqrt', 'min_samples_split': 2, 'n_estimators': 10}\n",
      "0.646 (+/-0.073) for {'criterion': 'gini', 'max_depth': 2, 'max_features': 'log2', 'min_samples_split': 0.5, 'n_estimators': 1}\n",
      "0.827 (+/-0.194) for {'criterion': 'gini', 'max_depth': 2, 'max_features': 'log2', 'min_samples_split': 0.5, 'n_estimators': 10}\n",
      "0.765 (+/-0.254) for {'criterion': 'gini', 'max_depth': 2, 'max_features': 'log2', 'min_samples_split': 2, 'n_estimators': 1}\n",
      "0.875 (+/-0.188) for {'criterion': 'gini', 'max_depth': 2, 'max_features': 'log2', 'min_samples_split': 2, 'n_estimators': 10}\n",
      "0.555 (+/-0.243) for {'criterion': 'entropy', 'max_depth': 1, 'max_features': 'auto', 'min_samples_split': 0.5, 'n_estimators': 1}\n",
      "0.806 (+/-0.197) for {'criterion': 'entropy', 'max_depth': 1, 'max_features': 'auto', 'min_samples_split': 0.5, 'n_estimators': 10}\n",
      "0.591 (+/-0.182) for {'criterion': 'entropy', 'max_depth': 1, 'max_features': 'auto', 'min_samples_split': 2, 'n_estimators': 1}\n",
      "0.839 (+/-0.207) for {'criterion': 'entropy', 'max_depth': 1, 'max_features': 'auto', 'min_samples_split': 2, 'n_estimators': 10}\n",
      "0.667 (+/-0.125) for {'criterion': 'entropy', 'max_depth': 1, 'max_features': 'sqrt', 'min_samples_split': 0.5, 'n_estimators': 1}\n",
      "0.855 (+/-0.228) for {'criterion': 'entropy', 'max_depth': 1, 'max_features': 'sqrt', 'min_samples_split': 0.5, 'n_estimators': 10}\n",
      "0.514 (+/-0.088) for {'criterion': 'entropy', 'max_depth': 1, 'max_features': 'sqrt', 'min_samples_split': 2, 'n_estimators': 1}\n",
      "0.827 (+/-0.114) for {'criterion': 'entropy', 'max_depth': 1, 'max_features': 'sqrt', 'min_samples_split': 2, 'n_estimators': 10}\n",
      "0.639 (+/-0.086) for {'criterion': 'entropy', 'max_depth': 1, 'max_features': 'log2', 'min_samples_split': 0.5, 'n_estimators': 1}\n",
      "0.770 (+/-0.127) for {'criterion': 'entropy', 'max_depth': 1, 'max_features': 'log2', 'min_samples_split': 0.5, 'n_estimators': 10}\n",
      "0.547 (+/-0.259) for {'criterion': 'entropy', 'max_depth': 1, 'max_features': 'log2', 'min_samples_split': 2, 'n_estimators': 1}\n",
      "0.903 (+/-0.051) for {'criterion': 'entropy', 'max_depth': 1, 'max_features': 'log2', 'min_samples_split': 2, 'n_estimators': 10}\n",
      "0.674 (+/-0.100) for {'criterion': 'entropy', 'max_depth': 2, 'max_features': 'auto', 'min_samples_split': 0.5, 'n_estimators': 1}\n",
      "0.868 (+/-0.052) for {'criterion': 'entropy', 'max_depth': 2, 'max_features': 'auto', 'min_samples_split': 0.5, 'n_estimators': 10}\n",
      "0.862 (+/-0.174) for {'criterion': 'entropy', 'max_depth': 2, 'max_features': 'auto', 'min_samples_split': 2, 'n_estimators': 1}\n",
      "0.903 (+/-0.118) for {'criterion': 'entropy', 'max_depth': 2, 'max_features': 'auto', 'min_samples_split': 2, 'n_estimators': 10}\n",
      "0.631 (+/-0.184) for {'criterion': 'entropy', 'max_depth': 2, 'max_features': 'sqrt', 'min_samples_split': 0.5, 'n_estimators': 1}\n",
      "0.785 (+/-0.132) for {'criterion': 'entropy', 'max_depth': 2, 'max_features': 'sqrt', 'min_samples_split': 0.5, 'n_estimators': 10}\n",
      "0.910 (+/-0.082) for {'criterion': 'entropy', 'max_depth': 2, 'max_features': 'sqrt', 'min_samples_split': 2, 'n_estimators': 1}\n",
      "0.896 (+/-0.179) for {'criterion': 'entropy', 'max_depth': 2, 'max_features': 'sqrt', 'min_samples_split': 2, 'n_estimators': 10}\n",
      "0.604 (+/-0.125) for {'criterion': 'entropy', 'max_depth': 2, 'max_features': 'log2', 'min_samples_split': 0.5, 'n_estimators': 1}\n",
      "0.862 (+/-0.144) for {'criterion': 'entropy', 'max_depth': 2, 'max_features': 'log2', 'min_samples_split': 0.5, 'n_estimators': 10}\n",
      "0.827 (+/-0.268) for {'criterion': 'entropy', 'max_depth': 2, 'max_features': 'log2', 'min_samples_split': 2, 'n_estimators': 1}\n",
      "0.896 (+/-0.097) for {'criterion': 'entropy', 'max_depth': 2, 'max_features': 'log2', 'min_samples_split': 2, 'n_estimators': 10}\n",
      "\n",
      "\n",
      "Best parameters set found are:\n",
      "{'criterion': 'gini', 'max_depth': 2, 'max_features': 'log2', 'min_samples_split': 2, 'n_estimators': 10}\n",
      "\n",
      "Grid scores on development set:\n",
      "0.582 (+/-0.299) for {'criterion': 'gini', 'max_depth': 1, 'max_features': 'auto', 'min_samples_split': 0.5, 'n_estimators': 1}\n",
      "0.834 (+/-0.206) for {'criterion': 'gini', 'max_depth': 1, 'max_features': 'auto', 'min_samples_split': 0.5, 'n_estimators': 10}\n",
      "0.645 (+/-0.186) for {'criterion': 'gini', 'max_depth': 1, 'max_features': 'auto', 'min_samples_split': 2, 'n_estimators': 1}\n",
      "0.847 (+/-0.248) for {'criterion': 'gini', 'max_depth': 1, 'max_features': 'auto', 'min_samples_split': 2, 'n_estimators': 10}\n",
      "0.576 (+/-0.200) for {'criterion': 'gini', 'max_depth': 1, 'max_features': 'sqrt', 'min_samples_split': 0.5, 'n_estimators': 1}\n",
      "0.757 (+/-0.113) for {'criterion': 'gini', 'max_depth': 1, 'max_features': 'sqrt', 'min_samples_split': 0.5, 'n_estimators': 10}\n",
      "0.548 (+/-0.201) for {'criterion': 'gini', 'max_depth': 1, 'max_features': 'sqrt', 'min_samples_split': 2, 'n_estimators': 1}\n",
      "0.813 (+/-0.159) for {'criterion': 'gini', 'max_depth': 1, 'max_features': 'sqrt', 'min_samples_split': 2, 'n_estimators': 10}\n",
      "0.589 (+/-0.219) for {'criterion': 'gini', 'max_depth': 1, 'max_features': 'log2', 'min_samples_split': 0.5, 'n_estimators': 1}\n",
      "0.744 (+/-0.089) for {'criterion': 'gini', 'max_depth': 1, 'max_features': 'log2', 'min_samples_split': 0.5, 'n_estimators': 10}\n",
      "0.605 (+/-0.257) for {'criterion': 'gini', 'max_depth': 1, 'max_features': 'log2', 'min_samples_split': 2, 'n_estimators': 1}\n",
      "0.792 (+/-0.122) for {'criterion': 'gini', 'max_depth': 1, 'max_features': 'log2', 'min_samples_split': 2, 'n_estimators': 10}\n",
      "0.674 (+/-0.145) for {'criterion': 'gini', 'max_depth': 2, 'max_features': 'auto', 'min_samples_split': 0.5, 'n_estimators': 1}\n",
      "0.862 (+/-0.144) for {'criterion': 'gini', 'max_depth': 2, 'max_features': 'auto', 'min_samples_split': 0.5, 'n_estimators': 10}\n",
      "0.820 (+/-0.191) for {'criterion': 'gini', 'max_depth': 2, 'max_features': 'auto', 'min_samples_split': 2, 'n_estimators': 1}\n",
      "0.896 (+/-0.195) for {'criterion': 'gini', 'max_depth': 2, 'max_features': 'auto', 'min_samples_split': 2, 'n_estimators': 10}\n",
      "0.506 (+/-0.199) for {'criterion': 'gini', 'max_depth': 2, 'max_features': 'sqrt', 'min_samples_split': 0.5, 'n_estimators': 1}\n",
      "0.778 (+/-0.225) for {'criterion': 'gini', 'max_depth': 2, 'max_features': 'sqrt', 'min_samples_split': 0.5, 'n_estimators': 10}\n",
      "0.751 (+/-0.218) for {'criterion': 'gini', 'max_depth': 2, 'max_features': 'sqrt', 'min_samples_split': 2, 'n_estimators': 1}\n",
      "0.924 (+/-0.101) for {'criterion': 'gini', 'max_depth': 2, 'max_features': 'sqrt', 'min_samples_split': 2, 'n_estimators': 10}\n",
      "0.681 (+/-0.132) for {'criterion': 'gini', 'max_depth': 2, 'max_features': 'log2', 'min_samples_split': 0.5, 'n_estimators': 1}\n",
      "0.820 (+/-0.158) for {'criterion': 'gini', 'max_depth': 2, 'max_features': 'log2', 'min_samples_split': 0.5, 'n_estimators': 10}\n",
      "0.749 (+/-0.269) for {'criterion': 'gini', 'max_depth': 2, 'max_features': 'log2', 'min_samples_split': 2, 'n_estimators': 1}\n",
      "0.952 (+/-0.103) for {'criterion': 'gini', 'max_depth': 2, 'max_features': 'log2', 'min_samples_split': 2, 'n_estimators': 10}\n",
      "0.611 (+/-0.169) for {'criterion': 'entropy', 'max_depth': 1, 'max_features': 'auto', 'min_samples_split': 0.5, 'n_estimators': 1}\n",
      "0.848 (+/-0.068) for {'criterion': 'entropy', 'max_depth': 1, 'max_features': 'auto', 'min_samples_split': 0.5, 'n_estimators': 10}\n",
      "0.597 (+/-0.144) for {'criterion': 'entropy', 'max_depth': 1, 'max_features': 'auto', 'min_samples_split': 2, 'n_estimators': 1}\n",
      "0.806 (+/-0.160) for {'criterion': 'entropy', 'max_depth': 1, 'max_features': 'auto', 'min_samples_split': 2, 'n_estimators': 10}\n",
      "0.583 (+/-0.190) for {'criterion': 'entropy', 'max_depth': 1, 'max_features': 'sqrt', 'min_samples_split': 0.5, 'n_estimators': 1}\n",
      "0.882 (+/-0.128) for {'criterion': 'entropy', 'max_depth': 1, 'max_features': 'sqrt', 'min_samples_split': 0.5, 'n_estimators': 10}\n",
      "0.555 (+/-0.241) for {'criterion': 'entropy', 'max_depth': 1, 'max_features': 'sqrt', 'min_samples_split': 2, 'n_estimators': 1}\n",
      "0.834 (+/-0.210) for {'criterion': 'entropy', 'max_depth': 1, 'max_features': 'sqrt', 'min_samples_split': 2, 'n_estimators': 10}\n",
      "0.695 (+/-0.117) for {'criterion': 'entropy', 'max_depth': 1, 'max_features': 'log2', 'min_samples_split': 0.5, 'n_estimators': 1}\n",
      "0.826 (+/-0.103) for {'criterion': 'entropy', 'max_depth': 1, 'max_features': 'log2', 'min_samples_split': 0.5, 'n_estimators': 10}\n",
      "0.542 (+/-0.126) for {'criterion': 'entropy', 'max_depth': 1, 'max_features': 'log2', 'min_samples_split': 2, 'n_estimators': 1}\n",
      "0.855 (+/-0.159) for {'criterion': 'entropy', 'max_depth': 1, 'max_features': 'log2', 'min_samples_split': 2, 'n_estimators': 10}\n",
      "0.605 (+/-0.193) for {'criterion': 'entropy', 'max_depth': 2, 'max_features': 'auto', 'min_samples_split': 0.5, 'n_estimators': 1}\n",
      "0.841 (+/-0.166) for {'criterion': 'entropy', 'max_depth': 2, 'max_features': 'auto', 'min_samples_split': 0.5, 'n_estimators': 10}\n",
      "0.720 (+/-0.314) for {'criterion': 'entropy', 'max_depth': 2, 'max_features': 'auto', 'min_samples_split': 2, 'n_estimators': 1}\n",
      "0.889 (+/-0.066) for {'criterion': 'entropy', 'max_depth': 2, 'max_features': 'auto', 'min_samples_split': 2, 'n_estimators': 10}\n",
      "0.667 (+/-0.148) for {'criterion': 'entropy', 'max_depth': 2, 'max_features': 'sqrt', 'min_samples_split': 0.5, 'n_estimators': 1}\n",
      "0.848 (+/-0.141) for {'criterion': 'entropy', 'max_depth': 2, 'max_features': 'sqrt', 'min_samples_split': 0.5, 'n_estimators': 10}\n",
      "0.721 (+/-0.223) for {'criterion': 'entropy', 'max_depth': 2, 'max_features': 'sqrt', 'min_samples_split': 2, 'n_estimators': 1}\n",
      "0.902 (+/-0.070) for {'criterion': 'entropy', 'max_depth': 2, 'max_features': 'sqrt', 'min_samples_split': 2, 'n_estimators': 10}\n",
      "0.729 (+/-0.193) for {'criterion': 'entropy', 'max_depth': 2, 'max_features': 'log2', 'min_samples_split': 0.5, 'n_estimators': 1}\n",
      "0.791 (+/-0.049) for {'criterion': 'entropy', 'max_depth': 2, 'max_features': 'log2', 'min_samples_split': 0.5, 'n_estimators': 10}\n",
      "0.833 (+/-0.244) for {'criterion': 'entropy', 'max_depth': 2, 'max_features': 'log2', 'min_samples_split': 2, 'n_estimators': 1}\n",
      "0.952 (+/-0.103) for {'criterion': 'entropy', 'max_depth': 2, 'max_features': 'log2', 'min_samples_split': 2, 'n_estimators': 10}\n",
      "\n",
      "\n"
     ]
    },
    {
     "name": "stdout",
     "output_type": "stream",
     "text": [
      "Best parameters set found are:\n",
      "{'criterion': 'gini', 'max_depth': 2, 'max_features': 'log2', 'min_samples_split': 2, 'n_estimators': 10}\n",
      "\n",
      "Grid scores on development set:\n",
      "0.688 (+/-0.111) for {'criterion': 'gini', 'max_depth': 1, 'max_features': 'auto', 'min_samples_split': 0.5, 'n_estimators': 1}\n",
      "0.806 (+/-0.101) for {'criterion': 'gini', 'max_depth': 1, 'max_features': 'auto', 'min_samples_split': 0.5, 'n_estimators': 10}\n",
      "0.646 (+/-0.168) for {'criterion': 'gini', 'max_depth': 1, 'max_features': 'auto', 'min_samples_split': 2, 'n_estimators': 1}\n",
      "0.792 (+/-0.095) for {'criterion': 'gini', 'max_depth': 1, 'max_features': 'auto', 'min_samples_split': 2, 'n_estimators': 10}\n",
      "0.619 (+/-0.251) for {'criterion': 'gini', 'max_depth': 1, 'max_features': 'sqrt', 'min_samples_split': 0.5, 'n_estimators': 1}\n",
      "0.777 (+/-0.174) for {'criterion': 'gini', 'max_depth': 1, 'max_features': 'sqrt', 'min_samples_split': 0.5, 'n_estimators': 10}\n",
      "0.577 (+/-0.306) for {'criterion': 'gini', 'max_depth': 1, 'max_features': 'sqrt', 'min_samples_split': 2, 'n_estimators': 1}\n",
      "0.839 (+/-0.188) for {'criterion': 'gini', 'max_depth': 1, 'max_features': 'sqrt', 'min_samples_split': 2, 'n_estimators': 10}\n",
      "0.590 (+/-0.262) for {'criterion': 'gini', 'max_depth': 1, 'max_features': 'log2', 'min_samples_split': 0.5, 'n_estimators': 1}\n",
      "0.820 (+/-0.133) for {'criterion': 'gini', 'max_depth': 1, 'max_features': 'log2', 'min_samples_split': 0.5, 'n_estimators': 10}\n",
      "0.659 (+/-0.171) for {'criterion': 'gini', 'max_depth': 1, 'max_features': 'log2', 'min_samples_split': 2, 'n_estimators': 1}\n",
      "0.847 (+/-0.087) for {'criterion': 'gini', 'max_depth': 1, 'max_features': 'log2', 'min_samples_split': 2, 'n_estimators': 10}\n",
      "0.590 (+/-0.158) for {'criterion': 'gini', 'max_depth': 2, 'max_features': 'auto', 'min_samples_split': 0.5, 'n_estimators': 1}\n",
      "0.834 (+/-0.181) for {'criterion': 'gini', 'max_depth': 2, 'max_features': 'auto', 'min_samples_split': 0.5, 'n_estimators': 10}\n",
      "0.826 (+/-0.233) for {'criterion': 'gini', 'max_depth': 2, 'max_features': 'auto', 'min_samples_split': 2, 'n_estimators': 1}\n",
      "0.951 (+/-0.071) for {'criterion': 'gini', 'max_depth': 2, 'max_features': 'auto', 'min_samples_split': 2, 'n_estimators': 10}\n",
      "0.674 (+/-0.107) for {'criterion': 'gini', 'max_depth': 2, 'max_features': 'sqrt', 'min_samples_split': 0.5, 'n_estimators': 1}\n",
      "0.806 (+/-0.126) for {'criterion': 'gini', 'max_depth': 2, 'max_features': 'sqrt', 'min_samples_split': 0.5, 'n_estimators': 10}\n",
      "0.896 (+/-0.144) for {'criterion': 'gini', 'max_depth': 2, 'max_features': 'sqrt', 'min_samples_split': 2, 'n_estimators': 1}\n",
      "0.944 (+/-0.128) for {'criterion': 'gini', 'max_depth': 2, 'max_features': 'sqrt', 'min_samples_split': 2, 'n_estimators': 10}\n",
      "0.610 (+/-0.250) for {'criterion': 'gini', 'max_depth': 2, 'max_features': 'log2', 'min_samples_split': 0.5, 'n_estimators': 1}\n",
      "0.840 (+/-0.146) for {'criterion': 'gini', 'max_depth': 2, 'max_features': 'log2', 'min_samples_split': 0.5, 'n_estimators': 10}\n",
      "0.862 (+/-0.195) for {'criterion': 'gini', 'max_depth': 2, 'max_features': 'log2', 'min_samples_split': 2, 'n_estimators': 1}\n",
      "0.958 (+/-0.101) for {'criterion': 'gini', 'max_depth': 2, 'max_features': 'log2', 'min_samples_split': 2, 'n_estimators': 10}\n",
      "0.640 (+/-0.311) for {'criterion': 'entropy', 'max_depth': 1, 'max_features': 'auto', 'min_samples_split': 0.5, 'n_estimators': 1}\n",
      "0.846 (+/-0.161) for {'criterion': 'entropy', 'max_depth': 1, 'max_features': 'auto', 'min_samples_split': 0.5, 'n_estimators': 10}\n",
      "0.535 (+/-0.184) for {'criterion': 'entropy', 'max_depth': 1, 'max_features': 'auto', 'min_samples_split': 2, 'n_estimators': 1}\n",
      "0.805 (+/-0.115) for {'criterion': 'entropy', 'max_depth': 1, 'max_features': 'auto', 'min_samples_split': 2, 'n_estimators': 10}\n",
      "0.695 (+/-0.138) for {'criterion': 'entropy', 'max_depth': 1, 'max_features': 'sqrt', 'min_samples_split': 0.5, 'n_estimators': 1}\n",
      "0.813 (+/-0.126) for {'criterion': 'entropy', 'max_depth': 1, 'max_features': 'sqrt', 'min_samples_split': 0.5, 'n_estimators': 10}\n",
      "0.633 (+/-0.288) for {'criterion': 'entropy', 'max_depth': 1, 'max_features': 'sqrt', 'min_samples_split': 2, 'n_estimators': 1}\n",
      "0.818 (+/-0.270) for {'criterion': 'entropy', 'max_depth': 1, 'max_features': 'sqrt', 'min_samples_split': 2, 'n_estimators': 10}\n",
      "0.590 (+/-0.077) for {'criterion': 'entropy', 'max_depth': 1, 'max_features': 'log2', 'min_samples_split': 0.5, 'n_estimators': 1}\n",
      "0.840 (+/-0.155) for {'criterion': 'entropy', 'max_depth': 1, 'max_features': 'log2', 'min_samples_split': 0.5, 'n_estimators': 10}\n",
      "0.597 (+/-0.126) for {'criterion': 'entropy', 'max_depth': 1, 'max_features': 'log2', 'min_samples_split': 2, 'n_estimators': 1}\n",
      "0.818 (+/-0.234) for {'criterion': 'entropy', 'max_depth': 1, 'max_features': 'log2', 'min_samples_split': 2, 'n_estimators': 10}\n",
      "0.597 (+/-0.067) for {'criterion': 'entropy', 'max_depth': 2, 'max_features': 'auto', 'min_samples_split': 0.5, 'n_estimators': 1}\n",
      "0.852 (+/-0.328) for {'criterion': 'entropy', 'max_depth': 2, 'max_features': 'auto', 'min_samples_split': 0.5, 'n_estimators': 10}\n",
      "0.868 (+/-0.133) for {'criterion': 'entropy', 'max_depth': 2, 'max_features': 'auto', 'min_samples_split': 2, 'n_estimators': 1}\n",
      "0.937 (+/-0.082) for {'criterion': 'entropy', 'max_depth': 2, 'max_features': 'auto', 'min_samples_split': 2, 'n_estimators': 10}\n",
      "0.652 (+/-0.160) for {'criterion': 'entropy', 'max_depth': 2, 'max_features': 'sqrt', 'min_samples_split': 0.5, 'n_estimators': 1}\n",
      "0.875 (+/-0.130) for {'criterion': 'entropy', 'max_depth': 2, 'max_features': 'sqrt', 'min_samples_split': 0.5, 'n_estimators': 10}\n",
      "0.805 (+/-0.201) for {'criterion': 'entropy', 'max_depth': 2, 'max_features': 'sqrt', 'min_samples_split': 2, 'n_estimators': 1}\n",
      "0.951 (+/-0.070) for {'criterion': 'entropy', 'max_depth': 2, 'max_features': 'sqrt', 'min_samples_split': 2, 'n_estimators': 10}\n",
      "0.604 (+/-0.068) for {'criterion': 'entropy', 'max_depth': 2, 'max_features': 'log2', 'min_samples_split': 0.5, 'n_estimators': 1}\n",
      "0.804 (+/-0.186) for {'criterion': 'entropy', 'max_depth': 2, 'max_features': 'log2', 'min_samples_split': 0.5, 'n_estimators': 10}\n",
      "0.779 (+/-0.303) for {'criterion': 'entropy', 'max_depth': 2, 'max_features': 'log2', 'min_samples_split': 2, 'n_estimators': 1}\n",
      "0.930 (+/-0.100) for {'criterion': 'entropy', 'max_depth': 2, 'max_features': 'log2', 'min_samples_split': 2, 'n_estimators': 10}\n",
      "\n",
      "\n",
      "Best parameters set found are:\n",
      "{'criterion': 'gini', 'max_depth': 2, 'max_features': 'sqrt', 'min_samples_split': 2, 'n_estimators': 10}\n",
      "\n",
      "Grid scores on development set:\n",
      "0.619 (+/-0.164) for {'criterion': 'gini', 'max_depth': 1, 'max_features': 'auto', 'min_samples_split': 0.5, 'n_estimators': 1}\n",
      "0.840 (+/-0.190) for {'criterion': 'gini', 'max_depth': 1, 'max_features': 'auto', 'min_samples_split': 0.5, 'n_estimators': 10}\n",
      "0.626 (+/-0.188) for {'criterion': 'gini', 'max_depth': 1, 'max_features': 'auto', 'min_samples_split': 2, 'n_estimators': 1}\n",
      "0.854 (+/-0.162) for {'criterion': 'gini', 'max_depth': 1, 'max_features': 'auto', 'min_samples_split': 2, 'n_estimators': 10}\n",
      "0.653 (+/-0.172) for {'criterion': 'gini', 'max_depth': 1, 'max_features': 'sqrt', 'min_samples_split': 0.5, 'n_estimators': 1}\n",
      "0.840 (+/-0.111) for {'criterion': 'gini', 'max_depth': 1, 'max_features': 'sqrt', 'min_samples_split': 0.5, 'n_estimators': 10}\n",
      "0.688 (+/-0.095) for {'criterion': 'gini', 'max_depth': 1, 'max_features': 'sqrt', 'min_samples_split': 2, 'n_estimators': 1}\n",
      "0.798 (+/-0.107) for {'criterion': 'gini', 'max_depth': 1, 'max_features': 'sqrt', 'min_samples_split': 2, 'n_estimators': 10}\n",
      "0.647 (+/-0.307) for {'criterion': 'gini', 'max_depth': 1, 'max_features': 'log2', 'min_samples_split': 0.5, 'n_estimators': 1}\n",
      "0.861 (+/-0.123) for {'criterion': 'gini', 'max_depth': 1, 'max_features': 'log2', 'min_samples_split': 0.5, 'n_estimators': 10}\n",
      "0.521 (+/-0.120) for {'criterion': 'gini', 'max_depth': 1, 'max_features': 'log2', 'min_samples_split': 2, 'n_estimators': 1}\n",
      "0.806 (+/-0.054) for {'criterion': 'gini', 'max_depth': 1, 'max_features': 'log2', 'min_samples_split': 2, 'n_estimators': 10}\n",
      "0.597 (+/-0.240) for {'criterion': 'gini', 'max_depth': 2, 'max_features': 'auto', 'min_samples_split': 0.5, 'n_estimators': 1}\n",
      "0.827 (+/-0.086) for {'criterion': 'gini', 'max_depth': 2, 'max_features': 'auto', 'min_samples_split': 0.5, 'n_estimators': 10}\n",
      "0.736 (+/-0.270) for {'criterion': 'gini', 'max_depth': 2, 'max_features': 'auto', 'min_samples_split': 2, 'n_estimators': 1}\n",
      "0.910 (+/-0.161) for {'criterion': 'gini', 'max_depth': 2, 'max_features': 'auto', 'min_samples_split': 2, 'n_estimators': 10}\n",
      "0.667 (+/-0.139) for {'criterion': 'gini', 'max_depth': 2, 'max_features': 'sqrt', 'min_samples_split': 0.5, 'n_estimators': 1}\n",
      "0.743 (+/-0.170) for {'criterion': 'gini', 'max_depth': 2, 'max_features': 'sqrt', 'min_samples_split': 0.5, 'n_estimators': 10}\n",
      "0.819 (+/-0.150) for {'criterion': 'gini', 'max_depth': 2, 'max_features': 'sqrt', 'min_samples_split': 2, 'n_estimators': 1}\n",
      "0.951 (+/-0.073) for {'criterion': 'gini', 'max_depth': 2, 'max_features': 'sqrt', 'min_samples_split': 2, 'n_estimators': 10}\n",
      "0.639 (+/-0.115) for {'criterion': 'gini', 'max_depth': 2, 'max_features': 'log2', 'min_samples_split': 0.5, 'n_estimators': 1}\n",
      "0.792 (+/-0.151) for {'criterion': 'gini', 'max_depth': 2, 'max_features': 'log2', 'min_samples_split': 0.5, 'n_estimators': 10}\n",
      "0.876 (+/-0.166) for {'criterion': 'gini', 'max_depth': 2, 'max_features': 'log2', 'min_samples_split': 2, 'n_estimators': 1}\n",
      "0.883 (+/-0.141) for {'criterion': 'gini', 'max_depth': 2, 'max_features': 'log2', 'min_samples_split': 2, 'n_estimators': 10}\n",
      "0.681 (+/-0.157) for {'criterion': 'entropy', 'max_depth': 1, 'max_features': 'auto', 'min_samples_split': 0.5, 'n_estimators': 1}\n",
      "0.790 (+/-0.263) for {'criterion': 'entropy', 'max_depth': 1, 'max_features': 'auto', 'min_samples_split': 0.5, 'n_estimators': 10}\n",
      "0.604 (+/-0.220) for {'criterion': 'entropy', 'max_depth': 1, 'max_features': 'auto', 'min_samples_split': 2, 'n_estimators': 1}\n",
      "0.861 (+/-0.119) for {'criterion': 'entropy', 'max_depth': 1, 'max_features': 'auto', 'min_samples_split': 2, 'n_estimators': 10}\n",
      "0.673 (+/-0.147) for {'criterion': 'entropy', 'max_depth': 1, 'max_features': 'sqrt', 'min_samples_split': 0.5, 'n_estimators': 1}\n",
      "0.771 (+/-0.113) for {'criterion': 'entropy', 'max_depth': 1, 'max_features': 'sqrt', 'min_samples_split': 0.5, 'n_estimators': 10}\n",
      "0.639 (+/-0.144) for {'criterion': 'entropy', 'max_depth': 1, 'max_features': 'sqrt', 'min_samples_split': 2, 'n_estimators': 1}\n",
      "0.799 (+/-0.049) for {'criterion': 'entropy', 'max_depth': 1, 'max_features': 'sqrt', 'min_samples_split': 2, 'n_estimators': 10}\n",
      "0.631 (+/-0.238) for {'criterion': 'entropy', 'max_depth': 1, 'max_features': 'log2', 'min_samples_split': 0.5, 'n_estimators': 1}\n",
      "0.777 (+/-0.160) for {'criterion': 'entropy', 'max_depth': 1, 'max_features': 'log2', 'min_samples_split': 0.5, 'n_estimators': 10}\n",
      "0.646 (+/-0.085) for {'criterion': 'entropy', 'max_depth': 1, 'max_features': 'log2', 'min_samples_split': 2, 'n_estimators': 1}\n",
      "0.867 (+/-0.159) for {'criterion': 'entropy', 'max_depth': 1, 'max_features': 'log2', 'min_samples_split': 2, 'n_estimators': 10}\n",
      "0.640 (+/-0.168) for {'criterion': 'entropy', 'max_depth': 2, 'max_features': 'auto', 'min_samples_split': 0.5, 'n_estimators': 1}\n",
      "0.846 (+/-0.243) for {'criterion': 'entropy', 'max_depth': 2, 'max_features': 'auto', 'min_samples_split': 0.5, 'n_estimators': 10}\n",
      "0.786 (+/-0.191) for {'criterion': 'entropy', 'max_depth': 2, 'max_features': 'auto', 'min_samples_split': 2, 'n_estimators': 1}\n",
      "0.938 (+/-0.080) for {'criterion': 'entropy', 'max_depth': 2, 'max_features': 'auto', 'min_samples_split': 2, 'n_estimators': 10}\n",
      "0.686 (+/-0.163) for {'criterion': 'entropy', 'max_depth': 2, 'max_features': 'sqrt', 'min_samples_split': 0.5, 'n_estimators': 1}\n",
      "0.867 (+/-0.172) for {'criterion': 'entropy', 'max_depth': 2, 'max_features': 'sqrt', 'min_samples_split': 0.5, 'n_estimators': 10}\n",
      "0.721 (+/-0.206) for {'criterion': 'entropy', 'max_depth': 2, 'max_features': 'sqrt', 'min_samples_split': 2, 'n_estimators': 1}\n",
      "0.910 (+/-0.142) for {'criterion': 'entropy', 'max_depth': 2, 'max_features': 'sqrt', 'min_samples_split': 2, 'n_estimators': 10}\n",
      "0.597 (+/-0.144) for {'criterion': 'entropy', 'max_depth': 2, 'max_features': 'log2', 'min_samples_split': 0.5, 'n_estimators': 1}\n",
      "0.791 (+/-0.066) for {'criterion': 'entropy', 'max_depth': 2, 'max_features': 'log2', 'min_samples_split': 0.5, 'n_estimators': 10}\n",
      "0.765 (+/-0.318) for {'criterion': 'entropy', 'max_depth': 2, 'max_features': 'log2', 'min_samples_split': 2, 'n_estimators': 1}\n",
      "0.924 (+/-0.101) for {'criterion': 'entropy', 'max_depth': 2, 'max_features': 'log2', 'min_samples_split': 2, 'n_estimators': 10}\n",
      "\n",
      "\n"
     ]
    },
    {
     "name": "stdout",
     "output_type": "stream",
     "text": [
      "Best parameters set found are:\n",
      "{'criterion': 'entropy', 'max_depth': 2, 'max_features': 'auto', 'min_samples_split': 2, 'n_estimators': 10}\n",
      "\n",
      "Grid scores on development set:\n",
      "0.611 (+/-0.171) for {'criterion': 'gini', 'max_depth': 1, 'max_features': 'auto', 'min_samples_split': 0.5, 'n_estimators': 1}\n",
      "0.813 (+/-0.081) for {'criterion': 'gini', 'max_depth': 1, 'max_features': 'auto', 'min_samples_split': 0.5, 'n_estimators': 10}\n",
      "0.631 (+/-0.204) for {'criterion': 'gini', 'max_depth': 1, 'max_features': 'auto', 'min_samples_split': 2, 'n_estimators': 1}\n",
      "0.762 (+/-0.277) for {'criterion': 'gini', 'max_depth': 1, 'max_features': 'auto', 'min_samples_split': 2, 'n_estimators': 10}\n",
      "0.688 (+/-0.120) for {'criterion': 'gini', 'max_depth': 1, 'max_features': 'sqrt', 'min_samples_split': 0.5, 'n_estimators': 1}\n",
      "0.805 (+/-0.169) for {'criterion': 'gini', 'max_depth': 1, 'max_features': 'sqrt', 'min_samples_split': 0.5, 'n_estimators': 10}\n",
      "0.639 (+/-0.060) for {'criterion': 'gini', 'max_depth': 1, 'max_features': 'sqrt', 'min_samples_split': 2, 'n_estimators': 1}\n",
      "0.812 (+/-0.168) for {'criterion': 'gini', 'max_depth': 1, 'max_features': 'sqrt', 'min_samples_split': 2, 'n_estimators': 10}\n",
      "0.577 (+/-0.062) for {'criterion': 'gini', 'max_depth': 1, 'max_features': 'log2', 'min_samples_split': 0.5, 'n_estimators': 1}\n",
      "0.804 (+/-0.244) for {'criterion': 'gini', 'max_depth': 1, 'max_features': 'log2', 'min_samples_split': 0.5, 'n_estimators': 10}\n",
      "0.632 (+/-0.137) for {'criterion': 'gini', 'max_depth': 1, 'max_features': 'log2', 'min_samples_split': 2, 'n_estimators': 1}\n",
      "0.826 (+/-0.196) for {'criterion': 'gini', 'max_depth': 1, 'max_features': 'log2', 'min_samples_split': 2, 'n_estimators': 10}\n",
      "0.563 (+/-0.141) for {'criterion': 'gini', 'max_depth': 2, 'max_features': 'auto', 'min_samples_split': 0.5, 'n_estimators': 1}\n",
      "0.693 (+/-0.224) for {'criterion': 'gini', 'max_depth': 2, 'max_features': 'auto', 'min_samples_split': 0.5, 'n_estimators': 10}\n",
      "0.750 (+/-0.227) for {'criterion': 'gini', 'max_depth': 2, 'max_features': 'auto', 'min_samples_split': 2, 'n_estimators': 1}\n",
      "0.923 (+/-0.069) for {'criterion': 'gini', 'max_depth': 2, 'max_features': 'auto', 'min_samples_split': 2, 'n_estimators': 10}\n",
      "0.562 (+/-0.156) for {'criterion': 'gini', 'max_depth': 2, 'max_features': 'sqrt', 'min_samples_split': 0.5, 'n_estimators': 1}\n",
      "0.763 (+/-0.117) for {'criterion': 'gini', 'max_depth': 2, 'max_features': 'sqrt', 'min_samples_split': 0.5, 'n_estimators': 10}\n",
      "0.786 (+/-0.191) for {'criterion': 'gini', 'max_depth': 2, 'max_features': 'sqrt', 'min_samples_split': 2, 'n_estimators': 1}\n",
      "0.931 (+/-0.131) for {'criterion': 'gini', 'max_depth': 2, 'max_features': 'sqrt', 'min_samples_split': 2, 'n_estimators': 10}\n",
      "0.653 (+/-0.201) for {'criterion': 'gini', 'max_depth': 2, 'max_features': 'log2', 'min_samples_split': 0.5, 'n_estimators': 1}\n",
      "0.805 (+/-0.199) for {'criterion': 'gini', 'max_depth': 2, 'max_features': 'log2', 'min_samples_split': 0.5, 'n_estimators': 10}\n",
      "0.786 (+/-0.303) for {'criterion': 'gini', 'max_depth': 2, 'max_features': 'log2', 'min_samples_split': 2, 'n_estimators': 1}\n",
      "0.882 (+/-0.103) for {'criterion': 'gini', 'max_depth': 2, 'max_features': 'log2', 'min_samples_split': 2, 'n_estimators': 10}\n",
      "0.577 (+/-0.185) for {'criterion': 'entropy', 'max_depth': 1, 'max_features': 'auto', 'min_samples_split': 0.5, 'n_estimators': 1}\n",
      "0.763 (+/-0.146) for {'criterion': 'entropy', 'max_depth': 1, 'max_features': 'auto', 'min_samples_split': 0.5, 'n_estimators': 10}\n",
      "0.584 (+/-0.150) for {'criterion': 'entropy', 'max_depth': 1, 'max_features': 'auto', 'min_samples_split': 2, 'n_estimators': 1}\n",
      "0.757 (+/-0.039) for {'criterion': 'entropy', 'max_depth': 1, 'max_features': 'auto', 'min_samples_split': 2, 'n_estimators': 10}\n",
      "0.533 (+/-0.230) for {'criterion': 'entropy', 'max_depth': 1, 'max_features': 'sqrt', 'min_samples_split': 0.5, 'n_estimators': 1}\n",
      "0.770 (+/-0.147) for {'criterion': 'entropy', 'max_depth': 1, 'max_features': 'sqrt', 'min_samples_split': 0.5, 'n_estimators': 10}\n",
      "0.666 (+/-0.184) for {'criterion': 'entropy', 'max_depth': 1, 'max_features': 'sqrt', 'min_samples_split': 2, 'n_estimators': 1}\n",
      "0.791 (+/-0.160) for {'criterion': 'entropy', 'max_depth': 1, 'max_features': 'sqrt', 'min_samples_split': 2, 'n_estimators': 10}\n",
      "0.625 (+/-0.127) for {'criterion': 'entropy', 'max_depth': 1, 'max_features': 'log2', 'min_samples_split': 0.5, 'n_estimators': 1}\n",
      "0.756 (+/-0.219) for {'criterion': 'entropy', 'max_depth': 1, 'max_features': 'log2', 'min_samples_split': 0.5, 'n_estimators': 10}\n",
      "0.604 (+/-0.202) for {'criterion': 'entropy', 'max_depth': 1, 'max_features': 'log2', 'min_samples_split': 2, 'n_estimators': 1}\n",
      "0.805 (+/-0.189) for {'criterion': 'entropy', 'max_depth': 1, 'max_features': 'log2', 'min_samples_split': 2, 'n_estimators': 10}\n",
      "0.576 (+/-0.086) for {'criterion': 'entropy', 'max_depth': 2, 'max_features': 'auto', 'min_samples_split': 0.5, 'n_estimators': 1}\n",
      "0.896 (+/-0.139) for {'criterion': 'entropy', 'max_depth': 2, 'max_features': 'auto', 'min_samples_split': 0.5, 'n_estimators': 10}\n",
      "0.772 (+/-0.176) for {'criterion': 'entropy', 'max_depth': 2, 'max_features': 'auto', 'min_samples_split': 2, 'n_estimators': 1}\n",
      "0.945 (+/-0.033) for {'criterion': 'entropy', 'max_depth': 2, 'max_features': 'auto', 'min_samples_split': 2, 'n_estimators': 10}\n",
      "0.764 (+/-0.154) for {'criterion': 'entropy', 'max_depth': 2, 'max_features': 'sqrt', 'min_samples_split': 0.5, 'n_estimators': 1}\n",
      "0.799 (+/-0.159) for {'criterion': 'entropy', 'max_depth': 2, 'max_features': 'sqrt', 'min_samples_split': 0.5, 'n_estimators': 10}\n",
      "0.798 (+/-0.185) for {'criterion': 'entropy', 'max_depth': 2, 'max_features': 'sqrt', 'min_samples_split': 2, 'n_estimators': 1}\n",
      "0.861 (+/-0.125) for {'criterion': 'entropy', 'max_depth': 2, 'max_features': 'sqrt', 'min_samples_split': 2, 'n_estimators': 10}\n",
      "0.611 (+/-0.171) for {'criterion': 'entropy', 'max_depth': 2, 'max_features': 'log2', 'min_samples_split': 0.5, 'n_estimators': 1}\n",
      "0.784 (+/-0.208) for {'criterion': 'entropy', 'max_depth': 2, 'max_features': 'log2', 'min_samples_split': 0.5, 'n_estimators': 10}\n",
      "0.765 (+/-0.200) for {'criterion': 'entropy', 'max_depth': 2, 'max_features': 'log2', 'min_samples_split': 2, 'n_estimators': 1}\n",
      "0.917 (+/-0.103) for {'criterion': 'entropy', 'max_depth': 2, 'max_features': 'log2', 'min_samples_split': 2, 'n_estimators': 10}\n",
      "\n",
      "\n",
      "Best parameters set found are:\n",
      "{'criterion': 'entropy', 'max_depth': 2, 'max_features': 'auto', 'min_samples_split': 2, 'n_estimators': 10}\n",
      "\n",
      "Grid scores on development set:\n",
      "0.654 (+/-0.175) for {'criterion': 'gini', 'max_depth': 1, 'max_features': 'auto', 'min_samples_split': 0.5, 'n_estimators': 1}\n",
      "0.813 (+/-0.165) for {'criterion': 'gini', 'max_depth': 1, 'max_features': 'auto', 'min_samples_split': 0.5, 'n_estimators': 10}\n",
      "0.709 (+/-0.152) for {'criterion': 'gini', 'max_depth': 1, 'max_features': 'auto', 'min_samples_split': 2, 'n_estimators': 1}\n",
      "0.792 (+/-0.169) for {'criterion': 'gini', 'max_depth': 1, 'max_features': 'auto', 'min_samples_split': 2, 'n_estimators': 10}\n",
      "0.619 (+/-0.262) for {'criterion': 'gini', 'max_depth': 1, 'max_features': 'sqrt', 'min_samples_split': 0.5, 'n_estimators': 1}\n",
      "0.778 (+/-0.219) for {'criterion': 'gini', 'max_depth': 1, 'max_features': 'sqrt', 'min_samples_split': 0.5, 'n_estimators': 10}\n",
      "0.583 (+/-0.180) for {'criterion': 'gini', 'max_depth': 1, 'max_features': 'sqrt', 'min_samples_split': 2, 'n_estimators': 1}\n",
      "0.820 (+/-0.164) for {'criterion': 'gini', 'max_depth': 1, 'max_features': 'sqrt', 'min_samples_split': 2, 'n_estimators': 10}\n",
      "0.618 (+/-0.131) for {'criterion': 'gini', 'max_depth': 1, 'max_features': 'log2', 'min_samples_split': 0.5, 'n_estimators': 1}\n",
      "0.882 (+/-0.127) for {'criterion': 'gini', 'max_depth': 1, 'max_features': 'log2', 'min_samples_split': 0.5, 'n_estimators': 10}\n",
      "0.625 (+/-0.142) for {'criterion': 'gini', 'max_depth': 1, 'max_features': 'log2', 'min_samples_split': 2, 'n_estimators': 1}\n",
      "0.841 (+/-0.225) for {'criterion': 'gini', 'max_depth': 1, 'max_features': 'log2', 'min_samples_split': 2, 'n_estimators': 10}\n",
      "0.667 (+/-0.150) for {'criterion': 'gini', 'max_depth': 2, 'max_features': 'auto', 'min_samples_split': 0.5, 'n_estimators': 1}\n",
      "0.840 (+/-0.120) for {'criterion': 'gini', 'max_depth': 2, 'max_features': 'auto', 'min_samples_split': 0.5, 'n_estimators': 10}\n",
      "0.779 (+/-0.267) for {'criterion': 'gini', 'max_depth': 2, 'max_features': 'auto', 'min_samples_split': 2, 'n_estimators': 1}\n",
      "0.896 (+/-0.086) for {'criterion': 'gini', 'max_depth': 2, 'max_features': 'auto', 'min_samples_split': 2, 'n_estimators': 10}\n",
      "0.632 (+/-0.152) for {'criterion': 'gini', 'max_depth': 2, 'max_features': 'sqrt', 'min_samples_split': 0.5, 'n_estimators': 1}\n",
      "0.862 (+/-0.195) for {'criterion': 'gini', 'max_depth': 2, 'max_features': 'sqrt', 'min_samples_split': 0.5, 'n_estimators': 10}\n",
      "0.799 (+/-0.099) for {'criterion': 'gini', 'max_depth': 2, 'max_features': 'sqrt', 'min_samples_split': 2, 'n_estimators': 1}\n",
      "0.945 (+/-0.103) for {'criterion': 'gini', 'max_depth': 2, 'max_features': 'sqrt', 'min_samples_split': 2, 'n_estimators': 10}\n",
      "0.596 (+/-0.266) for {'criterion': 'gini', 'max_depth': 2, 'max_features': 'log2', 'min_samples_split': 0.5, 'n_estimators': 1}\n",
      "0.785 (+/-0.152) for {'criterion': 'gini', 'max_depth': 2, 'max_features': 'log2', 'min_samples_split': 0.5, 'n_estimators': 10}\n",
      "0.729 (+/-0.148) for {'criterion': 'gini', 'max_depth': 2, 'max_features': 'log2', 'min_samples_split': 2, 'n_estimators': 1}\n",
      "0.952 (+/-0.083) for {'criterion': 'gini', 'max_depth': 2, 'max_features': 'log2', 'min_samples_split': 2, 'n_estimators': 10}\n",
      "0.562 (+/-0.060) for {'criterion': 'entropy', 'max_depth': 1, 'max_features': 'auto', 'min_samples_split': 0.5, 'n_estimators': 1}\n",
      "0.833 (+/-0.141) for {'criterion': 'entropy', 'max_depth': 1, 'max_features': 'auto', 'min_samples_split': 0.5, 'n_estimators': 10}\n",
      "0.653 (+/-0.057) for {'criterion': 'entropy', 'max_depth': 1, 'max_features': 'auto', 'min_samples_split': 2, 'n_estimators': 1}\n",
      "0.820 (+/-0.201) for {'criterion': 'entropy', 'max_depth': 1, 'max_features': 'auto', 'min_samples_split': 2, 'n_estimators': 10}\n",
      "0.610 (+/-0.240) for {'criterion': 'entropy', 'max_depth': 1, 'max_features': 'sqrt', 'min_samples_split': 0.5, 'n_estimators': 1}\n",
      "0.826 (+/-0.135) for {'criterion': 'entropy', 'max_depth': 1, 'max_features': 'sqrt', 'min_samples_split': 0.5, 'n_estimators': 10}\n",
      "0.535 (+/-0.119) for {'criterion': 'entropy', 'max_depth': 1, 'max_features': 'sqrt', 'min_samples_split': 2, 'n_estimators': 1}\n",
      "0.826 (+/-0.098) for {'criterion': 'entropy', 'max_depth': 1, 'max_features': 'sqrt', 'min_samples_split': 2, 'n_estimators': 10}\n",
      "0.529 (+/-0.220) for {'criterion': 'entropy', 'max_depth': 1, 'max_features': 'log2', 'min_samples_split': 0.5, 'n_estimators': 1}\n",
      "0.785 (+/-0.088) for {'criterion': 'entropy', 'max_depth': 1, 'max_features': 'log2', 'min_samples_split': 0.5, 'n_estimators': 10}\n",
      "0.618 (+/-0.192) for {'criterion': 'entropy', 'max_depth': 1, 'max_features': 'log2', 'min_samples_split': 2, 'n_estimators': 1}\n",
      "0.750 (+/-0.124) for {'criterion': 'entropy', 'max_depth': 1, 'max_features': 'log2', 'min_samples_split': 2, 'n_estimators': 10}\n",
      "0.668 (+/-0.246) for {'criterion': 'entropy', 'max_depth': 2, 'max_features': 'auto', 'min_samples_split': 0.5, 'n_estimators': 1}\n",
      "0.722 (+/-0.143) for {'criterion': 'entropy', 'max_depth': 2, 'max_features': 'auto', 'min_samples_split': 0.5, 'n_estimators': 10}\n",
      "0.812 (+/-0.194) for {'criterion': 'entropy', 'max_depth': 2, 'max_features': 'auto', 'min_samples_split': 2, 'n_estimators': 1}\n",
      "0.958 (+/-0.081) for {'criterion': 'entropy', 'max_depth': 2, 'max_features': 'auto', 'min_samples_split': 2, 'n_estimators': 10}\n",
      "0.632 (+/-0.079) for {'criterion': 'entropy', 'max_depth': 2, 'max_features': 'sqrt', 'min_samples_split': 0.5, 'n_estimators': 1}\n",
      "0.833 (+/-0.147) for {'criterion': 'entropy', 'max_depth': 2, 'max_features': 'sqrt', 'min_samples_split': 0.5, 'n_estimators': 10}\n",
      "0.717 (+/-0.299) for {'criterion': 'entropy', 'max_depth': 2, 'max_features': 'sqrt', 'min_samples_split': 2, 'n_estimators': 1}\n",
      "0.910 (+/-0.082) for {'criterion': 'entropy', 'max_depth': 2, 'max_features': 'sqrt', 'min_samples_split': 2, 'n_estimators': 10}\n",
      "0.568 (+/-0.173) for {'criterion': 'entropy', 'max_depth': 2, 'max_features': 'log2', 'min_samples_split': 0.5, 'n_estimators': 1}\n",
      "0.841 (+/-0.141) for {'criterion': 'entropy', 'max_depth': 2, 'max_features': 'log2', 'min_samples_split': 0.5, 'n_estimators': 10}\n",
      "0.743 (+/-0.142) for {'criterion': 'entropy', 'max_depth': 2, 'max_features': 'log2', 'min_samples_split': 2, 'n_estimators': 1}\n",
      "0.910 (+/-0.054) for {'criterion': 'entropy', 'max_depth': 2, 'max_features': 'log2', 'min_samples_split': 2, 'n_estimators': 10}\n",
      "\n",
      "\n"
     ]
    },
    {
     "name": "stdout",
     "output_type": "stream",
     "text": [
      "Best parameters set found are:\n",
      "{'criterion': 'gini', 'max_depth': 2, 'max_features': 'auto', 'min_samples_split': 2, 'n_estimators': 10}\n",
      "\n",
      "Grid scores on development set:\n",
      "0.792 (+/-0.129) for {'criterion': 'gini', 'max_depth': 1, 'max_features': 'auto', 'min_samples_split': 0.5, 'n_estimators': 1}\n",
      "0.785 (+/-0.091) for {'criterion': 'gini', 'max_depth': 1, 'max_features': 'auto', 'min_samples_split': 0.5, 'n_estimators': 10}\n",
      "0.744 (+/-0.180) for {'criterion': 'gini', 'max_depth': 1, 'max_features': 'auto', 'min_samples_split': 2, 'n_estimators': 1}\n",
      "0.813 (+/-0.092) for {'criterion': 'gini', 'max_depth': 1, 'max_features': 'auto', 'min_samples_split': 2, 'n_estimators': 10}\n",
      "0.660 (+/-0.078) for {'criterion': 'gini', 'max_depth': 1, 'max_features': 'sqrt', 'min_samples_split': 0.5, 'n_estimators': 1}\n",
      "0.833 (+/-0.079) for {'criterion': 'gini', 'max_depth': 1, 'max_features': 'sqrt', 'min_samples_split': 0.5, 'n_estimators': 10}\n",
      "0.694 (+/-0.211) for {'criterion': 'gini', 'max_depth': 1, 'max_features': 'sqrt', 'min_samples_split': 2, 'n_estimators': 1}\n",
      "0.813 (+/-0.127) for {'criterion': 'gini', 'max_depth': 1, 'max_features': 'sqrt', 'min_samples_split': 2, 'n_estimators': 10}\n",
      "0.709 (+/-0.214) for {'criterion': 'gini', 'max_depth': 1, 'max_features': 'log2', 'min_samples_split': 0.5, 'n_estimators': 1}\n",
      "0.812 (+/-0.143) for {'criterion': 'gini', 'max_depth': 1, 'max_features': 'log2', 'min_samples_split': 0.5, 'n_estimators': 10}\n",
      "0.612 (+/-0.339) for {'criterion': 'gini', 'max_depth': 1, 'max_features': 'log2', 'min_samples_split': 2, 'n_estimators': 1}\n",
      "0.799 (+/-0.053) for {'criterion': 'gini', 'max_depth': 1, 'max_features': 'log2', 'min_samples_split': 2, 'n_estimators': 10}\n",
      "0.722 (+/-0.051) for {'criterion': 'gini', 'max_depth': 2, 'max_features': 'auto', 'min_samples_split': 0.5, 'n_estimators': 1}\n",
      "0.792 (+/-0.076) for {'criterion': 'gini', 'max_depth': 2, 'max_features': 'auto', 'min_samples_split': 0.5, 'n_estimators': 10}\n",
      "0.868 (+/-0.159) for {'criterion': 'gini', 'max_depth': 2, 'max_features': 'auto', 'min_samples_split': 2, 'n_estimators': 1}\n",
      "0.951 (+/-0.056) for {'criterion': 'gini', 'max_depth': 2, 'max_features': 'auto', 'min_samples_split': 2, 'n_estimators': 10}\n",
      "0.744 (+/-0.180) for {'criterion': 'gini', 'max_depth': 2, 'max_features': 'sqrt', 'min_samples_split': 0.5, 'n_estimators': 1}\n",
      "0.834 (+/-0.117) for {'criterion': 'gini', 'max_depth': 2, 'max_features': 'sqrt', 'min_samples_split': 0.5, 'n_estimators': 10}\n",
      "0.820 (+/-0.125) for {'criterion': 'gini', 'max_depth': 2, 'max_features': 'sqrt', 'min_samples_split': 2, 'n_estimators': 1}\n",
      "0.938 (+/-0.080) for {'criterion': 'gini', 'max_depth': 2, 'max_features': 'sqrt', 'min_samples_split': 2, 'n_estimators': 10}\n",
      "0.695 (+/-0.329) for {'criterion': 'gini', 'max_depth': 2, 'max_features': 'log2', 'min_samples_split': 0.5, 'n_estimators': 1}\n",
      "0.819 (+/-0.135) for {'criterion': 'gini', 'max_depth': 2, 'max_features': 'log2', 'min_samples_split': 0.5, 'n_estimators': 10}\n",
      "0.834 (+/-0.090) for {'criterion': 'gini', 'max_depth': 2, 'max_features': 'log2', 'min_samples_split': 2, 'n_estimators': 1}\n",
      "0.903 (+/-0.140) for {'criterion': 'gini', 'max_depth': 2, 'max_features': 'log2', 'min_samples_split': 2, 'n_estimators': 10}\n",
      "0.771 (+/-0.165) for {'criterion': 'entropy', 'max_depth': 1, 'max_features': 'auto', 'min_samples_split': 0.5, 'n_estimators': 1}\n",
      "0.854 (+/-0.101) for {'criterion': 'entropy', 'max_depth': 1, 'max_features': 'auto', 'min_samples_split': 0.5, 'n_estimators': 10}\n",
      "0.618 (+/-0.187) for {'criterion': 'entropy', 'max_depth': 1, 'max_features': 'auto', 'min_samples_split': 2, 'n_estimators': 1}\n",
      "0.854 (+/-0.142) for {'criterion': 'entropy', 'max_depth': 1, 'max_features': 'auto', 'min_samples_split': 2, 'n_estimators': 10}\n",
      "0.612 (+/-0.240) for {'criterion': 'entropy', 'max_depth': 1, 'max_features': 'sqrt', 'min_samples_split': 0.5, 'n_estimators': 1}\n",
      "0.819 (+/-0.202) for {'criterion': 'entropy', 'max_depth': 1, 'max_features': 'sqrt', 'min_samples_split': 0.5, 'n_estimators': 10}\n",
      "0.659 (+/-0.258) for {'criterion': 'entropy', 'max_depth': 1, 'max_features': 'sqrt', 'min_samples_split': 2, 'n_estimators': 1}\n",
      "0.820 (+/-0.078) for {'criterion': 'entropy', 'max_depth': 1, 'max_features': 'sqrt', 'min_samples_split': 2, 'n_estimators': 10}\n",
      "0.675 (+/-0.226) for {'criterion': 'entropy', 'max_depth': 1, 'max_features': 'log2', 'min_samples_split': 0.5, 'n_estimators': 1}\n",
      "0.855 (+/-0.215) for {'criterion': 'entropy', 'max_depth': 1, 'max_features': 'log2', 'min_samples_split': 0.5, 'n_estimators': 10}\n",
      "0.813 (+/-0.093) for {'criterion': 'entropy', 'max_depth': 1, 'max_features': 'log2', 'min_samples_split': 2, 'n_estimators': 1}\n",
      "0.882 (+/-0.168) for {'criterion': 'entropy', 'max_depth': 1, 'max_features': 'log2', 'min_samples_split': 2, 'n_estimators': 10}\n",
      "0.679 (+/-0.322) for {'criterion': 'entropy', 'max_depth': 2, 'max_features': 'auto', 'min_samples_split': 0.5, 'n_estimators': 1}\n",
      "0.868 (+/-0.050) for {'criterion': 'entropy', 'max_depth': 2, 'max_features': 'auto', 'min_samples_split': 0.5, 'n_estimators': 10}\n",
      "0.744 (+/-0.255) for {'criterion': 'entropy', 'max_depth': 2, 'max_features': 'auto', 'min_samples_split': 2, 'n_estimators': 1}\n",
      "0.931 (+/-0.087) for {'criterion': 'entropy', 'max_depth': 2, 'max_features': 'auto', 'min_samples_split': 2, 'n_estimators': 10}\n",
      "0.700 (+/-0.217) for {'criterion': 'entropy', 'max_depth': 2, 'max_features': 'sqrt', 'min_samples_split': 0.5, 'n_estimators': 1}\n",
      "0.854 (+/-0.051) for {'criterion': 'entropy', 'max_depth': 2, 'max_features': 'sqrt', 'min_samples_split': 0.5, 'n_estimators': 10}\n",
      "0.792 (+/-0.156) for {'criterion': 'entropy', 'max_depth': 2, 'max_features': 'sqrt', 'min_samples_split': 2, 'n_estimators': 1}\n",
      "0.931 (+/-0.076) for {'criterion': 'entropy', 'max_depth': 2, 'max_features': 'sqrt', 'min_samples_split': 2, 'n_estimators': 10}\n",
      "0.625 (+/-0.281) for {'criterion': 'entropy', 'max_depth': 2, 'max_features': 'log2', 'min_samples_split': 0.5, 'n_estimators': 1}\n",
      "0.875 (+/-0.060) for {'criterion': 'entropy', 'max_depth': 2, 'max_features': 'log2', 'min_samples_split': 0.5, 'n_estimators': 10}\n",
      "0.862 (+/-0.179) for {'criterion': 'entropy', 'max_depth': 2, 'max_features': 'log2', 'min_samples_split': 2, 'n_estimators': 1}\n",
      "0.944 (+/-0.103) for {'criterion': 'entropy', 'max_depth': 2, 'max_features': 'log2', 'min_samples_split': 2, 'n_estimators': 10}\n",
      "\n",
      "\n",
      "Best parameters set found are:\n",
      "{'criterion': 'entropy', 'max_depth': 2, 'max_features': 'log2', 'min_samples_split': 2, 'n_estimators': 10}\n",
      "\n",
      "Grid scores on development set:\n",
      "0.792 (+/-0.129) for {'criterion': 'gini', 'max_depth': 1, 'max_features': 'auto', 'min_samples_split': 0.5, 'n_estimators': 1}\n",
      "0.813 (+/-0.126) for {'criterion': 'gini', 'max_depth': 1, 'max_features': 'auto', 'min_samples_split': 0.5, 'n_estimators': 10}\n",
      "0.647 (+/-0.249) for {'criterion': 'gini', 'max_depth': 1, 'max_features': 'auto', 'min_samples_split': 2, 'n_estimators': 1}\n",
      "0.799 (+/-0.258) for {'criterion': 'gini', 'max_depth': 1, 'max_features': 'auto', 'min_samples_split': 2, 'n_estimators': 10}\n",
      "0.685 (+/-0.323) for {'criterion': 'gini', 'max_depth': 1, 'max_features': 'sqrt', 'min_samples_split': 0.5, 'n_estimators': 1}\n",
      "0.827 (+/-0.179) for {'criterion': 'gini', 'max_depth': 1, 'max_features': 'sqrt', 'min_samples_split': 0.5, 'n_estimators': 10}\n",
      "0.689 (+/-0.192) for {'criterion': 'gini', 'max_depth': 1, 'max_features': 'sqrt', 'min_samples_split': 2, 'n_estimators': 1}\n",
      "0.792 (+/-0.121) for {'criterion': 'gini', 'max_depth': 1, 'max_features': 'sqrt', 'min_samples_split': 2, 'n_estimators': 10}\n",
      "0.696 (+/-0.305) for {'criterion': 'gini', 'max_depth': 1, 'max_features': 'log2', 'min_samples_split': 0.5, 'n_estimators': 1}\n",
      "0.848 (+/-0.092) for {'criterion': 'gini', 'max_depth': 1, 'max_features': 'log2', 'min_samples_split': 0.5, 'n_estimators': 10}\n",
      "0.730 (+/-0.213) for {'criterion': 'gini', 'max_depth': 1, 'max_features': 'log2', 'min_samples_split': 2, 'n_estimators': 1}\n",
      "0.792 (+/-0.113) for {'criterion': 'gini', 'max_depth': 1, 'max_features': 'log2', 'min_samples_split': 2, 'n_estimators': 10}\n",
      "0.710 (+/-0.205) for {'criterion': 'gini', 'max_depth': 2, 'max_features': 'auto', 'min_samples_split': 0.5, 'n_estimators': 1}\n",
      "0.806 (+/-0.054) for {'criterion': 'gini', 'max_depth': 2, 'max_features': 'auto', 'min_samples_split': 0.5, 'n_estimators': 10}\n",
      "0.889 (+/-0.101) for {'criterion': 'gini', 'max_depth': 2, 'max_features': 'auto', 'min_samples_split': 2, 'n_estimators': 1}\n",
      "0.889 (+/-0.110) for {'criterion': 'gini', 'max_depth': 2, 'max_features': 'auto', 'min_samples_split': 2, 'n_estimators': 10}\n",
      "0.722 (+/-0.088) for {'criterion': 'gini', 'max_depth': 2, 'max_features': 'sqrt', 'min_samples_split': 0.5, 'n_estimators': 1}\n",
      "0.841 (+/-0.119) for {'criterion': 'gini', 'max_depth': 2, 'max_features': 'sqrt', 'min_samples_split': 0.5, 'n_estimators': 10}\n",
      "0.806 (+/-0.147) for {'criterion': 'gini', 'max_depth': 2, 'max_features': 'sqrt', 'min_samples_split': 2, 'n_estimators': 1}\n",
      "0.903 (+/-0.080) for {'criterion': 'gini', 'max_depth': 2, 'max_features': 'sqrt', 'min_samples_split': 2, 'n_estimators': 10}\n",
      "0.792 (+/-0.242) for {'criterion': 'gini', 'max_depth': 2, 'max_features': 'log2', 'min_samples_split': 0.5, 'n_estimators': 1}\n",
      "0.813 (+/-0.127) for {'criterion': 'gini', 'max_depth': 2, 'max_features': 'log2', 'min_samples_split': 0.5, 'n_estimators': 10}\n",
      "0.820 (+/-0.170) for {'criterion': 'gini', 'max_depth': 2, 'max_features': 'log2', 'min_samples_split': 2, 'n_estimators': 1}\n",
      "0.875 (+/-0.094) for {'criterion': 'gini', 'max_depth': 2, 'max_features': 'log2', 'min_samples_split': 2, 'n_estimators': 10}\n",
      "0.619 (+/-0.214) for {'criterion': 'entropy', 'max_depth': 1, 'max_features': 'auto', 'min_samples_split': 0.5, 'n_estimators': 1}\n",
      "0.854 (+/-0.133) for {'criterion': 'entropy', 'max_depth': 1, 'max_features': 'auto', 'min_samples_split': 0.5, 'n_estimators': 10}\n",
      "0.541 (+/-0.272) for {'criterion': 'entropy', 'max_depth': 1, 'max_features': 'auto', 'min_samples_split': 2, 'n_estimators': 1}\n",
      "0.834 (+/-0.125) for {'criterion': 'entropy', 'max_depth': 1, 'max_features': 'auto', 'min_samples_split': 2, 'n_estimators': 10}\n",
      "0.792 (+/-0.203) for {'criterion': 'entropy', 'max_depth': 1, 'max_features': 'sqrt', 'min_samples_split': 0.5, 'n_estimators': 1}\n",
      "0.820 (+/-0.108) for {'criterion': 'entropy', 'max_depth': 1, 'max_features': 'sqrt', 'min_samples_split': 0.5, 'n_estimators': 10}\n",
      "0.672 (+/-0.261) for {'criterion': 'entropy', 'max_depth': 1, 'max_features': 'sqrt', 'min_samples_split': 2, 'n_estimators': 1}\n",
      "0.847 (+/-0.070) for {'criterion': 'entropy', 'max_depth': 1, 'max_features': 'sqrt', 'min_samples_split': 2, 'n_estimators': 10}\n",
      "0.701 (+/-0.143) for {'criterion': 'entropy', 'max_depth': 1, 'max_features': 'log2', 'min_samples_split': 0.5, 'n_estimators': 1}\n",
      "0.847 (+/-0.104) for {'criterion': 'entropy', 'max_depth': 1, 'max_features': 'log2', 'min_samples_split': 0.5, 'n_estimators': 10}\n",
      "0.681 (+/-0.316) for {'criterion': 'entropy', 'max_depth': 1, 'max_features': 'log2', 'min_samples_split': 2, 'n_estimators': 1}\n",
      "0.791 (+/-0.161) for {'criterion': 'entropy', 'max_depth': 1, 'max_features': 'log2', 'min_samples_split': 2, 'n_estimators': 10}\n",
      "0.744 (+/-0.219) for {'criterion': 'entropy', 'max_depth': 2, 'max_features': 'auto', 'min_samples_split': 0.5, 'n_estimators': 1}\n",
      "0.799 (+/-0.214) for {'criterion': 'entropy', 'max_depth': 2, 'max_features': 'auto', 'min_samples_split': 0.5, 'n_estimators': 10}\n",
      "0.841 (+/-0.220) for {'criterion': 'entropy', 'max_depth': 2, 'max_features': 'auto', 'min_samples_split': 2, 'n_estimators': 1}\n",
      "0.875 (+/-0.104) for {'criterion': 'entropy', 'max_depth': 2, 'max_features': 'auto', 'min_samples_split': 2, 'n_estimators': 10}\n",
      "0.792 (+/-0.183) for {'criterion': 'entropy', 'max_depth': 2, 'max_features': 'sqrt', 'min_samples_split': 0.5, 'n_estimators': 1}\n",
      "0.848 (+/-0.092) for {'criterion': 'entropy', 'max_depth': 2, 'max_features': 'sqrt', 'min_samples_split': 0.5, 'n_estimators': 10}\n",
      "0.772 (+/-0.270) for {'criterion': 'entropy', 'max_depth': 2, 'max_features': 'sqrt', 'min_samples_split': 2, 'n_estimators': 1}\n",
      "0.876 (+/-0.134) for {'criterion': 'entropy', 'max_depth': 2, 'max_features': 'sqrt', 'min_samples_split': 2, 'n_estimators': 10}\n",
      "0.708 (+/-0.199) for {'criterion': 'entropy', 'max_depth': 2, 'max_features': 'log2', 'min_samples_split': 0.5, 'n_estimators': 1}\n",
      "0.882 (+/-0.069) for {'criterion': 'entropy', 'max_depth': 2, 'max_features': 'log2', 'min_samples_split': 0.5, 'n_estimators': 10}\n",
      "0.848 (+/-0.053) for {'criterion': 'entropy', 'max_depth': 2, 'max_features': 'log2', 'min_samples_split': 2, 'n_estimators': 1}\n",
      "0.944 (+/-0.072) for {'criterion': 'entropy', 'max_depth': 2, 'max_features': 'log2', 'min_samples_split': 2, 'n_estimators': 10}\n",
      "\n",
      "\n",
      "The best parameters I found are:'C': 100, 'degree': 1, 'gamma': 0.001, 'kernel': 'linear' \n"
     ]
    }
   ],
   "source": [
    "from sklearn.ensemble import RandomForestClassifier\n",
    "tuned_parameters = [{'criterion': ['gini','entropy'],\n",
    "                     'n_estimators': [1, 10],\n",
    "                     'max_depth' : [1,2],\n",
    "                     'min_samples_split' : [0.5,2],\n",
    "                     'max_features': ['auto','sqrt','log2']}]\n",
    "k_fold = KFold(n_splits=10)\n",
    "\n",
    "for train, test in k_fold.split(X_train):\n",
    "\n",
    "    clf = GridSearchCV(RandomForestClassifier(), tuned_parameters)\n",
    "    clf.fit(X[train], y[train])\n",
    "\n",
    "    print(\"Best parameters set found are:\")\n",
    "    print(clf.best_params_)\n",
    "    print()\n",
    "    print(\"Grid scores on development set:\")\n",
    "    means = clf.cv_results_['mean_test_score']\n",
    "    stds = clf.cv_results_['std_test_score']\n",
    "    for mean, std, params in zip(means, stds, clf.cv_results_['params']):\n",
    "        print(\"%0.3f (+/-%0.03f) for %r\"\n",
    "              % (mean, std * 2, params))\n",
    "    \n",
    "    print()\n",
    "    print()\n",
    "print(\"The best parameters I found are:'C': 100, 'degree': 1, 'gamma': 0.001, 'kernel': 'linear' \")"
   ]
  },
  {
   "cell_type": "markdown",
   "metadata": {
    "id": "5mfjPPRK_do8"
   },
   "source": [
    "Test your best RF model on the test set. Print out your model's performance."
   ]
  },
  {
   "cell_type": "code",
   "execution_count": 12,
   "metadata": {
    "id": "35f4P7h2_w61"
   },
   "outputs": [
    {
     "name": "stdout",
     "output_type": "stream",
     "text": [
      "accuracy:  1.0\n"
     ]
    }
   ],
   "source": [
    "# 0.979 (+/-0.034) for {'criterion': 'entropy', 'max_depth': 2, 'max_features': 'sqrt', 'min_samples_split': 2, 'n_estimators': 10}\n",
    "# Test your best RF model on the test set. Print out your model's performance.\n",
    "model = RandomForestClassifier(criterion = 'entropy', max_depth= 2, max_features = 'sqrt'\n",
    "                               , min_samples_split = 2,n_estimators = 10)\n",
    "model.fit(X_train,y_train)\n",
    "predictions = model.predict(X_test)\n",
    "accuracy = accuracy_score(y_test,predictions)\n",
    "print(\"accuracy: \",accuracy)\n",
    "\n",
    "\n",
    "\n",
    "\n"
   ]
  },
  {
   "cell_type": "markdown",
   "metadata": {
    "id": "QMWu3IBStbRq"
   },
   "source": [
    "d) Compare the 2 models. Why do we need CV?"
   ]
  },
  {
   "cell_type": "markdown",
   "metadata": {},
   "source": [
    "Both models produce high accuracy results, but SVM model produces an accuracy of 100%. Despite doing a 10 fold cross validation it appears as if the model is overfitting the data and could perform poorly on new unseen data or this could be the result of the low amount of data given. Each model has different parameters that we used in the grid search resulting in different factors being optimized to improve each model. \n",
    "We need CV to avoid the problem of overfitting. Without CV a model has the possibility of failing to predict useful results on unseen data. What CV does is hold out part of the availible data and uses this as a test set to train the model. \n"
   ]
  },
  {
   "cell_type": "markdown",
   "metadata": {
    "id": "uac965pmotuL"
   },
   "source": [
    "## Problem 4\n",
    "\n",
    "In this problem, you will work on the clustering problem using Bottom-up Agglomerative clustering and K-mean clustering."
   ]
  },
  {
   "cell_type": "code",
   "execution_count": 9,
   "metadata": {},
   "outputs": [],
   "source": [
    "import pandas as pd \n",
    "import numpy as np\n",
    "import matplotlib.pyplot as plt\n",
    "from sklearn.cluster import KMeans"
   ]
  },
  {
   "cell_type": "markdown",
   "metadata": {
    "id": "YYox5r6IotuL"
   },
   "source": [
    "a) A 4-D dataset is given in **'iris.csv'** with the last column being the ground truth label. Load the file. Store the data in a variable ***X*** and store the label in a variable ***y***. Because clustering is an unsupervised task, there is no need for the labels during training."
   ]
  },
  {
   "cell_type": "code",
   "execution_count": 10,
   "metadata": {
    "id": "Wf0fueP1otuM"
   },
   "outputs": [],
   "source": [
    "dataset = pd.read_csv('iris.csv')\n",
    "X = dataset.iloc[:, [2,3]].values\n",
    "y = dataset.iloc[:, 4].values"
   ]
  },
  {
   "cell_type": "markdown",
   "metadata": {
    "id": "UzQL_DImotuN"
   },
   "source": [
    "b) Train a clustering model using Bottom-up Agglomerative clustering."
   ]
  },
  {
   "cell_type": "code",
   "execution_count": 11,
   "metadata": {
    "id": "r90ogg-FotuO"
   },
   "outputs": [],
   "source": [
    "from sklearn.cluster import AgglomerativeClustering\n",
    "clustering = AgglomerativeClustering(n_clusters = 3).fit(X)\n",
    "predict = clustering.fit_predict(X)"
   ]
  },
  {
   "cell_type": "markdown",
   "metadata": {
    "id": "Fsr5q1nFotuP"
   },
   "source": [
    "Visualize your clusters on a 2-D plot. Choose any 2 dimensions from the 4 dimensions to plot. Try to pick the 2 dimensions that best separate the data. Your plot should contains all the data points with points from the same predicted cluster haveing the same color. "
   ]
  },
  {
   "cell_type": "code",
   "execution_count": 12,
   "metadata": {
    "id": "q5gBODR5otuQ"
   },
   "outputs": [
    {
     "ename": "IndexError",
     "evalue": "index 1 is out of bounds for axis 1 with size 1",
     "output_type": "error",
     "traceback": [
      "\u001b[0;31m---------------------------------------------------------------------------\u001b[0m",
      "\u001b[0;31mIndexError\u001b[0m                                Traceback (most recent call last)",
      "\u001b[0;32m<ipython-input-12-36e39e45e1e9>\u001b[0m in \u001b[0;36m<module>\u001b[0;34m\u001b[0m\n\u001b[0;32m----> 1\u001b[0;31m \u001b[0mplt\u001b[0m\u001b[0;34m.\u001b[0m\u001b[0mscatter\u001b[0m\u001b[0;34m(\u001b[0m\u001b[0mX\u001b[0m\u001b[0;34m[\u001b[0m\u001b[0mpredict\u001b[0m \u001b[0;34m==\u001b[0m \u001b[0;36m0\u001b[0m\u001b[0;34m,\u001b[0m \u001b[0;36m0\u001b[0m\u001b[0;34m]\u001b[0m\u001b[0;34m,\u001b[0m \u001b[0mX\u001b[0m\u001b[0;34m[\u001b[0m\u001b[0mpredict\u001b[0m \u001b[0;34m==\u001b[0m \u001b[0;36m0\u001b[0m\u001b[0;34m,\u001b[0m \u001b[0;36m1\u001b[0m\u001b[0;34m]\u001b[0m\u001b[0;34m,\u001b[0m \u001b[0ms\u001b[0m \u001b[0;34m=\u001b[0m \u001b[0;36m100\u001b[0m\u001b[0;34m,\u001b[0m \u001b[0mc\u001b[0m \u001b[0;34m=\u001b[0m \u001b[0;34m'red'\u001b[0m\u001b[0;34m,\u001b[0m \u001b[0mlabel\u001b[0m \u001b[0;34m=\u001b[0m \u001b[0;34m'Cluster 1'\u001b[0m\u001b[0;34m)\u001b[0m\u001b[0;34m\u001b[0m\u001b[0;34m\u001b[0m\u001b[0m\n\u001b[0m\u001b[1;32m      2\u001b[0m \u001b[0mplt\u001b[0m\u001b[0;34m.\u001b[0m\u001b[0mscatter\u001b[0m\u001b[0;34m(\u001b[0m\u001b[0mX\u001b[0m\u001b[0;34m[\u001b[0m\u001b[0mpredict\u001b[0m \u001b[0;34m==\u001b[0m \u001b[0;36m1\u001b[0m\u001b[0;34m,\u001b[0m \u001b[0;36m0\u001b[0m\u001b[0;34m]\u001b[0m\u001b[0;34m,\u001b[0m \u001b[0mX\u001b[0m\u001b[0;34m[\u001b[0m\u001b[0mpredict\u001b[0m \u001b[0;34m==\u001b[0m \u001b[0;36m1\u001b[0m\u001b[0;34m,\u001b[0m \u001b[0;36m1\u001b[0m\u001b[0;34m]\u001b[0m\u001b[0;34m,\u001b[0m \u001b[0ms\u001b[0m \u001b[0;34m=\u001b[0m \u001b[0;36m100\u001b[0m\u001b[0;34m,\u001b[0m \u001b[0mc\u001b[0m \u001b[0;34m=\u001b[0m \u001b[0;34m'blue'\u001b[0m\u001b[0;34m,\u001b[0m \u001b[0mlabel\u001b[0m \u001b[0;34m=\u001b[0m \u001b[0;34m'Cluster 2'\u001b[0m\u001b[0;34m)\u001b[0m\u001b[0;34m\u001b[0m\u001b[0;34m\u001b[0m\u001b[0m\n\u001b[1;32m      3\u001b[0m \u001b[0mplt\u001b[0m\u001b[0;34m.\u001b[0m\u001b[0mscatter\u001b[0m\u001b[0;34m(\u001b[0m\u001b[0mX\u001b[0m\u001b[0;34m[\u001b[0m\u001b[0mpredict\u001b[0m \u001b[0;34m==\u001b[0m \u001b[0;36m2\u001b[0m\u001b[0;34m,\u001b[0m \u001b[0;36m0\u001b[0m\u001b[0;34m]\u001b[0m\u001b[0;34m,\u001b[0m \u001b[0mX\u001b[0m\u001b[0;34m[\u001b[0m\u001b[0mpredict\u001b[0m \u001b[0;34m==\u001b[0m \u001b[0;36m2\u001b[0m\u001b[0;34m,\u001b[0m \u001b[0;36m1\u001b[0m\u001b[0;34m]\u001b[0m\u001b[0;34m,\u001b[0m \u001b[0ms\u001b[0m \u001b[0;34m=\u001b[0m \u001b[0;36m100\u001b[0m\u001b[0;34m,\u001b[0m \u001b[0mc\u001b[0m \u001b[0;34m=\u001b[0m \u001b[0;34m'green'\u001b[0m\u001b[0;34m,\u001b[0m \u001b[0mlabel\u001b[0m \u001b[0;34m=\u001b[0m \u001b[0;34m'Cluster 3'\u001b[0m\u001b[0;34m)\u001b[0m\u001b[0;34m\u001b[0m\u001b[0;34m\u001b[0m\u001b[0m\n\u001b[1;32m      4\u001b[0m \u001b[0mplt\u001b[0m\u001b[0;34m.\u001b[0m\u001b[0mtitle\u001b[0m\u001b[0;34m(\u001b[0m\u001b[0;34m'Clusters of iris'\u001b[0m\u001b[0;34m)\u001b[0m\u001b[0;34m\u001b[0m\u001b[0;34m\u001b[0m\u001b[0m\n\u001b[1;32m      5\u001b[0m \u001b[0mplt\u001b[0m\u001b[0;34m.\u001b[0m\u001b[0mlegend\u001b[0m\u001b[0;34m(\u001b[0m\u001b[0;34m)\u001b[0m\u001b[0;34m\u001b[0m\u001b[0;34m\u001b[0m\u001b[0m\n",
      "\u001b[0;31mIndexError\u001b[0m: index 1 is out of bounds for axis 1 with size 1"
     ]
    }
   ],
   "source": [
    "plt.scatter(X[predict == 0, 0], X[predict == 0, 1], s = 100, c = 'red', label = 'Cluster 1')\n",
    "plt.scatter(X[predict == 1, 0], X[predict == 1, 1], s = 100, c = 'blue', label = 'Cluster 2')\n",
    "plt.scatter(X[predict == 2, 0], X[predict == 2, 1], s = 100, c = 'green', label = 'Cluster 3')\n",
    "plt.title('Clusters of iris')\n",
    "plt.legend()\n",
    "plt.show()"
   ]
  },
  {
   "cell_type": "markdown",
   "metadata": {
    "id": "1iEBekEy1SIK"
   },
   "source": [
    "Repeat the visualization step above using the same 2 dimensions. This time, plot according to the ground truth classes. Comment on the performance of your model."
   ]
  },
  {
   "cell_type": "code",
   "execution_count": 6,
   "metadata": {
    "id": "p3lf0Xrv1w6X"
   },
   "outputs": [
    {
     "ename": "SyntaxError",
     "evalue": "invalid syntax (<ipython-input-6-ca33a18be61b>, line 2)",
     "output_type": "error",
     "traceback": [
      "\u001b[0;36m  File \u001b[0;32m\"<ipython-input-6-ca33a18be61b>\"\u001b[0;36m, line \u001b[0;32m2\u001b[0m\n\u001b[0;31m    if Y[i] ==\u001b[0m\n\u001b[0m               ^\u001b[0m\n\u001b[0;31mSyntaxError\u001b[0m\u001b[0;31m:\u001b[0m invalid syntax\n"
     ]
    }
   ],
   "source": [
    "# for i in range(Y):\n",
    "#     if Y[i] == \n",
    "plt.scatter(X[predict == 0, 0], X[predict == 0, 1], s = 100, c = 'red', label = 'Cluster 1')\n",
    "plt.scatter(X[predict == 1, 0], X[predict == 1, 1], s = 100, c = 'blue', label = 'Cluster 2')\n",
    "plt.scatter(X[predict == 2, 0], X[predict == 2, 1], s = 100, c = 'green', label = 'Cluster 3')\n",
    "plt.title('Clusters of iris')\n",
    "plt.legend()\n",
    "plt.show()"
   ]
  },
  {
   "cell_type": "markdown",
   "metadata": {
    "id": "W9PfTf2sotuR"
   },
   "source": [
    "c) Train a clustering model using K-mean clustering."
   ]
  },
  {
   "cell_type": "code",
   "execution_count": 7,
   "metadata": {
    "id": "G5qzh74NotuR"
   },
   "outputs": [
    {
     "name": "stdout",
     "output_type": "stream",
     "text": [
      "[2 2 2 2 2 2 2 2 2 2 2 2 2 2 2 2 2 2 2 2 2 2 2 2 2 2 2 2 2 2 2 2 2 2 2 2 2\n",
      " 2 2 2 2 2 2 2 2 2 2 2 2 1 0 1 0 0 0 0 0 0 0 0 0 0 0 0 0 0 0 0 0 0 0 0 0 0\n",
      " 0 1 1 0 0 0 0 0 0 0 0 1 0 0 0 0 0 0 0 0 0 0 0 0 0 1 0 1 1 1 1 0 1 1 1 1 1\n",
      " 1 0 0 1 1 1 1 0 1 0 1 0 1 1 0 0 1 1 1 1 1 1 1 1 1 1 0 1 1 1 0 1 1 1 0 1 1\n",
      " 0]\n"
     ]
    }
   ],
   "source": [
    "from sklearn.cluster import KMeans\n",
    "kmeans = KMeans(n_clusters = 3)\n",
    "y_kmeans = kmeans.fit_predict(X)\n",
    "print(y_kmeans)"
   ]
  },
  {
   "cell_type": "markdown",
   "metadata": {
    "id": "htqJKZCrotuT"
   },
   "source": [
    "Visualize your clusters on a 2-D plot. Choose any 2 dimensions from the 4 dimensions to plot. Try to pick the 2 dimensions that best separate the data. Your plot should contains all the data points with points from the same predicted cluster haveing the same color."
   ]
  },
  {
   "cell_type": "code",
   "execution_count": 8,
   "metadata": {
    "id": "deWqhR4potuT"
   },
   "outputs": [
    {
     "data": {
      "image/png": "[encoded data removed]",
      "text/plain": [
       "<Figure size 432x288 with 1 Axes>"
      ]
     },
     "metadata": {
      "needs_background": "light"
     },
     "output_type": "display_data"
    }
   ],
   "source": [
    "plt.scatter(X[y_kmeans == 0, 0], X[y_kmeans == 0, 1], s = 100, c = 'red', label = 'Cluster 1')\n",
    "plt.scatter(X[y_kmeans == 1, 0], X[y_kmeans == 1, 1], s = 100, c = 'blue', label = 'Cluster 2')\n",
    "plt.scatter(X[y_kmeans == 2, 0], X[y_kmeans == 2, 1], s = 100, c = 'green', label = 'Cluster 3')\n",
    "plt.scatter(kmeans.cluster_centers_[:, 0], kmeans.cluster_centers_[:, 1], s = 300, c = 'yellow', label = 'Centroids')\n",
    "plt.title('Clusters of iris')\n",
    "plt.legend()\n",
    "plt.show()"
   ]
  },
  {
   "cell_type": "markdown",
   "metadata": {
    "id": "Da9qg3Wi1358"
   },
   "source": [
    "Repeat the visualization step above using the same 2 dimensions. This time, plot according to the ground truth classes. Comment on the performance of your model."
   ]
  },
  {
   "cell_type": "code",
   "execution_count": null,
   "metadata": {
    "id": "Z7EgKmxx17_s"
   },
   "outputs": [],
   "source": [
    "# Due in HW 2 -> Will Complete in HW 2 "
   ]
  },
  {
   "cell_type": "markdown",
   "metadata": {
    "id": "b-8WjIaNotuV"
   },
   "source": [
    "d) Perform Principle Component Analysis (PCA) on the data. Project the original data on the 2 largest principle components. Store this new projected 2-D data in a variable ***X_projected***."
   ]
  },
  {
   "cell_type": "code",
   "execution_count": null,
   "metadata": {
    "id": "Jnx5i9NwotuV"
   },
   "outputs": [],
   "source": [
    "from sklearn.decomposition import PCA\n"
   ]
  },
  {
   "cell_type": "markdown",
   "metadata": {
    "id": "c4VFnvdTotuW"
   },
   "source": [
    "Repeat part **b** on the new 2-D data. Train the Bottom-up Agglomerative model and visualize your results."
   ]
  },
  {
   "cell_type": "code",
   "execution_count": null,
   "metadata": {
    "id": "sLhLTY-PotuX"
   },
   "outputs": [],
   "source": [
    "# Due in HW 2 -> Will Complete in HW 2 "
   ]
  },
  {
   "cell_type": "markdown",
   "metadata": {
    "id": "ZhXg9gKEotuY"
   },
   "source": [
    "Repeat part **c** on the new 2-D data. Train the K-means model and visualize your result."
   ]
  },
  {
   "cell_type": "code",
   "execution_count": null,
   "metadata": {
    "id": "o8jwbAElotuZ"
   },
   "outputs": [],
   "source": [
    "# Due in HW 2 -> Will Complete in HW 2 "
   ]
  },
  {
   "cell_type": "markdown",
   "metadata": {
    "id": "Fz5Wc_dgotua"
   },
   "source": [
    "Compare the quality of 4-D and 2-D clusterings. When would the ideas of projection and dimensionality reduction be useful?"
   ]
  },
  {
   "cell_type": "markdown",
   "metadata": {
    "id": "WmsQa5XEHUau"
   },
   "source": [
    "## Problem 5\n",
    "\n",
    "What is the hypothesis space for problems 1-3? What are the pros and cons of having a large hypothesis space? "
   ]
  },
  {
   "cell_type": "markdown",
   "metadata": {},
   "source": [
    "Hypothesis Space for Linear Regression:\n",
    "Would be the set of all possible linear functions(all possible linear equations). The hypothesis function would just be a line.\n",
    "\n",
    "Hypothesis Space for SVM:\n",
    "Would be all the possible set of oriented hyperplanes in R^n(coordinate space for real numbers). For a SVM model that only modifies/changes w and b this would be hypothesis space HN = {𝑓(𝑥)=sign(𝑤^𝑇𝑥+𝑏)∣𝑤∈ℝ^N,𝑏∈ℝ}\n",
    "\n",
    "\n",
    "Hypothesis Space for Random Forest:\n",
    "The hypothesis space for a random forest is all the possible trees created which is dependent on the number of variables, number of boolean functions, number of features and attributes. For example a decision tree with 5 boolean attributes would have 2^2^5 trees. \n",
    "\n",
    "Hypothesis Space for K-Means Clustering:\n",
    "For K-Means the hypothesis space would be dependent on K the number of clusters to discover as this is an unsupervised learning algorithm. The hypothesis space would include all the possible types of clusters that could be predicted by the algorithm.\n",
    "\n",
    "Pros of having a large hypothesis space:\n",
    "    Results in a high variance \n",
    "    Can lead to overfitting as hypothesis space is too expressive\n",
    "    \n",
    "Cons of having a large hypothesis space:\n",
    "    Results in a high bias\n",
    "    Can lead to underfitting due to the hypothesis space being too limited\n",
    "\n",
    "\n",
    "\n"
   ]
  },
  {
   "cell_type": "markdown",
   "metadata": {
    "id": "xYuqFx8xHa1M"
   },
   "source": [
    "## Problem 6\n",
    "\n",
    "Suppose we find the best binary classifier for a set of red points and another binary classifier for a set of blue points. Now, suppose we are given a new set of $R$ red and $B$ blue points that we can predict to be positive or negative. If we have to choose a subset of $k$ positive points from $R$ union $B$, what would be fair way for choosing. \n",
    "\n",
    "You are given a red dataset in 'R.csv' and a blue dataset in 'B.csv'. There is also a third test dataset in 'RBtest.csv'."
   ]
  },
  {
   "cell_type": "markdown",
   "metadata": {
    "id": "jFV_vm-orpDp"
   },
   "source": [
    "a) Load the datasets. All datasets are 2-D with the last column containing the labels. "
   ]
  },
  {
   "cell_type": "code",
   "execution_count": 13,
   "metadata": {
    "id": "FZBjsepYHf5P"
   },
   "outputs": [],
   "source": [
    "import pandas as pd \n",
    "import numpy as np\n",
    "import matplotlib.pyplot as plt\n",
    "\n",
    "dataset_R = pd.read_csv('R.csv', header = None )\n",
    "X_R = dataset_R.iloc[:, [0, 1]].values\n",
    "y_R = dataset_R.iloc[:, 2].values\n",
    "\n",
    "dataset_B = pd.read_csv('B.csv', header = None )\n",
    "X_B = dataset_B.iloc[:, [0, 1]].values\n",
    "y_B = dataset_B.iloc[:, 2].values\n",
    "\n",
    "dataset_RB = pd.read_csv('RBtest.csv', header = None )\n",
    "X_RB = dataset_RB.iloc[:, [0, 1]].values\n",
    "y_RB = dataset_RB.iloc[:, 2].values"
   ]
  },
  {
   "cell_type": "markdown",
   "metadata": {
    "id": "RemkSEnPr1IB"
   },
   "source": [
    "b) Train 2 classifiers, one for the red dataset and the other for the blue dataset. You are free to choose the learning algorithm. "
   ]
  },
  {
   "cell_type": "code",
   "execution_count": 14,
   "metadata": {
    "id": "oFuY0Y8qsNh-"
   },
   "outputs": [],
   "source": [
    "from sklearn.model_selection import train_test_split\n",
    "from sklearn import preprocessing\n",
    "from sklearn import utils\n",
    "from sklearn.preprocessing import StandardScaler\n",
    "from sklearn.neighbors import KNeighborsClassifier\n",
    "\n",
    "X_train_R, X_test_R, y_train_R, y_test_R = train_test_split(X_R, y_R, test_size = 0.20)\n",
    "\n",
    "sc_R = StandardScaler()\n",
    "X_train_R = sc_R.fit_transform(X_train_R)\n",
    "X_test_R = sc_R.transform(X_test_R)\n",
    "\n",
    "\n",
    "classifier_R = KNeighborsClassifier(n_neighbors = 5, p = 2)\n",
    "classifier_R.fit(X_train_R, y_train_R)\n",
    "\n",
    "y_pred_R = classifier_R.predict(X_test_R)\n",
    "\n",
    "#####################\n",
    "X_train_B, X_test_B, y_train_B, y_test_B = train_test_split(X_B, y_B, test_size = 0.20)\n",
    "\n",
    "sc_B = StandardScaler()\n",
    "X_train_B = sc_B.fit_transform(X_train_B)\n",
    "X_test_B = sc_B.transform(X_test_B)\n",
    "\n",
    "classifier_B = KNeighborsClassifier(n_neighbors = 5, p = 2)\n",
    "classifier_B.fit(X_train_B, y_train_B)\n",
    "\n",
    "y_pred_B = classifier_B.predict(X_test_B)\n",
    "\n",
    "#####################\n",
    "X_train_RB, X_test_RB, y_train_RB, y_test_RB = train_test_split(X_RB, y_RB, test_size = 0.20)\n",
    "\n",
    "sc_RB = StandardScaler()\n",
    "X_train_RB = sc_RB.fit_transform(X_train_RB)\n",
    "X_test_RB = sc_RB.transform(X_test_RB)\n",
    "\n",
    "classifier_RB = KNeighborsClassifier(n_neighbors = 5, p = 2)\n",
    "classifier_RB.fit(X_train_RB, y_train_RB)\n",
    "\n",
    "y_pred_RB = classifier_RB.predict(X_test_RB)\n"
   ]
  },
  {
   "cell_type": "markdown",
   "metadata": {
    "id": "bRp8Q1g6sQZW"
   },
   "source": [
    "c) Now use your models to classify instances in the test dataset. The models may agree on many points but may also disagree on many other points. Let's call the set of positive points classified by the red model $P_r$ and the set of positive points classified by the blue model $P_b$. You are asked to pick out $k$ points from the set $P_r \\cup P_b$. What is a fair way to do this. Demonstrate your answer with code and visualizations. "
   ]
  },
  {
   "cell_type": "code",
   "execution_count": 15,
   "metadata": {
    "id": "INVo2ChrtSOm"
   },
   "outputs": [
    {
     "name": "stderr",
     "output_type": "stream",
     "text": [
      "'c' argument looks like a single numeric RGB or RGBA sequence, which should be avoided as value-mapping will have precedence in case its length matches with 'x' & 'y'.  Please use a 2-D array with a single row if you really want to specify the same RGB or RGBA value for all points.\n",
      "'c' argument looks like a single numeric RGB or RGBA sequence, which should be avoided as value-mapping will have precedence in case its length matches with 'x' & 'y'.  Please use a 2-D array with a single row if you really want to specify the same RGB or RGBA value for all points.\n"
     ]
    },
    {
     "data": {
      "image/png": "[encoded data removed]",
      "text/plain": [
       "<Figure size 432x288 with 1 Axes>"
      ]
     },
     "metadata": {
      "needs_background": "light"
     },
     "output_type": "display_data"
    }
   ],
   "source": [
    "from matplotlib.colors import ListedColormap\n",
    "\n",
    "X_set, y_set = X_train_R, y_train_R\n",
    "X1, X2 = np.meshgrid(np.arange(start = X_set[:, 0].min() - 1, stop = X_set[:, 0].max() + 1, step = 0.01),\n",
    "                     np.arange(start = X_set[:, 1].min() - 1, stop = X_set[:, 1].max() + 1, step = 0.01))\n",
    "plt.contourf(X1, X2, classifier_R.predict(np.array([X1.ravel(), X2.ravel()]).T).reshape(X1.shape),\n",
    "             alpha = 0.75, cmap = ListedColormap(('blue', 'red')))\n",
    "plt.xlim(X1.min(), X1.max())\n",
    "plt.ylim(X2.min(), X2.max())\n",
    "for i, j in enumerate(np.unique(y_set)):\n",
    "    plt.scatter(X_set[y_set == j, 0], X_set[y_set == j, 1],\n",
    "                c = ListedColormap(('blue', 'red'))(i), label = j)\n",
    "plt.title('K-NN Algorithm Using R\\'s classifier')\n",
    "plt.xlabel('X-axis')\n",
    "plt.ylabel('Y-axis')\n",
    "plt.legend()\n",
    "plt.show()\n"
   ]
  },
  {
   "cell_type": "code",
   "execution_count": 16,
   "metadata": {},
   "outputs": [
    {
     "name": "stderr",
     "output_type": "stream",
     "text": [
      "'c' argument looks like a single numeric RGB or RGBA sequence, which should be avoided as value-mapping will have precedence in case its length matches with 'x' & 'y'.  Please use a 2-D array with a single row if you really want to specify the same RGB or RGBA value for all points.\n",
      "'c' argument looks like a single numeric RGB or RGBA sequence, which should be avoided as value-mapping will have precedence in case its length matches with 'x' & 'y'.  Please use a 2-D array with a single row if you really want to specify the same RGB or RGBA value for all points.\n"
     ]
    },
    {
     "data": {
      "image/png": "[encoded data removed]",
      "text/plain": [
       "<Figure size 432x288 with 1 Axes>"
      ]
     },
     "metadata": {
      "needs_background": "light"
     },
     "output_type": "display_data"
    }
   ],
   "source": [
    "X_set, y_set = X_train_B, y_train_B\n",
    "X1, X2 = np.meshgrid(np.arange(start = X_set[:, 0].min() - 1, stop = X_set[:, 0].max() + 1, step = 0.01),\n",
    "                     np.arange(start = X_set[:, 1].min() - 1, stop = X_set[:, 1].max() + 1, step = 0.01))\n",
    "plt.contourf(X1, X2, classifier_B.predict(np.array([X1.ravel(), X2.ravel()]).T).reshape(X1.shape),\n",
    "             alpha = 0.75, cmap = ListedColormap(('blue', 'red')))\n",
    "plt.xlim(X1.min(), X1.max())\n",
    "plt.ylim(X2.min(), X2.max())\n",
    "for i, j in enumerate(np.unique(y_set)):\n",
    "    plt.scatter(X_set[y_set == j, 0], X_set[y_set == j, 1],\n",
    "                c = ListedColormap(('blue', 'red'))(i), label = j)\n",
    "plt.title('K-NN Algorithm Using B\\'s classifier')\n",
    "plt.xlabel('X-axis')\n",
    "plt.ylabel('Y-axis')\n",
    "plt.legend()\n",
    "plt.show()\n"
   ]
  },
  {
   "cell_type": "code",
   "execution_count": 17,
   "metadata": {},
   "outputs": [
    {
     "name": "stderr",
     "output_type": "stream",
     "text": [
      "'c' argument looks like a single numeric RGB or RGBA sequence, which should be avoided as value-mapping will have precedence in case its length matches with 'x' & 'y'.  Please use a 2-D array with a single row if you really want to specify the same RGB or RGBA value for all points.\n",
      "'c' argument looks like a single numeric RGB or RGBA sequence, which should be avoided as value-mapping will have precedence in case its length matches with 'x' & 'y'.  Please use a 2-D array with a single row if you really want to specify the same RGB or RGBA value for all points.\n"
     ]
    },
    {
     "data": {
      "image/png": "[encoded data removed]",
      "text/plain": [
       "<Figure size 432x288 with 1 Axes>"
      ]
     },
     "metadata": {
      "needs_background": "light"
     },
     "output_type": "display_data"
    }
   ],
   "source": [
    "X_set, y_set = X_train_RB, y_train_RB\n",
    "X1, X2 = np.meshgrid(np.arange(start = X_set[:, 0].min() - 1, stop = X_set[:, 0].max() + 1, step = 0.01),\n",
    "                     np.arange(start = X_set[:, 1].min() - 1, stop = X_set[:, 1].max() + 1, step = 0.01))\n",
    "plt.contourf(X1, X2, classifier_B.predict(np.array([X1.ravel(), X2.ravel()]).T).reshape(X1.shape),\n",
    "             alpha = 0.75, cmap = ListedColormap(('blue', 'red')))\n",
    "plt.xlim(X1.min(), X1.max())\n",
    "plt.ylim(X2.min(), X2.max())\n",
    "for i, j in enumerate(np.unique(y_set)):\n",
    "    plt.scatter(X_set[y_set == j, 0], X_set[y_set == j, 1],\n",
    "                c = ListedColormap(('blue', 'red'))(i), label = j)\n",
    "plt.title('K-NN Algorithm of Test Set Using B\\'s classifier')\n",
    "plt.xlabel('X-axis')\n",
    "plt.ylabel('Y-axis')\n",
    "plt.legend()\n",
    "plt.show()"
   ]
  },
  {
   "cell_type": "code",
   "execution_count": 19,
   "metadata": {},
   "outputs": [
    {
     "name": "stderr",
     "output_type": "stream",
     "text": [
      "'c' argument looks like a single numeric RGB or RGBA sequence, which should be avoided as value-mapping will have precedence in case its length matches with 'x' & 'y'.  Please use a 2-D array with a single row if you really want to specify the same RGB or RGBA value for all points.\n",
      "'c' argument looks like a single numeric RGB or RGBA sequence, which should be avoided as value-mapping will have precedence in case its length matches with 'x' & 'y'.  Please use a 2-D array with a single row if you really want to specify the same RGB or RGBA value for all points.\n"
     ]
    },
    {
     "data": {
      "image/png": "[encoded data removed]",
      "text/plain": [
       "<Figure size 432x288 with 1 Axes>"
      ]
     },
     "metadata": {
      "needs_background": "light"
     },
     "output_type": "display_data"
    }
   ],
   "source": [
    "X_set, y_set = X_train_RB, y_train_RB\n",
    "X1, X2 = np.meshgrid(np.arange(start = X_set[:, 0].min() - 1, stop = X_set[:, 0].max() + 1, step = 0.01),\n",
    "                     np.arange(start = X_set[:, 1].min() - 1, stop = X_set[:, 1].max() + 1, step = 0.01))\n",
    "plt.contourf(X1, X2, classifier_R.predict(np.array([X1.ravel(), X2.ravel()]).T).reshape(X1.shape),\n",
    "             alpha = 0.75, cmap = ListedColormap(('blue', 'red')))\n",
    "plt.xlim(X1.min(), X1.max())\n",
    "plt.ylim(X2.min(), X2.max())\n",
    "for i, j in enumerate(np.unique(y_set)):\n",
    "    plt.scatter(X_set[y_set == j, 0], X_set[y_set == j, 1],\n",
    "                c = ListedColormap(('blue', 'red'))(i), label = j)\n",
    "plt.title('K-NN Algorithm of Test Set Using R\\'s classifier')\n",
    "plt.xlabel('X-axis')\n",
    "plt.ylabel('Y-axis')\n",
    "plt.legend()\n",
    "plt.show()"
   ]
  },
  {
   "cell_type": "markdown",
   "metadata": {},
   "source": [
    "As we can observe when we use the test set given and use the two different models to predict the results we get varriying answers. This is since each classifier is trained on its own data and will create biases on dependent on the data it is given. To create a fair way of choosing the points we have to eliminate the bias that each model creates. To eliminate the bias we would need to evaluate the model the entire model performance and then pick a classifier that is least biased to pick the k points. A more specialized way to get rid of bias especially in a clustering algorithm is to pool new data so that we create a new classifier that only data points from the red cluster and another that only gets points from the blue cluster. Using this we would get a consistent classifier that would be able to remove bias and pick k points in a fair manner.\n"
   ]
  }
 ],
 "metadata": {
  "colab": {
   "collapsed_sections": [],
   "name": "HW1.ipynb",
   "provenance": []
  },
  "kernelspec": {
   "display_name": "Python 3",
   "language": "python",
   "name": "python3"
  },
  "language_info": {
   "codemirror_mode": {
    "name": "ipython",
    "version": 3
   },
   "file_extension": ".py",
   "mimetype": "text/x-python",
   "name": "python",
   "nbconvert_exporter": "python",
   "pygments_lexer": "ipython3",
   "version": "3.7.1"
  }
 },
 "nbformat": 4,
 "nbformat_minor": 1
}
